{
  "nbformat": 4,
  "nbformat_minor": 0,
  "metadata": {
    "colab": {
      "name": "Rosalind - LCSQ",
      "provenance": [],
      "collapsed_sections": []
    },
    "kernelspec": {
      "name": "python3",
      "display_name": "Python 3"
    }
  },
  "cells": [
    {
      "cell_type": "code",
      "metadata": {
        "colab": {
          "base_uri": "https://localhost:8080/"
        },
        "id": "zmaeupuKE_1M",
        "outputId": "28b4184b-b30f-4d26-b26f-02b9dcc89401"
      },
      "source": [
        "!pip install biopython"
      ],
      "execution_count": null,
      "outputs": [
        {
          "output_type": "stream",
          "text": [
            "Requirement already satisfied: biopython in /usr/local/lib/python3.7/dist-packages (1.78)\n",
            "Requirement already satisfied: numpy in /usr/local/lib/python3.7/dist-packages (from biopython) (1.19.5)\n"
          ],
          "name": "stdout"
        }
      ]
    },
    {
      "cell_type": "code",
      "metadata": {
        "id": "pE-A5bqvG9Pd"
      },
      "source": [
        "from Bio import SeqIO"
      ],
      "execution_count": null,
      "outputs": []
    },
    {
      "cell_type": "code",
      "metadata": {
        "colab": {
          "base_uri": "https://localhost:8080/"
        },
        "id": "mozQxWIeHVy5",
        "outputId": "1b88ab64-8782-4ead-e2ca-f19dcc7dc0bb"
      },
      "source": [
        "from io import StringIO\r\n",
        "\r\n",
        "data = \"\"\">Rosalind_23\r\n",
        "AACCTTGG\r\n",
        ">Rosalind_64\r\n",
        "ACACTGTGA\"\"\"\r\n",
        "\r\n",
        "elements = list(SeqIO.parse(StringIO(data), \"fasta\"))\r\n",
        "elements"
      ],
      "execution_count": null,
      "outputs": [
        {
          "output_type": "execute_result",
          "data": {
            "text/plain": [
              "[SeqRecord(seq=Seq('AACCTTGG'), id='Rosalind_23', name='Rosalind_23', description='Rosalind_23', dbxrefs=[]),\n",
              " SeqRecord(seq=Seq('ACACTGTGA'), id='Rosalind_64', name='Rosalind_64', description='Rosalind_64', dbxrefs=[])]"
            ]
          },
          "metadata": {
            "tags": []
          },
          "execution_count": 112
        }
      ]
    },
    {
      "cell_type": "code",
      "metadata": {
        "colab": {
          "base_uri": "https://localhost:8080/"
        },
        "id": "2ceubpgbHo7a",
        "outputId": "f8a60bb3-e3a0-4146-ce07-827a80a2a582"
      },
      "source": [
        "elements[0].seq, elements[1].seq"
      ],
      "execution_count": null,
      "outputs": [
        {
          "output_type": "execute_result",
          "data": {
            "text/plain": [
              "(Seq('AACCTTGG'), Seq('ACACTGTGA'))"
            ]
          },
          "metadata": {
            "tags": []
          },
          "execution_count": 113
        }
      ]
    },
    {
      "cell_type": "markdown",
      "metadata": {
        "id": "dQy1lK4uH8tv"
      },
      "source": [
        "```\r\n",
        "  -AAC\r\n",
        "- 0000\r\n",
        "A 01 \r\n",
        "C 0\r\n",
        "A 0\r\n",
        "```\r\n",
        "\r\n",
        "(...)A, (...)A ===> (...) + 1\r\n",
        "\r\n",
        "(...1)A, (...2)B ===> (...1), (...2)\r\n"
      ]
    },
    {
      "cell_type": "code",
      "metadata": {
        "id": "wkR8oUTFH0Rh"
      },
      "source": [
        "import numpy as np\r\n",
        "\r\n",
        "FROM_UP = 10\r\n",
        "FROM_LEFT = 20\r\n",
        "FROM_DIAGONAL = 30\r\n",
        "\r\n",
        "def lcs(seq1, seq2):\r\n",
        "  cost = np.zeros((len(seq1) + 1, len(seq2) + 1))\r\n",
        "  path = np.zeros(cost.shape)\r\n",
        "  for j in range(1, len(seq1) + 1):\r\n",
        "    for i in range(1, len(seq2) + 1):\r\n",
        "      match = seq2[i - 1] == seq1[j - 1]\r\n",
        "      cost[j][i] = max(cost[j - 1][i], cost[j][i-1], cost[j - 1][i-1] + match)\r\n",
        "      if cost[j][i] == cost[j-1][i]:\r\n",
        "        path[j][i] = FROM_UP\r\n",
        "      elif cost[j][i] == cost[j][i - 1]:\r\n",
        "        path[j][i] = FROM_LEFT\r\n",
        "      else:\r\n",
        "        path[j][i] = FROM_DIAGONAL\r\n",
        "\r\n",
        "  return cost, path"
      ],
      "execution_count": null,
      "outputs": []
    },
    {
      "cell_type": "code",
      "metadata": {
        "colab": {
          "base_uri": "https://localhost:8080/"
        },
        "id": "y_O9JZ0AMHuw",
        "outputId": "4e6747b0-f1a3-4d88-9be0-dbfde070570c"
      },
      "source": [
        "lcs(\"VANESSA\",\"GUILHERME\")"
      ],
      "execution_count": null,
      "outputs": [
        {
          "output_type": "execute_result",
          "data": {
            "text/plain": [
              "(array([[0., 0., 0., 0., 0., 0., 0., 0., 0., 0.],\n",
              "        [0., 0., 0., 0., 0., 0., 0., 0., 0., 0.],\n",
              "        [0., 0., 0., 0., 0., 0., 0., 0., 0., 0.],\n",
              "        [0., 0., 0., 0., 0., 0., 0., 0., 0., 0.],\n",
              "        [0., 0., 0., 0., 0., 0., 1., 1., 1., 1.],\n",
              "        [0., 0., 0., 0., 0., 0., 1., 1., 1., 1.],\n",
              "        [0., 0., 0., 0., 0., 0., 1., 1., 1., 1.],\n",
              "        [0., 0., 0., 0., 0., 0., 1., 1., 1., 1.]]),\n",
              " array([[ 0.,  0.,  0.,  0.,  0.,  0.,  0.,  0.,  0.,  0.],\n",
              "        [ 0., 10., 10., 10., 10., 10., 10., 10., 10., 10.],\n",
              "        [ 0., 10., 10., 10., 10., 10., 10., 10., 10., 10.],\n",
              "        [ 0., 10., 10., 10., 10., 10., 10., 10., 10., 10.],\n",
              "        [ 0., 10., 10., 10., 10., 10., 30., 20., 20., 20.],\n",
              "        [ 0., 10., 10., 10., 10., 10., 10., 10., 10., 10.],\n",
              "        [ 0., 10., 10., 10., 10., 10., 10., 10., 10., 10.],\n",
              "        [ 0., 10., 10., 10., 10., 10., 10., 10., 10., 10.]]))"
            ]
          },
          "metadata": {
            "tags": []
          },
          "execution_count": 115
        }
      ]
    },
    {
      "cell_type": "code",
      "metadata": {
        "colab": {
          "base_uri": "https://localhost:8080/"
        },
        "id": "r892vSRGI8BO",
        "outputId": "c86fc53e-4224-4e65-c429-53811ca727c3"
      },
      "source": [
        "lcs(elements[0].seq, elements[1].seq)"
      ],
      "execution_count": null,
      "outputs": [
        {
          "output_type": "execute_result",
          "data": {
            "text/plain": [
              "(array([[0., 0., 0., 0., 0., 0., 0., 0., 0., 0.],\n",
              "        [0., 1., 1., 1., 1., 1., 1., 1., 1., 1.],\n",
              "        [0., 1., 1., 2., 2., 2., 2., 2., 2., 2.],\n",
              "        [0., 1., 2., 2., 3., 3., 3., 3., 3., 3.],\n",
              "        [0., 1., 2., 2., 3., 3., 3., 3., 3., 3.],\n",
              "        [0., 1., 2., 2., 3., 4., 4., 4., 4., 4.],\n",
              "        [0., 1., 2., 2., 3., 4., 4., 5., 5., 5.],\n",
              "        [0., 1., 2., 2., 3., 4., 5., 5., 6., 6.],\n",
              "        [0., 1., 2., 2., 3., 4., 5., 5., 6., 6.]]),\n",
              " array([[ 0.,  0.,  0.,  0.,  0.,  0.,  0.,  0.,  0.,  0.],\n",
              "        [ 0., 30., 20., 20., 20., 20., 20., 20., 20., 20.],\n",
              "        [ 0., 10., 10., 30., 20., 20., 20., 20., 20., 20.],\n",
              "        [ 0., 10., 30., 10., 30., 20., 20., 20., 20., 20.],\n",
              "        [ 0., 10., 10., 10., 10., 10., 10., 10., 10., 10.],\n",
              "        [ 0., 10., 10., 10., 10., 30., 20., 20., 20., 20.],\n",
              "        [ 0., 10., 10., 10., 10., 10., 10., 30., 20., 20.],\n",
              "        [ 0., 10., 10., 10., 10., 10., 30., 10., 30., 20.],\n",
              "        [ 0., 10., 10., 10., 10., 10., 10., 10., 10., 10.]]))"
            ]
          },
          "metadata": {
            "tags": []
          },
          "execution_count": 116
        }
      ]
    },
    {
      "cell_type": "code",
      "metadata": {
        "colab": {
          "base_uri": "https://localhost:8080/",
          "height": 122
        },
        "id": "Ti6LcecvI9he",
        "outputId": "9ec4461c-4c1a-48b7-e62c-146b423aef91"
      },
      "source": [
        "def print_lcs_path(path, seq1, seq2):\r\n",
        "  i, j = len(seq1), len(seq2)\r\n",
        "  content = \"\"\r\n",
        "  # print(path)\r\n",
        "  while i!=0 and j!=0:\r\n",
        "    # print(i, j)\r\n",
        "    if path[i][j] == FROM_LEFT:\r\n",
        "      j -= 1\r\n",
        "    elif path[i][j] == FROM_UP:\r\n",
        "      i -= 1\r\n",
        "    else:\r\n",
        "      content += seq2[j - 1]\r\n",
        "      i -= 1\r\n",
        "      j -= 1\r\n",
        "  return content[::-1]\r\n",
        "\r\n",
        "print_lcs_path(lcs(elements[0].seq, elements[1].seq)[1], elements[0].seq, elements[1].seq)"
      ],
      "execution_count": null,
      "outputs": [
        {
          "output_type": "execute_result",
          "data": {
            "application/vnd.google.colaboratory.intrinsic+json": {
              "type": "string"
            },
            "text/plain": [
              "'TTGTATCACCAGTTGTACCTGTGTAAATTACTCGGCATTTGGCGCGACGCCGTTTTTCGAGGACTCTGCTTAGATTCAGGTGGGGCGATAATGGAAAAGGGGGATAGCATTGTGTAGCCAGCTGTAAACTGGGTAATCCCAGGCTATAATCGCCAACACGAAGACGGTTTAGCGCAAATATCCATAGCGGGTACAAATTTGGCTGCGAGGGTCTGGTATCTTGCCGTCCTTTGGGTCCGTACCTGGAAGTTTGCCCAACACCAATACGATGTCGTCGAGAGTAAGAAAGATTTGGCTTTAAAACAGGATGCTCGCGTGTGGAGCCAAGCCCAGAAATCAGATCAAAGAGATCTCTGGGGTCCTTACATGCCGTGAGGGACCCTCTCACGCTAATTGTGCACTTACGCGACAAACCTGAGGCTTTAGAATGCAGAATCTGCGTATGCTCATACACGCATAGAGCATTGTCGTGTCGACTCACGCGATGGATTGATTGGGATGGCGGACCGTTTTACCGGTAATGCTACGGGGTTCTAGGATGTGTGACATGTTATGCTGGGAGATTTTAACGT'"
            ]
          },
          "metadata": {
            "tags": []
          },
          "execution_count": 109
        }
      ]
    },
    {
      "cell_type": "code",
      "metadata": {
        "colab": {
          "base_uri": "https://localhost:8080/"
        },
        "id": "dyFZXIGNLH_C",
        "outputId": "400aa405-c86d-4346-faa9-43ce2ae21890"
      },
      "source": [
        "from io import StringIO\r\n",
        "\r\n",
        "data = \"\"\">Rosalind_0882\r\n",
        "CCCCTATTGTCGGTCAGGGGCGTCCTAAGGAAAAAGGCCCGCTATGACAACTGTGCGATT\r\n",
        "GTCTCGCTGCCAGCGCCTTAAATAATCACACGACTCCCTGGAACTAATTTATGTGCGTGA\r\n",
        "GAAAGGCGTTATCATTTCTTCACTTCTCCCATATGAAGGGTTTACGAGACAAGGTTATGC\r\n",
        "ATGTTTGAACGTTCCTGCACTCTTACGGCTGCGGGATGTGTTAATATGTTCGCACGAAGC\r\n",
        "CGGTTAGTAACAGGGCCTGATGCTTTACGGCAAGGTGTGTTCGCCCTCAGACGCGAGGAT\r\n",
        "GTGGTGCCCGCCATTATCTGTCCGATAGCCGTGACCATGGCCTAGTTGATAAAGCCCGAC\r\n",
        "CTGGATTTCGCCTGAGTTCCAATAAGCAGACAGTCGAAGATGCTCGAGACCATTTATGCA\r\n",
        "AAGTTAGCAGCAAAATTCCCCTCAAAACCATCGCGTGGCCCCCGGAATCCCTCTCTCCGG\r\n",
        "TCGGCACTCTGTTAGGTGAAAAACATACTGTACAGCCCAAGCAGGTCCACCAGTAAAGAG\r\n",
        "AAGGGGGTCCTGGTCTTCTTCTGCAATAGATAGGCAGTTACGAGCTCCGAGTCGTCTTGT\r\n",
        "TCAGAAGAAATTACTGTTCCAAAGTGCTGTAGCGTGTCCACACATCATAGCGCTGTTGGA\r\n",
        "TGACGGAGCGCGTACTCGCATGTTGTCTTATCAGGTTTACTAACTAATCGCACGTTCGTG\r\n",
        "TCAAATCGTGAGTATCATTCAAGCGACCGAACTTGAGGTTCCTTACAAATGGATAGTTTC\r\n",
        "CCACAGATACCTGGCATATCTTCCTGCGATCGCTATGGACACTGATAAACGCACGGAATA\r\n",
        "CCATCTTGCCTTTCCGTCAGAGCCTGCTAGCAATTGACGTTAAACAGTGCTTCAGTTTCA\r\n",
        "TTGCTTTCTCGGGTGACGAAGCCACCCCTGTGCTTCGGACGATCCAAGAAAGGGGTC\r\n",
        ">Rosalind_0455\r\n",
        "GTTTACAATCCAGACGTACCACTTCCGATTATACTCTGACGAGATATAGCTGCCGTCCAG\r\n",
        "GCCAAGAACTCGGCATCAGGAAAGCTCAACCTACCAGGAGCAGCGAAATCTTCATAAGGT\r\n",
        "TTGCATGCGCGCCTTTAACACTTGGCTTACATACAACAATCTGGGCTCGTGGGAAGTATA\r\n",
        "CTAAGTCCGGAGCAAGCAAGGAGTATGTACAGTAAAACGTTAAAAGTCGTGGGTAACGTT\r\n",
        "ACCCATTTATAATATGCTAAGGGATATGCGCTAGATTCTAAGCTTTTTAAACAGGCATAT\r\n",
        "CCCAATACAAGATGACCATCGAAACAATCCTTGAGGCTTGCTTCCAAACTACAAAACACA\r\n",
        "TCAGTTAATCTGCACTTGCCGACCCGGGGGTACGAAAAACGGTCAGGGAACGCAATCCTC\r\n",
        "CGCACGCACGCTACGAGGGGGTCTGGCCCAGGCGTGCAGGACGCTAGGACGGGGCGTCGT\r\n",
        "AAGGAAATTACCGGGCGGAAGATATGAGGGGAGCCTTGCCGCTGTCCGCCGTTGATCCCC\r\n",
        "GACAAAGGTAGACAATTGGACAACAAGCTAAATGTTCCCCGGCGAGTACACGGTAGAAAT\r\n",
        "GTACTCTGTCTTGTATTATCACACCGAGTCCGACATGTAGGCACATGGTTACCTCCATCA\r\n",
        "TAGCAAACTATTACCTACAACGTTCGACACGTTATAGGCACTCGCCTCCATATTCTCCCT\r\n",
        "TGCATGGGCTAGTTCGTGGTACCGACTGGAGATGTCCATTAGACTTATCCTTGCGTACTT\r\n",
        "CGGGCTCTTGCCAATTGGGTGAGGCGAGCGAAGGGAGGCGCTAGCGCAGTCGCCGAATAG\r\n",
        "CAGCGGCGTGCCGATTATGGAGGCGTAGGCCCGCTCTTTTCCCAAC\r\n",
        "\"\"\"\r\n",
        "\r\n",
        "elements = list(SeqIO.parse(StringIO(data), \"fasta\"))\r\n",
        "elements"
      ],
      "execution_count": null,
      "outputs": [
        {
          "output_type": "execute_result",
          "data": {
            "text/plain": [
              "[SeqRecord(seq=Seq('CCCCTATTGTCGGTCAGGGGCGTCCTAAGGAAAAAGGCCCGCTATGACAACTGT...GTC'), id='Rosalind_0882', name='Rosalind_0882', description='Rosalind_0882', dbxrefs=[]),\n",
              " SeqRecord(seq=Seq('GTTTACAATCCAGACGTACCACTTCCGATTATACTCTGACGAGATATAGCTGCC...AAC'), id='Rosalind_0455', name='Rosalind_0455', description='Rosalind_0455', dbxrefs=[])]"
            ]
          },
          "metadata": {
            "tags": []
          },
          "execution_count": 126
        }
      ]
    },
    {
      "cell_type": "code",
      "metadata": {
        "colab": {
          "base_uri": "https://localhost:8080/",
          "height": 122
        },
        "id": "2bjsbQR_L71Y",
        "outputId": "aafd6bb3-49d7-4810-ec8c-2e67f7b6d99e"
      },
      "source": [
        "print_lcs_path(lcs(elements[0].seq, elements[1].seq)[1], elements[0].seq, elements[1].seq)"
      ],
      "execution_count": null,
      "outputs": [
        {
          "output_type": "execute_result",
          "data": {
            "application/vnd.google.colaboratory.intrinsic+json": {
              "type": "string"
            },
            "text/plain": [
              "'TTTCTCAGCGTCCACCCGTATACCTGCGATTGCTCGTCCAGGCCAAAATCCACAGGAACTAATACGGAGAGCGAATCTTCATAAGGTTTCAGCGGTTACATTGCTTCTCACTCTGGCTCGGGGAATATACAAGCCGGAGAACAGGGTATGTACGAAGTTGTCGTGGGAAGTTCCCATTATTGCTAGGGAATGGCTAGTTTAAGCTTTTCGCTATCCAATAAGAGACATCGAAACAACCTTAGCTTGCCAAACTCAAAACCATCGCTGCCCCGACCCGGGGGTAGAAAAACGTCAGAAGCATCCACCAGTAGAGGGGGTCTGGCCCGCGTGCAGACGCTGAGCGTCGTAAGAAATTACGCAAATTGAGGGACCTTGCGCTGTTGATGACGGAGCGGACCGCATGTTGCTACAGGTAAAATGACTCTGTCTGTATATCACACGACCGAATTAGGCACATGGTATCCACATAGCATATTCCTCACGTTGACACTATAACGCCTCCATTTCCTTGCAGGGCTAGTTCGTTAACAGTGCTTAGTTTCTTGCTTTCTCGGGTGACGAAGCCACCCCGTGCCGGCGTCCAAGAAGGGTC'"
            ]
          },
          "metadata": {
            "tags": []
          },
          "execution_count": 127
        }
      ]
    },
    {
      "cell_type": "code",
      "metadata": {
        "colab": {
          "base_uri": "https://localhost:8080/",
          "height": 35
        },
        "id": "EmqIHrN7L9pZ",
        "outputId": "a4193d67-660c-45ca-fd28-49047001df39"
      },
      "source": [
        "print_lcs_path(lcs(\"GUILHERME\", \"VANESSA\")[1], \"GUILHERME\", \"VANESSA\")"
      ],
      "execution_count": null,
      "outputs": [
        {
          "output_type": "execute_result",
          "data": {
            "application/vnd.google.colaboratory.intrinsic+json": {
              "type": "string"
            },
            "text/plain": [
              "'E'"
            ]
          },
          "metadata": {
            "tags": []
          },
          "execution_count": 119
        }
      ]
    },
    {
      "cell_type": "code",
      "metadata": {
        "colab": {
          "base_uri": "https://localhost:8080/",
          "height": 35
        },
        "id": "H-Zjk-tQMRo1",
        "outputId": "43c852f3-2131-4233-f4d4-45ea8497024a"
      },
      "source": [
        "print_lcs_path(lcs(\"CARDOSO\", \"VANESSA\")[1], \"CARDOSO\", \"VANESSA\")"
      ],
      "execution_count": null,
      "outputs": [
        {
          "output_type": "execute_result",
          "data": {
            "application/vnd.google.colaboratory.intrinsic+json": {
              "type": "string"
            },
            "text/plain": [
              "'AS'"
            ]
          },
          "metadata": {
            "tags": []
          },
          "execution_count": 120
        }
      ]
    },
    {
      "cell_type": "code",
      "metadata": {
        "colab": {
          "base_uri": "https://localhost:8080/",
          "height": 35
        },
        "id": "KVJs9GrgM7bf",
        "outputId": "94a378d6-9fd8-4655-de08-c6ceaafd4528"
      },
      "source": [
        "print_lcs_path(lcs(\"VANESSA\", \"GUILHERME\")[1], \"VANESSA\", \"GUILHERME\")"
      ],
      "execution_count": null,
      "outputs": [
        {
          "output_type": "execute_result",
          "data": {
            "application/vnd.google.colaboratory.intrinsic+json": {
              "type": "string"
            },
            "text/plain": [
              "'E'"
            ]
          },
          "metadata": {
            "tags": []
          },
          "execution_count": 121
        }
      ]
    },
    {
      "cell_type": "code",
      "metadata": {
        "colab": {
          "base_uri": "https://localhost:8080/",
          "height": 35
        },
        "id": "snNHbLX7NAQP",
        "outputId": "af1193ff-bb9c-4846-d4e8-85648da79351"
      },
      "source": [
        "print_lcs_path(lcs(\"VA\", \"VANESSA\")[1], \"VA\", \"VANESSA\")"
      ],
      "execution_count": null,
      "outputs": [
        {
          "output_type": "execute_result",
          "data": {
            "application/vnd.google.colaboratory.intrinsic+json": {
              "type": "string"
            },
            "text/plain": [
              "'VA'"
            ]
          },
          "metadata": {
            "tags": []
          },
          "execution_count": 122
        }
      ]
    },
    {
      "cell_type": "code",
      "metadata": {
        "colab": {
          "base_uri": "https://localhost:8080/",
          "height": 35
        },
        "id": "ULLnhxG3NjKS",
        "outputId": "a0f3e529-cd77-49f8-c595-2de5e392227c"
      },
      "source": [
        "print_lcs_path(lcs(\"VA\", \"AVANESSA\")[1], \"VA\", \"AVANESSA\")"
      ],
      "execution_count": null,
      "outputs": [
        {
          "output_type": "execute_result",
          "data": {
            "application/vnd.google.colaboratory.intrinsic+json": {
              "type": "string"
            },
            "text/plain": [
              "'VA'"
            ]
          },
          "metadata": {
            "tags": []
          },
          "execution_count": 123
        }
      ]
    },
    {
      "cell_type": "code",
      "metadata": {
        "colab": {
          "base_uri": "https://localhost:8080/",
          "height": 35
        },
        "id": "pF7C3YA-NmkE",
        "outputId": "8084e261-63c0-4b18-fea0-bcde29772a82"
      },
      "source": [
        "print_lcs_path(lcs(\"DA\", \"AVANESSDA\")[1], \"DA\", \"AVANESSDA\")"
      ],
      "execution_count": null,
      "outputs": [
        {
          "output_type": "execute_result",
          "data": {
            "application/vnd.google.colaboratory.intrinsic+json": {
              "type": "string"
            },
            "text/plain": [
              "'DA'"
            ]
          },
          "metadata": {
            "tags": []
          },
          "execution_count": 124
        }
      ]
    },
    {
      "cell_type": "code",
      "metadata": {
        "id": "JdnHEURwNrMM"
      },
      "source": [
        ""
      ],
      "execution_count": null,
      "outputs": []
    }
  ]
}