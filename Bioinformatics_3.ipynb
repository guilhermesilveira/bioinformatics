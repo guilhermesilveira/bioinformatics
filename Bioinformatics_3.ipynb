{
  "nbformat": 4,
  "nbformat_minor": 0,
  "metadata": {
    "colab": {
      "name": "Bioinformatics 3",
      "provenance": [],
      "collapsed_sections": []
    },
    "kernelspec": {
      "name": "python3",
      "display_name": "Python 3"
    }
  },
  "cells": [
    {
      "cell_type": "code",
      "metadata": {
        "id": "hRc2uXzh8AoS"
      },
      "source": [
        "import math\r\n",
        "import numpy as np"
      ],
      "execution_count": 22,
      "outputs": []
    },
    {
      "cell_type": "code",
      "metadata": {
        "id": "SWtePF9-GOms"
      },
      "source": [
        "import sys\r\n",
        "\r\n",
        "sys.setrecursionlimit(10**6) \r\n"
      ],
      "execution_count": 23,
      "outputs": []
    },
    {
      "cell_type": "code",
      "metadata": {
        "id": "h69ZtdPk8E_R"
      },
      "source": [
        "import requests\r\n",
        "\r\n",
        "# reads an uri and returns its content split by line, deals with \\n and \\r\r\n",
        "def read_uri(uri):\r\n",
        "  response = requests.get(uri)\r\n",
        "  content = response.text.strip().replace(\"\\r\", \"\").split(\"\\n\")\r\n",
        "  return content"
      ],
      "execution_count": 24,
      "outputs": []
    },
    {
      "cell_type": "code",
      "metadata": {
        "id": "AX5Z9YDXKYR6"
      },
      "source": [
        "def dp_change(money, coins):\r\n",
        "  # [0  1  2  3  4  5  6  7  8  9 10]\r\n",
        "  # [1 0 0 0 0 0 0 0 0 0 0]\r\n",
        "  # [0 1 0 1 0 0 0 0 0 0 0]\r\n",
        "  # [0 0 2 0 2 0 2 0 0 0 0]\r\n",
        "  # [0 0 0 3] i don't care about this situation\r\n",
        "  # [0 0 0 0 4]\r\n",
        "  possibles = [math.inf] * (money+1)\r\n",
        "  possibles[0] = 1\r\n",
        "  # assuming its always possible as if there is always a 1 coin denomination\r\n",
        "  for j in range(len(possibles)):\r\n",
        "    if possibles[j]:\r\n",
        "      for coin in coins:\r\n",
        "        if j + coin <= money:\r\n",
        "          possibles[j + coin] = min(possibles[j] + 1, possibles[j + coin])\r\n",
        "  return possibles[money] - 1"
      ],
      "execution_count": 25,
      "outputs": []
    },
    {
      "cell_type": "code",
      "metadata": {
        "colab": {
          "base_uri": "https://localhost:8080/"
        },
        "id": "GmYkufVXV3ty",
        "outputId": "bdda6544-9443-4b6d-eebb-68c05307eab5"
      },
      "source": [
        "print(dp_change(40,[50,25,20,10,5,1]))"
      ],
      "execution_count": 26,
      "outputs": [
        {
          "output_type": "stream",
          "text": [
            "2\n"
          ],
          "name": "stdout"
        }
      ]
    },
    {
      "cell_type": "code",
      "metadata": {
        "colab": {
          "base_uri": "https://localhost:8080/"
        },
        "id": "e2mHwRCjV5my",
        "outputId": "90b6b69e-59dd-4721-e501-4b502dacfb28"
      },
      "source": [
        "dp_change(17028, [14,5,3,1]) # 1218"
      ],
      "execution_count": 27,
      "outputs": [
        {
          "output_type": "execute_result",
          "data": {
            "text/plain": [
              "1218"
            ]
          },
          "metadata": {
            "tags": []
          },
          "execution_count": 27
        }
      ]
    },
    {
      "cell_type": "code",
      "metadata": {
        "id": "09ypeRMkXetZ"
      },
      "source": [
        "def list_string_to_ints(s):\r\n",
        "  return list(map(int, s.split()))\r\n",
        "\r\n",
        "def read_manhattan(uri):\r\n",
        "  content = read_uri(uri)\r\n",
        "  n, m = list(map(int, content[0].split()))\r\n",
        "  down = np.array(list(map(list_string_to_ints, content[1:n+1])))\r\n",
        "  right = np.array(list(map(list_string_to_ints, content[n+2:2*n+3])))\r\n",
        "  print(down, right)\r\n",
        "  return n, m, down, right"
      ],
      "execution_count": 28,
      "outputs": []
    },
    {
      "cell_type": "code",
      "metadata": {
        "colab": {
          "base_uri": "https://localhost:8080/"
        },
        "id": "XxxxP5za8QZu",
        "outputId": "51e1fc26-187e-4cec-c3bf-e3ae48dbc777"
      },
      "source": [
        "read_manhattan(\"https://raw.githubusercontent.com/guilhermesilveira/bioinformatics/main/datasets/manhattan.txt\")"
      ],
      "execution_count": 29,
      "outputs": [
        {
          "output_type": "stream",
          "text": [
            "[[1 0 2 4 3]\n",
            " [4 6 5 2 1]\n",
            " [4 4 5 2 1]\n",
            " [5 6 8 5 3]] [[3 2 4 0]\n",
            " [3 2 4 2]\n",
            " [0 7 3 3]\n",
            " [3 3 0 2]\n",
            " [1 3 2 2]]\n"
          ],
          "name": "stdout"
        },
        {
          "output_type": "execute_result",
          "data": {
            "text/plain": [
              "(4, 4, array([[1, 0, 2, 4, 3],\n",
              "        [4, 6, 5, 2, 1],\n",
              "        [4, 4, 5, 2, 1],\n",
              "        [5, 6, 8, 5, 3]]), array([[3, 2, 4, 0],\n",
              "        [3, 2, 4, 2],\n",
              "        [0, 7, 3, 3],\n",
              "        [3, 3, 0, 2],\n",
              "        [1, 3, 2, 2]]))"
            ]
          },
          "metadata": {
            "tags": []
          },
          "execution_count": 29
        }
      ]
    },
    {
      "cell_type": "code",
      "metadata": {
        "id": "K5HBCNUg9RNN"
      },
      "source": [
        "def longest_path(n, m, down, right):\r\n",
        "\r\n",
        "  # print(n, m, len(down), len(right))\r\n",
        "\r\n",
        "  maximal = [0] * (m+1)\r\n",
        "  for j in range(1, m + 1):\r\n",
        "    maximal[j] = maximal[j - 1] + right[0][j - 1]\r\n",
        "\r\n",
        "  # print(maximal)\r\n",
        "\r\n",
        "  for i in range(1, n+1):\r\n",
        "    new_maximal = [0] * (m + 1)\r\n",
        "    new_maximal[0] = maximal[0] + down[i - 1][0]\r\n",
        "    for j in range(1, m+1):\r\n",
        "      up = maximal[j] + down[i - 1][j]\r\n",
        "      left = new_maximal[j-1] + right[i][j - 1]\r\n",
        "      new_maximal[j] = max(up, left)\r\n",
        "    maximal = new_maximal\r\n",
        "  return maximal[m]"
      ],
      "execution_count": 30,
      "outputs": []
    },
    {
      "cell_type": "code",
      "metadata": {
        "colab": {
          "base_uri": "https://localhost:8080/"
        },
        "id": "UtiVzvx3-hTr",
        "outputId": "f1305f09-274f-4521-82fa-0eb48c6646f1"
      },
      "source": [
        "longest_path(*read_manhattan(\"https://raw.githubusercontent.com/guilhermesilveira/bioinformatics/main/datasets/manhattan.txt\"))"
      ],
      "execution_count": 31,
      "outputs": [
        {
          "output_type": "stream",
          "text": [
            "[[1 0 2 4 3]\n",
            " [4 6 5 2 1]\n",
            " [4 4 5 2 1]\n",
            " [5 6 8 5 3]] [[3 2 4 0]\n",
            " [3 2 4 2]\n",
            " [0 7 3 3]\n",
            " [3 3 0 2]\n",
            " [1 3 2 2]]\n"
          ],
          "name": "stdout"
        },
        {
          "output_type": "execute_result",
          "data": {
            "text/plain": [
              "34"
            ]
          },
          "metadata": {
            "tags": []
          },
          "execution_count": 31
        }
      ]
    },
    {
      "cell_type": "code",
      "metadata": {
        "colab": {
          "base_uri": "https://localhost:8080/"
        },
        "id": "FSxxM-dc-kPt",
        "outputId": "435885d8-ad7d-4f2c-ce48-f9142490f295"
      },
      "source": [
        "longest_path(*read_manhattan(\"https://raw.githubusercontent.com/guilhermesilveira/bioinformatics/main/datasets/dataset_261_10.txt\"))"
      ],
      "execution_count": 32,
      "outputs": [
        {
          "output_type": "stream",
          "text": [
            "[[4 3 3 1 3]\n",
            " [0 2 3 0 4]\n",
            " [3 1 2 2 4]\n",
            " [4 4 2 0 0]\n",
            " [1 2 1 4 0]\n",
            " [1 1 0 4 1]\n",
            " [1 0 1 2 0]\n",
            " [4 1 1 3 0]\n",
            " [4 2 0 1 3]\n",
            " [1 0 2 0 1]] [[3 4 0 0]\n",
            " [3 1 4 3]\n",
            " [4 1 1 1]\n",
            " [0 3 3 2]\n",
            " [4 4 1 0]\n",
            " [0 0 1 4]\n",
            " [3 0 2 3]\n",
            " [0 2 4 1]\n",
            " [3 1 4 3]\n",
            " [3 3 4 3]\n",
            " [2 1 4 2]]\n"
          ],
          "name": "stdout"
        },
        {
          "output_type": "execute_result",
          "data": {
            "text/plain": [
              "40"
            ]
          },
          "metadata": {
            "tags": []
          },
          "execution_count": 32
        }
      ]
    },
    {
      "cell_type": "code",
      "metadata": {
        "id": "z4C7rYA9Bjg6"
      },
      "source": [
        "def lcs(v, w):\r\n",
        "  lv = len(v)\r\n",
        "  lw = len(w)\r\n",
        "  s = np.zeros((lv + 1, lw + 1))\r\n",
        "  backtrack = np.zeros(s.shape)\r\n",
        "  for i in range(1, lv + 1):\r\n",
        "    for j in range(1, lw + 1):\r\n",
        "      matches = v[i-1] == w[j-1]\r\n",
        "      s[i, j] = max(s[i-1,j], s[i,j-1], s[i-1,j-1] + matches)\r\n",
        "      if s[i,j] == s[i-1,j]:\r\n",
        "          backtrack[i, j] = 1\r\n",
        "      elif s[i, j] == s[i, j-1]:\r\n",
        "          backtrack[i, j] = 2\r\n",
        "      else:\r\n",
        "          backtrack[i, j] = 0\r\n",
        "      # print(i, j, matches, v[i-1], w[j-1])\r\n",
        "      # print(s, backtrack)\r\n",
        "  return s, backtrack\r\n",
        "\r\n",
        "def lcs_output(backtrack, v, i, j):\r\n",
        "  # print(i, j)\r\n",
        "  if i == 0 or j == 0:\r\n",
        "    return \"\"\r\n",
        "  if backtrack[i, j] == 1:\r\n",
        "      return lcs_output(backtrack, v, i - 1, j)\r\n",
        "  elif backtrack[i, j] == 2:\r\n",
        "      return lcs_output(backtrack, v, i, j - 1)\r\n",
        "  else:\r\n",
        "      return lcs_output(backtrack, v, i - 1, j - 1) + v[i-1]"
      ],
      "execution_count": 33,
      "outputs": []
    },
    {
      "cell_type": "code",
      "metadata": {
        "colab": {
          "base_uri": "https://localhost:8080/",
          "height": 193
        },
        "id": "lVD9_ljkCrsU",
        "outputId": "bc65a937-7be0-46f1-fb1a-890282ab2480"
      },
      "source": [
        "s, bt = lcs(\"AACCTTGG\", \"ACACTGTGA\")\r\n",
        "print(bt)\r\n",
        "lcs_output(bt, \"AACCTTGG\", len(\"AACCTTGG\"), len(\"ACACTGTGA\"))"
      ],
      "execution_count": 34,
      "outputs": [
        {
          "output_type": "stream",
          "text": [
            "[[0. 0. 0. 0. 0. 0. 0. 0. 0. 0.]\n",
            " [0. 0. 2. 2. 2. 2. 2. 2. 2. 2.]\n",
            " [0. 1. 1. 0. 2. 2. 2. 2. 2. 2.]\n",
            " [0. 1. 0. 1. 0. 2. 2. 2. 2. 2.]\n",
            " [0. 1. 1. 1. 1. 1. 1. 1. 1. 1.]\n",
            " [0. 1. 1. 1. 1. 0. 2. 2. 2. 2.]\n",
            " [0. 1. 1. 1. 1. 1. 1. 0. 2. 2.]\n",
            " [0. 1. 1. 1. 1. 1. 0. 1. 0. 2.]\n",
            " [0. 1. 1. 1. 1. 1. 1. 1. 1. 1.]]\n"
          ],
          "name": "stdout"
        },
        {
          "output_type": "execute_result",
          "data": {
            "application/vnd.google.colaboratory.intrinsic+json": {
              "type": "string"
            },
            "text/plain": [
              "'AACTTG'"
            ]
          },
          "metadata": {
            "tags": []
          },
          "execution_count": 34
        }
      ]
    },
    {
      "cell_type": "code",
      "metadata": {
        "colab": {
          "base_uri": "https://localhost:8080/",
          "height": 141
        },
        "id": "-8PFsCDgCyD4",
        "outputId": "532ecd75-e6a6-4f37-e9db-db4b10e9cc93"
      },
      "source": [
        "s, bt = lcs(\"AA\", \"AC\")\r\n",
        "print(s)\r\n",
        "print(bt)\r\n",
        "lcs_output(bt, \"AA\", len(\"AA\"), len(\"AC\"))"
      ],
      "execution_count": 35,
      "outputs": [
        {
          "output_type": "stream",
          "text": [
            "[[0. 0. 0.]\n",
            " [0. 1. 1.]\n",
            " [0. 1. 1.]]\n",
            "[[0. 0. 0.]\n",
            " [0. 0. 2.]\n",
            " [0. 1. 1.]]\n"
          ],
          "name": "stdout"
        },
        {
          "output_type": "execute_result",
          "data": {
            "application/vnd.google.colaboratory.intrinsic+json": {
              "type": "string"
            },
            "text/plain": [
              "'A'"
            ]
          },
          "metadata": {
            "tags": []
          },
          "execution_count": 35
        }
      ]
    },
    {
      "cell_type": "code",
      "metadata": {
        "colab": {
          "base_uri": "https://localhost:8080/",
          "height": 141
        },
        "id": "PDLUe0KcFVBO",
        "outputId": "cb96c4a0-3035-496a-ff66-1daa14957f66"
      },
      "source": [
        "s1,s2 = \"CTTTTACGAGATACTCAGCCACTTCAATCCTGAGGATCGACAGGGTTATTGGCAGACAGGGCAATGCCGTTTTGCCCTGGATCGTACTGGCTTCCCCATTTATACCTCAGACATTTCATGAGTTGTCGACTCTCTCATACTATGTGCAAATTTATCCCCACGATGGGAACGATTACATATACTGGGCAGTGGATTGCGGTAAAATCGGCTGATCTGCAATGATGATTTGAAATTTCGTCTGCCCGGGATCGGTCTCGAAGAGAATTCATAATGCTTAAGCCTATACTTACAGCTATAGTGAGTCAATGAGTTACCTTAGGCTGCCCGTTGGGAGTCTTCTTCATCCTAACAGGCACGTAGCCTTCGAAATCTTTGATCCCTCAACCCTTATGCTAAGCGAAGAATGTTTCAACACGTTTGGTCTTACTCTGCGCTTTGCAGAAGTGGACCTTACGCCTATATCTGACGTACTCCAGTGCAATATTTCCGGGTAGCCCGGCTAAGTATTCACAGACAAAGTAGGCTTATGGATGCATACAAGAGTCCACCGATCGGTCATTGTATGAAGCAAACTTGTGCGTCAAAGTTCATGAATAGTCACATAATGCAAATGCACCAAAGCATCTCGTAGCAATGTCTGATGAGTAGAATAGGGCGAGGGAGGGGCGCACCTACGGTTTCTAGTCAATGCAGTACAGAAGGAGGAATATGAGGACTCCTTGAGAGAGATGGTAAGGGTCTTTAGACTGAAGTATCTTTTGAAACCGCCATCGGCAGGTTATTCGCTACCGGAAGGGCGACGTAGAAACGTAGTTTCATGGGTAGTAACTGCATAAATAATCGTTCTAATAACCTCTGGAGATTACATTTCACTCCATGAATTGGTGCTGATAGGTGTGTAACCCCAGCAGAGGGTG\", \"GACTACGATCAAGTCAGGTCCCAGAGCCTAGCATTGTCCCTTTTAGCAGCTGCGAATAATAGACCGCTTGCCTTTATCTCCCCCCGTACGGGGCCTAGTGCAATGAAAACTAGGCTTAAGGACCCTCAGTAAACACCGGTGTCATATTACACGGGCTCAAGTCGGCTTGTCAGCCAAAAAGTACTGGGACTCGAGGCTGCTCTCAATCTAGCAACGTCGCTTCGCGATATTTACGAAATTCGTCCTAGTCACATGATGGCAAGCCATAAGCGTCGAGTTAAAACTACCACGCTTGTCTAGCGCCATTGCTGTCCATGATACATACAAGGTAGTTCCATTGCATTGACTGAATAGAACAGTCAACGGATTCTTTTGCGACCGGCGGACCTAGAGCATAGGAGGGAGTGTATCCAGAAGCCACCGCGTTCAGGTAGTGGTGAGGTTGCTATTACAAGCATGTTCGGTGGGAGGAGGATTGTTTCCACGAAACCACTCGCCCCTCAAGCCCCGGGAACGATGACTAGGTGGATCTAGACAGTCAGGGTAATCAGAGTACTGAAATACGGAACAAATAGAGGGGGACAATCATGGCGGCGGGAGAGCGTAGCTTACAGGTACCAGTTCACGGTTATTTCCAACATGGTGGCGCTAAAACTCACTCGCCTTGATTCTGTAGCTGCCGTCGCAAAACTGAACCGTTGCGAGATCAGTTATGGCGCATGAAATGTTGCATATGTTTATAAGCCGTCAACTGCAAGTCAAGACCAATTGTTACTTCCCCTCTGCGAGTCGACTCAAACAGAACAGTTCGCAGAGATAACCGTACAAGGCCGGATATTGGCACCCGGTTAAGCCATTGATGGGACTTATAAACGTCCTCTAACGCCACCCCCGCATACTGAATATTTTAAAGGGCGTTGACAACATCGAACGACCTGCTTTAGATAGCATTGATCTGGTGCTTGCATTTTTTTAA\"\r\n",
        "print(len(s1), len(s2))\r\n",
        "s, bt = lcs(s1, s2)\r\n",
        "lcs_output(bt, s1, len(s1), len(s2))"
      ],
      "execution_count": 36,
      "outputs": [
        {
          "output_type": "stream",
          "text": [
            "917 976\n"
          ],
          "name": "stdout"
        },
        {
          "output_type": "execute_result",
          "data": {
            "application/vnd.google.colaboratory.intrinsic+json": {
              "type": "string"
            },
            "text/plain": [
              "'CTACGATATCAGCCCAACCTAGATGCTTTTGCAGCGGAATGCCGTTGCCTATCGTACGGCTTCAATACTAGCTTAAGGACCCTCATACATGTCAATTACCCCAGTGGCGTACAATACTGGGCAGTGATTGCAATCGCTTCGCGATATTTGAAATTCGTCTGCCGATGGCAAGAAATCATAACTAAGCTTCTACGCATGTGTCATGATACTACGGTAGTCTTCTTACTAAAGACAGTCAAATCTTTGACCCACCTAGCTAAGGAGTGTTCAAAGCACCGCGTTCAGAGTGGATTGCTATACGAGTTCGTGAAATTTCCGGTAGCCCGGCTAAGTATTAGACAGTAGGTAATCAGAGTACGATCGGCATGAGACAAATGGCGCAAAGTTCATAAGTCACATAATGCAAATCACCGCATCTGTAGCTGTCGATGAGTAGAATAGGGCAGAGGCATAGTTTTAGTCAATGCAGTCAAGAAATTGACTCCTTGGAGGATAACAGACTGAAGATAACCGCAGGCGGTATTGCACCGGAAGGGGACTAAAACGTTCTAGACGCATAAATATTTTAATAACTCGAGATCTTTATCATGATTGGTGCTGATTTTAA'"
            ]
          },
          "metadata": {
            "tags": []
          },
          "execution_count": 36
        }
      ]
    },
    {
      "cell_type": "code",
      "metadata": {
        "colab": {
          "base_uri": "https://localhost:8080/"
        },
        "id": "8Tcka-POGGAj",
        "outputId": "98353506-6e55-4cfb-8886-754cc47b7ea3"
      },
      "source": [
        "s1,s2 = \"ACCGTCTTAGCGATCAACACATTTAACAACGCGCCGCACCCCCCGTCAAACGAGCTTTTGGGCTCTTGTCCTTTTACAAGCTTCACGACGCATACAGCCTTGATCAACGGTTTGATCTGTCTCCCTTCAGCTGGCTTTAAAGGACATACATATGAAGGCCTTAATAAGGTCCGGGAACTCCACATATTCGGTACTGGGCAAACCCCATGAACCACCTCAACATGAAGAGTCCGAGGACTCTCACGATCCACCAATGCAGATCGGAACTGTGCGATCGCGTAATGAGCCGAGTACTTGGTTTGTGTTTAGGTTATGGGGGCCGGGAGCCGGTTCAATATAAGGAAGTAGTTGCAGATTAGTTGTTGCGAACGGTCATAAATTTGATGGGTAAACGTGAACTTAACAAACCGTGATAGCTAATCCTATGCATCCCTTACGTGGATCGACTCGAGTACCCAGGTGAACCGACTACTTGATAACCGGAAATCGCGGTATAAAAGCGCTCACGGTCAGGAGATATACCTCCAAGCAGTAGTCTTTCTGAGCCTAGAGTAGTAAATTACAGGGACGATGTCTTTTACCGAGGCAACATTTTATTGAGAATCACATGAGGCACAGGTAAAGGCGACATCACGATCGAGATCAACCCCTACTTGTTCAAAACATTGAGAACCAGCTCTGTTTTGGAACCTAGAAAGATAACGCATCCGCTTGATATTCCACGGCTTGTCCCTCTTGTGCGGTCCATCTATCGGAGTTTCCTCCGATACGACCCGCAATGTTTCCAGGCGTACGGTACTTTATGAATACACTCGCGCTGTAACCTGTTATGTGAAACACACACGACAGAGCTTCGCGTGGGCCCAGCGACCCGGTAATACTACATCACCGCACACGACCTCGAGCAGTCTTTGCCGGCGTCCGTAAGTAGTCTAAAGTTGTGTTGATGCTTGGGGTTAAAGCTAAATCGTCCGCAGAATACGACTCTCATCCCAAT\",\"ACCCGCACGCGCTTTGGTCTAGATTCTAGCTCCAACTTGCCTGCTAGATACTCTGTTAAAAGATGGTTTTACAACCCCCTCCTCTGTCCCTGGGGTATTATATAATACGTCGGATAGTCAGGTACAAATACAAGTGGGTGGGAATACTTTTCCTCGGATCCTAGACCACGGATTACTGCGTGGTTGACAAGAGTCGGCCCGGAGGGAAACGTGAAGGTTAGTGCAATTAAAGTCTCTAATGTGAAGCCTCCGCGAAGCGAGGAGTTTCTGAGATCGAGTACTATTTAGAGTTCGAAATCACGGCTTAACCTCACTGCCACGCATAACTTGCCGGCAATCCAGTTTTGCAACGATACTTAATTTGTGCAGCTCATCTTTGCTGTCCAGAAATAGAGCTAGTCGATCTCATCTTGCGGGTAGCCAGAAGTCCTACCGTCTCCTCCATGTAGCTTAAAAATTTCGGTGAGGATCAAAAATGATAAACGTGACAGGTAAGCTCCTACGTCTATCCTATGACCCCCGCGGCAGAATAGGTTGGTAGTGTTAGTGCGTGAGCTGGTAGAATAGAGCACACTTAGGGAAACGGGAACCGTTATGTAGGGCTGCGACACACAAAAAAGTGTTCGTTGGTAAGCTGCCTCTCCACTAAACAGGATTTCTCTGGATGATCCCATCGAAGCAAGTTACGCACCACGCCGAGGCGGACCCTGGTACTAGCTGCCCCCCCCTTTATGGGGCGCTCGTACATCAAGATGATCGCGGACTCAACCTGATTACGAGTTGTCCAAGTAGTCCAGGGTAAGAGAAACTGGAGAGA\"\r\n",
        "s, bt = lcs(s1, s2)\r\n",
        "len(lcs_output(bt, s1, len(s1), len(s2)))"
      ],
      "execution_count": 37,
      "outputs": [
        {
          "output_type": "execute_result",
          "data": {
            "text/plain": [
              "573"
            ]
          },
          "metadata": {
            "tags": []
          },
          "execution_count": 37
        }
      ]
    },
    {
      "cell_type": "code",
      "metadata": {
        "colab": {
          "base_uri": "https://localhost:8080/"
        },
        "id": "dOt9ujkLGxWp",
        "outputId": "434bd758-c05f-4d40-e80e-0733e0c08e70"
      },
      "source": [
        "len(\"ACCGCAGCGTCAATTTACAACGCCGCACCGTAAAGATGGTTTTACAACCCCCTCCCTGTCCGGTTTATTTCTCTAGTCAGGACAAATAAAGTGGTGGGAATACTTTCTCGGACCAGACCACTACTGGTGGTTGACAAGAGTCGGCCCGGAGGGAACTGGTTGTGTTAGTTATGGGCCCCGGAAGGAGAGTTGAGATCGAGTCTATTTGAGTCGAATCACGGCTAACCTATGCACCTACTTGCCGATCCAGTGAACGATACTTATACCATCGCGTAAAAAGGCTAGTCGATATCCTCCAGAGTAGTCTTCTGAGCTAAAAATTCGGGAGATCAAAAATATAAACTGACAGGTAAGCCTACGTCATCAACCCCCGCAAAATTGGAGTGTTTTGGCTAGAAAGAGCACCTTGAAACGGGCCTTTGTGGGTCCACACAGTTTCTGTAAGCTGTTCCACTACGGTCTTATGATCATCGGCAAGTTAGCACCACGCGAGGCGGACCCGGTACTACTCCCCCACGCTCGACATCTTGCGGCTCCTGATTAAGTTGTGTGTCGGGTAAAGAAACTGAGAGA\")"
      ],
      "execution_count": 38,
      "outputs": [
        {
          "output_type": "execute_result",
          "data": {
            "text/plain": [
              "573"
            ]
          },
          "metadata": {
            "tags": []
          },
          "execution_count": 38
        }
      ]
    },
    {
      "cell_type": "code",
      "metadata": {
        "colab": {
          "base_uri": "https://localhost:8080/"
        },
        "id": "gXtIg__gG29S",
        "outputId": "c2906632-0e13-4fd2-e3f6-0801de4478f8"
      },
      "source": [
        "s1, s2 = \"GACT\",\"ATG\"\r\n",
        "s, bt = lcs(s1, s2)\r\n",
        "r = lcs_output(bt, s1, len(s1), len(s2))\r\n",
        "print(len(r), r)"
      ],
      "execution_count": 39,
      "outputs": [
        {
          "output_type": "stream",
          "text": [
            "2 AT\n"
          ],
          "name": "stdout"
        }
      ]
    },
    {
      "cell_type": "code",
      "metadata": {
        "colab": {
          "base_uri": "https://localhost:8080/"
        },
        "id": "5F7wtIH5HBSy",
        "outputId": "b87079ef-df50-42ff-84d4-eb83b6fa3d3e"
      },
      "source": [
        "s1, s2 = \"ATG\", \"GACT\"\r\n",
        "s, bt = lcs(s1, s2)\r\n",
        "print(s, bt)\r\n",
        "r = lcs_output(bt, s1, len(s1), len(s2))\r\n",
        "print(len(r), r)"
      ],
      "execution_count": 40,
      "outputs": [
        {
          "output_type": "stream",
          "text": [
            "[[0. 0. 0. 0. 0.]\n",
            " [0. 0. 1. 1. 1.]\n",
            " [0. 0. 1. 1. 2.]\n",
            " [0. 1. 1. 1. 2.]] [[0. 0. 0. 0. 0.]\n",
            " [0. 1. 0. 2. 2.]\n",
            " [0. 1. 1. 1. 0.]\n",
            " [0. 0. 1. 1. 1.]]\n",
            "2 AT\n"
          ],
          "name": "stdout"
        }
      ]
    },
    {
      "cell_type": "code",
      "metadata": {
        "colab": {
          "base_uri": "https://localhost:8080/"
        },
        "id": "cl3tOQgdHNx6",
        "outputId": "66740351-3acc-4275-80dd-8c61f5c65b18"
      },
      "source": [
        "s1, s2 = \"AGAGTAGACACCTTGCGCTCTGTTTGATATGGAAGCTCGCAGGTCCAGAGTGAAATCATAGAAATTACCATAAGCGATGATATGAAGCACAGATCACTGTTTGTGCTCAGTGGCATCGACTCTATTTAAACATAGTATACCGGTTTATTATAGGTCCTGTGCCTGGCCTCGTGTGCCGTGCCTTGGGATTTGAACGCTGAACTACCCACGCGCACGGAAGGGGTTCCAGTGCGCTAACAATAACACTGTATCCCAGTCGAGTCTGATCGCCCTAGAAAAGCAATTGCACTCAGGGAAACGTGCGGCGGCTCGGTCATCTCGATTGACGTGGGGTCCGCCGCTGAATTTAAAGACAGGCTATGATTGTTCCTTAACCGATCAAGCATGCGATTATTGGTCCCCTATACTCTATTACGTAATGCGGTGATCTGGTACTGGCAGCTGTCGATCTCGTGAATCTCCCGCTGCATTATTCGCCGTACTACCGAATGAGAGTGATCCCCGCCGGGCACTGCACCTGTGCGCCGGAGAATCGAGTTCATCACAACCACTGCTACAGACCTCTATAGACCGTAGACCGACCCCACGGTCCGTTATGAAGGAAGTCCAAAAGAGGCGGATGTCCTACGCTCTCTTCGCAGATCTATTCATACCTCCGGGTAAATTCTATGACAGCCCTACCACGGGATATGTACACTCTCACATGGAGATTTTTAGGTACAGATATTCATTGATGTACAATGGGCGGAGCGCCAGCGGACCGACCGAAATATCGAGTGTCGAGGATCAATCACGTTGCTACGTGCACCCGGCACCCGACAAATTCACGTGCAGCCGTCTCTTGGTAAGCGGGCACCGTCACGGATCGTGCGTGCCTAGCCTAGTGCCCGTGGGGCTATTGCTGGGGTATCCCCTTGGGAGAAGTTACGACGTTGATGATCCC\", \"CAGGAAGTGGTAGATAACCACTAGCTGACCAAGCAACCAGCATTCATACAACTTATTTAGGGAAGAGAAGGAGCAAGGTGTGGAGAAGTCATACCCCGTATGGATACGTTATTTGGGTCCAGAAATTAGTATAGGTGCCAACGAACAATTTCGATTCAATTAGATAGCGGTTCGCACCTCCTTCGGAGTGTGTGCGCAGCAGCTATCTTGCCCGCAGAAAGAACGCGGTGTCCCTGGGCTAACCGGGATGGTAAGCATTTTATAATCTGTGCACACGTCTATCATGAGACCTCTTCATGCCCGGTCGAAGGCGTAGGGATCAGCGGCTGGGATGGCCAAGTGCACGCCTTTTATGAGGGGATCCACTCTACTTGCGATCGCAACGTGCTGGGGTACGGCAACGTCCCCAGTAGGCTCGTTGCTGTACACGACTGCAGGTACTTGTTGAGGCAGGGCGCCCAATATAGTGGTCTGGACTCCGGCCCCATGATATTGATTATCACGTCATCGTGCCAACCTGAAACGGACTTTAGCTAGATGCTGGTCTGGTAGAATCAGAGATCTCCTTGTCCGTCTGTAAATCAGTGCAATCACGGAAATGTTGACACTATGTATGATAATCTGTTTCGAAACCGAACACGGTACACGGCTACGTACACTCGGTGTGTACATCAGCCTCAGCGCCCGAATCTCTGCGAAGATCAATCCTTGACCTCGGTGATACTTCGCTTAAATGTCGCGATACACAGCGTTCATAGAATAAGTAAACATACGCTGTAAGCTGGATAAGAAGAATTTTAGAAACTCAA\"\r\n",
        "s, bt = lcs(s1, s2)\r\n",
        "r = lcs_output(bt, s1, len(s1), len(s2))\r\n",
        "print(len(r), r)"
      ],
      "execution_count": 41,
      "outputs": [
        {
          "output_type": "stream",
          "text": [
            "568 AGAGTAGACACTGCGCCAAGAACCGCATCATAAATATAGAAAAAAGCGTGTAGAAGCACAGATACGTTTTTGGGCAGATTATTTAAACAATTCGATTAATTGTGCGGTCGCCTCCTTGGGTTTGCGCGACTACCCCGCGAGAAGGGGTCCTGGCTAACATAACATTATCCCAGTCATCTGAGCCCTCATGCCCGGGAACGTGGGCGGCTGGATCCAAGTGCCGCCTTTTAGAGGGATCCTTACCGATCAAGCTGCGAAGTCCCCATACTCGTTGCGTACGACTGCAGGTACTTGTTGGCAGCGCCCAATAAGTGTCGGACTCCGGCCCAGAATGATTATCACCACTGCCAACCTCATAGCTAGAGCGGTCGTAGAATCAGAGATTCCTGTCTCTTAATCATCAATCCGGAAATTTGACACTAGTATGTAATCTCAAAGAAGGTACAGATACATTGTGTACATCAGCCCAGCGCCCGAATTCTGCGAGATCAATCCTTGCTCGTGAACCGCAAATTCCGTCAGCGTTCTGTAAGTACATCGCTGTAAGCTGGTAGGATTTAGAAACCAA\n"
          ],
          "name": "stdout"
        }
      ]
    },
    {
      "cell_type": "code",
      "metadata": {
        "colab": {
          "base_uri": "https://localhost:8080/",
          "height": 123
        },
        "id": "ekVjwqSpLCdN",
        "outputId": "b179344e-7fee-4eed-df02-0b09840a1adb"
      },
      "source": [
        "r"
      ],
      "execution_count": 42,
      "outputs": [
        {
          "output_type": "execute_result",
          "data": {
            "application/vnd.google.colaboratory.intrinsic+json": {
              "type": "string"
            },
            "text/plain": [
              "'AGAGTAGACACTGCGCCAAGAACCGCATCATAAATATAGAAAAAAGCGTGTAGAAGCACAGATACGTTTTTGGGCAGATTATTTAAACAATTCGATTAATTGTGCGGTCGCCTCCTTGGGTTTGCGCGACTACCCCGCGAGAAGGGGTCCTGGCTAACATAACATTATCCCAGTCATCTGAGCCCTCATGCCCGGGAACGTGGGCGGCTGGATCCAAGTGCCGCCTTTTAGAGGGATCCTTACCGATCAAGCTGCGAAGTCCCCATACTCGTTGCGTACGACTGCAGGTACTTGTTGGCAGCGCCCAATAAGTGTCGGACTCCGGCCCAGAATGATTATCACCACTGCCAACCTCATAGCTAGAGCGGTCGTAGAATCAGAGATTCCTGTCTCTTAATCATCAATCCGGAAATTTGACACTAGTATGTAATCTCAAAGAAGGTACAGATACATTGTGTACATCAGCCCAGCGCCCGAATTCTGCGAGATCAATCCTTGCTCGTGAACCGCAAATTCCGTCAGCGTTCTGTAAGTACATCGCTGTAAGCTGGTAGGATTTAGAAACCAA'"
            ]
          },
          "metadata": {
            "tags": []
          },
          "execution_count": 42
        }
      ]
    },
    {
      "cell_type": "code",
      "metadata": {
        "id": "SoRmbwIuxt9D"
      },
      "source": [
        "class Path:\r\n",
        "  def __init__(self, path):\r\n",
        "    self.path = path\r\n",
        "\r\n",
        "  def __repr__(self):\r\n",
        "    return \"->\".join(map(str,self.path))"
      ],
      "execution_count": 300,
      "outputs": []
    },
    {
      "cell_type": "code",
      "metadata": {
        "id": "LpT4k9EELGHo"
      },
      "source": [
        "from collections import defaultdict\r\n",
        "\r\n",
        "class Graph:\r\n",
        "\r\n",
        "  def __init__(self):\r\n",
        "    self.adjacency = defaultdict(dict)\r\n",
        "    self.all_nodes = set()\r\n",
        "\r\n",
        "  def connect(self, a, b, w):\r\n",
        "    self.adjacency[a][b] = w\r\n",
        "    self.all_nodes.add(a)\r\n",
        "    self.all_nodes.add(b)\r\n",
        "\r\n",
        "  def __topological_dfs(self, current, stack, visited):\r\n",
        "    if current in visited:\r\n",
        "      return stack\r\n",
        "    visited.add(current)\r\n",
        "    neighboors = self.adjacency[current].keys()\r\n",
        "    for node in neighboors:\r\n",
        "      self.__topological_dfs(node, stack, visited)\r\n",
        "    stack.append(current)\r\n",
        "    return stack\r\n",
        "\r\n",
        "  # unfortunately, there is no need for all N to be on the [0,...,N-1] interval :(  \r\n",
        "  def __max_nodes_required(self):\r\n",
        "    return (max(self.all_nodes) + 1)\r\n",
        "\r\n",
        "\r\n",
        "  def components(self):\r\n",
        "    components = [0] * self.__max_nodes_required()\r\n",
        "    for i in self.all_nodes:\r\n",
        "      components[i] = i\r\n",
        "    # can be implemented faster with references, this is O(n^3)\r\n",
        "    for i in self.all_nodes:\r\n",
        "      for j in self.adjacency[i].keys():\r\n",
        "        for k in self.all_nodes:\r\n",
        "          if components[k] == j:\r\n",
        "            components[k] = components[i]\r\n",
        "    return components\r\n",
        "\r\n",
        "  def component_containing(self, key):\r\n",
        "    components = self.components()\r\n",
        "    component = {i for i in self.all_nodes if components[i] == components[key]}\r\n",
        "    return component\r\n",
        "\r\n",
        "  # DFS implementation, nasty...\r\n",
        "  def longest_path(self, starting, ending):\r\n",
        "    component = self.component_containing(starting)\r\n",
        "    topological = self.topological()\r\n",
        "    topological_on_path = [i for i in topological if i in component]\r\n",
        "    max_distance = [0] * self.__max_nodes_required()\r\n",
        "    previous = [-1] * self.__max_nodes_required()\r\n",
        "    appeared = False\r\n",
        "    for a in topological:\r\n",
        "      # print(a, component, appeared)\r\n",
        "      if a == starting:\r\n",
        "        appeared = True\r\n",
        "      if a in component and appeared:\r\n",
        "        for b, w in self.adjacency[a].items():\r\n",
        "          new_distance = max_distance[a] + w\r\n",
        "          if new_distance > max_distance[b]:\r\n",
        "            max_distance[b] = new_distance\r\n",
        "            previous[b] = a\r\n",
        "    path = [ending]\r\n",
        "    current = ending\r\n",
        "    while current != starting:\r\n",
        "      current = previous[current]\r\n",
        "      path.append(current)\r\n",
        "    path = list(reversed(path))\r\n",
        "    return max_distance[ending], Path(path)\r\n",
        "\r\n",
        "\r\n",
        "  def topological(self):\r\n",
        "    stack = []\r\n",
        "    visited = set()\r\n",
        "    for i in self.all_nodes:\r\n",
        "      self.__topological_dfs(i, stack, visited)\r\n",
        "    return list(reversed(stack))\r\n",
        "\r\n",
        "  def __repr__(self):\r\n",
        "    return f\"{self.all_nodes}:::{self.adjacency.__repr__()}\""
      ],
      "execution_count": 301,
      "outputs": []
    },
    {
      "cell_type": "code",
      "metadata": {
        "id": "Ywl4gNnlxr8K"
      },
      "source": [
        ""
      ],
      "execution_count": 301,
      "outputs": []
    },
    {
      "cell_type": "code",
      "metadata": {
        "id": "b3pzlkx0mOXt"
      },
      "source": [
        "def adjancecy_string_to_graph(adj_string: str):\r\n",
        "  graph = Graph()\r\n",
        "  for line in adj_string.split(\"\\n\"):\r\n",
        "    a = int(line.split(\"->\")[0])\r\n",
        "    b = int(line.split(\"->\")[1].split(\":\")[0])\r\n",
        "    w = int(line.split(\":\")[1])\r\n",
        "    graph.connect(a, b, w)\r\n",
        "  return graph"
      ],
      "execution_count": 302,
      "outputs": []
    },
    {
      "cell_type": "code",
      "metadata": {
        "colab": {
          "base_uri": "https://localhost:8080/"
        },
        "id": "I5odGE9dnD36",
        "outputId": "0e60ff14-a924-4306-e769-6c466f480415"
      },
      "source": [
        "g = adjancecy_string_to_graph(\"\"\"0->1:7\r\n",
        "0->2:4\r\n",
        "2->3:2\r\n",
        "1->4:1\r\n",
        "3->4:3\r\n",
        "5->6:10\"\"\")\r\n",
        "g"
      ],
      "execution_count": 303,
      "outputs": [
        {
          "output_type": "execute_result",
          "data": {
            "text/plain": [
              "{0, 1, 2, 3, 4, 5, 6}:::defaultdict(<class 'dict'>, {0: {1: 7, 2: 4}, 2: {3: 2}, 1: {4: 1}, 3: {4: 3}, 5: {6: 10}})"
            ]
          },
          "metadata": {
            "tags": []
          },
          "execution_count": 303
        }
      ]
    },
    {
      "cell_type": "code",
      "metadata": {
        "colab": {
          "base_uri": "https://localhost:8080/"
        },
        "id": "JZ_xdDo0nF3K",
        "outputId": "47a8c87f-f1dc-48ae-9256-173d7681c8ef"
      },
      "source": [
        "g.topological()"
      ],
      "execution_count": 304,
      "outputs": [
        {
          "output_type": "execute_result",
          "data": {
            "text/plain": [
              "[5, 6, 0, 2, 3, 1, 4]"
            ]
          },
          "metadata": {
            "tags": []
          },
          "execution_count": 304
        }
      ]
    },
    {
      "cell_type": "code",
      "metadata": {
        "colab": {
          "base_uri": "https://localhost:8080/"
        },
        "id": "dcKqBNOFoewT",
        "outputId": "bed5cf90-a759-4dc1-9054-cafee150b6e5"
      },
      "source": [
        "g.component_containing(0)"
      ],
      "execution_count": 305,
      "outputs": [
        {
          "output_type": "execute_result",
          "data": {
            "text/plain": [
              "{0, 1, 2, 3, 4}"
            ]
          },
          "metadata": {
            "tags": []
          },
          "execution_count": 305
        }
      ]
    },
    {
      "cell_type": "code",
      "metadata": {
        "colab": {
          "base_uri": "https://localhost:8080/"
        },
        "id": "o9TnY64ApFpj",
        "outputId": "14b8c992-4bdb-4ebb-cfe4-ea37121a45c4"
      },
      "source": [
        "g.longest_path(0, 4)"
      ],
      "execution_count": 306,
      "outputs": [
        {
          "output_type": "execute_result",
          "data": {
            "text/plain": [
              "(9, 0->2->3->4)"
            ]
          },
          "metadata": {
            "tags": []
          },
          "execution_count": 306
        }
      ]
    },
    {
      "cell_type": "code",
      "metadata": {
        "colab": {
          "base_uri": "https://localhost:8080/"
        },
        "id": "S9f8rjJxt_jq",
        "outputId": "30a38766-2698-4a36-859d-e66b3cabf47e"
      },
      "source": [
        "g = adjancecy_string_to_graph(\"\"\"0->6:11\r\n",
        "6->12:11\r\n",
        "12->30:1\r\n",
        "30->49:10\r\n",
        "7->47:3\r\n",
        "15->42:19\r\n",
        "48->49:20\r\n",
        "42->49:9\r\n",
        "23->43:1\r\n",
        "18->42:4\r\n",
        "37->42:2\r\n",
        "38->47:2\r\n",
        "28->41:15\r\n",
        "18->33:10\r\n",
        "0->42:6\r\n",
        "1->49:16\r\n",
        "16->31:18\r\n",
        "32->35:4\r\n",
        "26->44:10\r\n",
        "7->40:11\r\n",
        "25->28:15\r\n",
        "34->41:1\r\n",
        "31->42:5\r\n",
        "25->42:17\r\n",
        "17->34:10\r\n",
        "22->27:13\r\n",
        "17->22:16\r\n",
        "19->35:15\r\n",
        "24->35:18\r\n",
        "36->47:19\r\n",
        "25->49:18\r\n",
        "15->29:15\r\n",
        "17->21:6\r\n",
        "10->33:6\r\n",
        "0->47:14\r\n",
        "5->20:2\r\n",
        "7->43:4\r\n",
        "40->41:13\r\n",
        "12->35:16\r\n",
        "30->42:4\r\n",
        "16->39:2\r\n",
        "24->48:2\r\n",
        "23->31:7\r\n",
        "16->20:4\r\n",
        "20->29:19\r\n",
        "46->49:4\r\n",
        "5->28:12\r\n",
        "25->37:7\r\n",
        "35->41:11\r\n",
        "45->47:1\r\n",
        "14->15:14\r\n",
        "0->35:7\r\n",
        "11->32:12\r\n",
        "36->41:12\r\n",
        "3->27:11\r\n",
        "29->40:17\r\n",
        "22->33:8\r\n",
        "19->23:20\r\n",
        "21->30:11\r\n",
        "33->44:15\r\n",
        "17->47:9\r\n",
        "8->26:13\r\n",
        "18->19:14\r\n",
        "3->40:12\r\n",
        "46->47:19\r\n",
        "41->47:16\r\n",
        "13->31:18\r\n",
        "1->18:8\r\n",
        "32->41:2\r\n",
        "32->38:13\r\n",
        "11->16:18\r\n",
        "27->49:3\r\n",
        "44->49:9\r\n",
        "4->41:16\r\n",
        "13->15:17\r\n",
        "39->41:2\r\n",
        "10->32:9\r\n",
        "37->39:16\r\n",
        "3->16:4\r\n",
        "8->28:2\r\n",
        "4->23:20\r\n",
        "41->48:16\r\n",
        "18->28:15\r\n",
        "14->34:12\r\n",
        "18->44:18\r\n",
        "7->8:12\r\n",
        "31->41:11\r\n",
        "5->49:9\r\n",
        "0->26:16\r\n",
        "38->42:16\r\n",
        "0->1:7\r\n",
        "1->3:18\r\n",
        "3->4:15\r\n",
        "4->5:19\r\n",
        "5->7:10\r\n",
        "7->10:17\r\n",
        "10->11:8\r\n",
        "11->13:8\r\n",
        "13->14:12\r\n",
        "14->17:12\r\n",
        "17->24:16\r\n",
        "24->25:14\r\n",
        "25->36:18\r\n",
        "36->45:16\r\n",
        "45->46:15\"\"\")\r\n",
        "g.longest_path(0, 49)"
      ],
      "execution_count": 307,
      "outputs": [
        {
          "output_type": "execute_result",
          "data": {
            "text/plain": [
              "(222, 0->1->3->4->5->7->10->11->13->14->17->24->25->36->41->48->49)"
            ]
          },
          "metadata": {
            "tags": []
          },
          "execution_count": 307
        }
      ]
    },
    {
      "cell_type": "code",
      "metadata": {
        "id": "oy547m2yy8Jx"
      },
      "source": [
        ""
      ],
      "execution_count": null,
      "outputs": []
    }
  ]
}