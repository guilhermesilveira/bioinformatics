{
  "nbformat": 4,
  "nbformat_minor": 0,
  "metadata": {
    "colab": {
      "name": "Bioinformatics 3",
      "provenance": [],
      "collapsed_sections": []
    },
    "kernelspec": {
      "name": "python3",
      "display_name": "Python 3"
    }
  },
  "cells": [
    {
      "cell_type": "code",
      "metadata": {
        "id": "hRc2uXzh8AoS"
      },
      "source": [
        "import math\r\n",
        "import numpy as np\r\n",
        "from typing import List"
      ],
      "execution_count": 1,
      "outputs": []
    },
    {
      "cell_type": "code",
      "metadata": {
        "id": "SWtePF9-GOms"
      },
      "source": [
        "import sys\r\n",
        "\r\n",
        "sys.setrecursionlimit(10**6) \r\n"
      ],
      "execution_count": 2,
      "outputs": []
    },
    {
      "cell_type": "code",
      "metadata": {
        "id": "h69ZtdPk8E_R"
      },
      "source": [
        "import requests\r\n",
        "\r\n",
        "# reads an uri and returns its content split by line, deals with \\n and \\r\r\n",
        "def read_uri(uri):\r\n",
        "  response = requests.get(uri)\r\n",
        "  content = response.text.strip().replace(\"\\r\", \"\").split(\"\\n\")\r\n",
        "  return content"
      ],
      "execution_count": 3,
      "outputs": []
    },
    {
      "cell_type": "code",
      "metadata": {
        "id": "AX5Z9YDXKYR6"
      },
      "source": [
        "def dp_change(money, coins):\r\n",
        "  # [0  1  2  3  4  5  6  7  8  9 10]\r\n",
        "  # [1 0 0 0 0 0 0 0 0 0 0]\r\n",
        "  # [0 1 0 1 0 0 0 0 0 0 0]\r\n",
        "  # [0 0 2 0 2 0 2 0 0 0 0]\r\n",
        "  # [0 0 0 3] i don't care about this situation\r\n",
        "  # [0 0 0 0 4]\r\n",
        "  possibles = [math.inf] * (money+1)\r\n",
        "  possibles[0] = 1\r\n",
        "  # assuming its always possible as if there is always a 1 coin denomination\r\n",
        "  for j in range(len(possibles)):\r\n",
        "    if possibles[j]:\r\n",
        "      for coin in coins:\r\n",
        "        if j + coin <= money:\r\n",
        "          possibles[j + coin] = min(possibles[j] + 1, possibles[j + coin])\r\n",
        "  return possibles[money] - 1"
      ],
      "execution_count": 4,
      "outputs": []
    },
    {
      "cell_type": "code",
      "metadata": {
        "colab": {
          "base_uri": "https://localhost:8080/"
        },
        "id": "GmYkufVXV3ty",
        "outputId": "f418096a-df87-4386-fb2e-6acca250ed23"
      },
      "source": [
        "print(dp_change(40,[50,25,20,10,5,1]))"
      ],
      "execution_count": 5,
      "outputs": [
        {
          "output_type": "stream",
          "text": [
            "2\n"
          ],
          "name": "stdout"
        }
      ]
    },
    {
      "cell_type": "code",
      "metadata": {
        "colab": {
          "base_uri": "https://localhost:8080/"
        },
        "id": "e2mHwRCjV5my",
        "outputId": "7dcfc90f-7757-4708-ef40-ab4cf5cf93de"
      },
      "source": [
        "dp_change(17028, [14,5,3,1]) # 1218"
      ],
      "execution_count": 6,
      "outputs": [
        {
          "output_type": "execute_result",
          "data": {
            "text/plain": [
              "1218"
            ]
          },
          "metadata": {
            "tags": []
          },
          "execution_count": 6
        }
      ]
    },
    {
      "cell_type": "code",
      "metadata": {
        "id": "09ypeRMkXetZ"
      },
      "source": [
        "def list_string_to_ints(s):\r\n",
        "  return list(map(int, s.split()))\r\n",
        "\r\n",
        "def read_manhattan(uri):\r\n",
        "  content = read_uri(uri)\r\n",
        "  n, m = list(map(int, content[0].split()))\r\n",
        "  down = np.array(list(map(list_string_to_ints, content[1:n+1])))\r\n",
        "  right = np.array(list(map(list_string_to_ints, content[n+2:2*n+3])))\r\n",
        "  print(down, right)\r\n",
        "  return n, m, down, right"
      ],
      "execution_count": 7,
      "outputs": []
    },
    {
      "cell_type": "code",
      "metadata": {
        "colab": {
          "base_uri": "https://localhost:8080/"
        },
        "id": "XxxxP5za8QZu",
        "outputId": "29e21263-f20e-477a-c741-7721f4a0f24a"
      },
      "source": [
        "read_manhattan(\"https://raw.githubusercontent.com/guilhermesilveira/bioinformatics/main/datasets/manhattan.txt\")"
      ],
      "execution_count": 8,
      "outputs": [
        {
          "output_type": "stream",
          "text": [
            "[[1 0 2 4 3]\n",
            " [4 6 5 2 1]\n",
            " [4 4 5 2 1]\n",
            " [5 6 8 5 3]] [[3 2 4 0]\n",
            " [3 2 4 2]\n",
            " [0 7 3 3]\n",
            " [3 3 0 2]\n",
            " [1 3 2 2]]\n"
          ],
          "name": "stdout"
        },
        {
          "output_type": "execute_result",
          "data": {
            "text/plain": [
              "(4, 4, array([[1, 0, 2, 4, 3],\n",
              "        [4, 6, 5, 2, 1],\n",
              "        [4, 4, 5, 2, 1],\n",
              "        [5, 6, 8, 5, 3]]), array([[3, 2, 4, 0],\n",
              "        [3, 2, 4, 2],\n",
              "        [0, 7, 3, 3],\n",
              "        [3, 3, 0, 2],\n",
              "        [1, 3, 2, 2]]))"
            ]
          },
          "metadata": {
            "tags": []
          },
          "execution_count": 8
        }
      ]
    },
    {
      "cell_type": "code",
      "metadata": {
        "id": "K5HBCNUg9RNN"
      },
      "source": [
        "def longest_path(n, m, down, right):\r\n",
        "\r\n",
        "  # print(n, m, len(down), len(right))\r\n",
        "\r\n",
        "  maximal = [0] * (m+1)\r\n",
        "  for j in range(1, m + 1):\r\n",
        "    maximal[j] = maximal[j - 1] + right[0][j - 1]\r\n",
        "\r\n",
        "  # print(maximal)\r\n",
        "\r\n",
        "  for i in range(1, n+1):\r\n",
        "    new_maximal = [0] * (m + 1)\r\n",
        "    new_maximal[0] = maximal[0] + down[i - 1][0]\r\n",
        "    for j in range(1, m+1):\r\n",
        "      up = maximal[j] + down[i - 1][j]\r\n",
        "      left = new_maximal[j-1] + right[i][j - 1]\r\n",
        "      new_maximal[j] = max(up, left)\r\n",
        "    maximal = new_maximal\r\n",
        "  return maximal[m]"
      ],
      "execution_count": 9,
      "outputs": []
    },
    {
      "cell_type": "code",
      "metadata": {
        "colab": {
          "base_uri": "https://localhost:8080/"
        },
        "id": "UtiVzvx3-hTr",
        "outputId": "da78fd2e-309c-4d29-d3f1-1b555bbbddd5"
      },
      "source": [
        "longest_path(*read_manhattan(\"https://raw.githubusercontent.com/guilhermesilveira/bioinformatics/main/datasets/manhattan.txt\"))"
      ],
      "execution_count": 10,
      "outputs": [
        {
          "output_type": "stream",
          "text": [
            "[[1 0 2 4 3]\n",
            " [4 6 5 2 1]\n",
            " [4 4 5 2 1]\n",
            " [5 6 8 5 3]] [[3 2 4 0]\n",
            " [3 2 4 2]\n",
            " [0 7 3 3]\n",
            " [3 3 0 2]\n",
            " [1 3 2 2]]\n"
          ],
          "name": "stdout"
        },
        {
          "output_type": "execute_result",
          "data": {
            "text/plain": [
              "34"
            ]
          },
          "metadata": {
            "tags": []
          },
          "execution_count": 10
        }
      ]
    },
    {
      "cell_type": "code",
      "metadata": {
        "colab": {
          "base_uri": "https://localhost:8080/"
        },
        "id": "FSxxM-dc-kPt",
        "outputId": "3da45e53-8c17-48e1-befd-efb2b7d5e5d2"
      },
      "source": [
        "longest_path(*read_manhattan(\"https://raw.githubusercontent.com/guilhermesilveira/bioinformatics/main/datasets/dataset_261_10.txt\"))"
      ],
      "execution_count": 11,
      "outputs": [
        {
          "output_type": "stream",
          "text": [
            "[[4 3 3 1 3]\n",
            " [0 2 3 0 4]\n",
            " [3 1 2 2 4]\n",
            " [4 4 2 0 0]\n",
            " [1 2 1 4 0]\n",
            " [1 1 0 4 1]\n",
            " [1 0 1 2 0]\n",
            " [4 1 1 3 0]\n",
            " [4 2 0 1 3]\n",
            " [1 0 2 0 1]] [[3 4 0 0]\n",
            " [3 1 4 3]\n",
            " [4 1 1 1]\n",
            " [0 3 3 2]\n",
            " [4 4 1 0]\n",
            " [0 0 1 4]\n",
            " [3 0 2 3]\n",
            " [0 2 4 1]\n",
            " [3 1 4 3]\n",
            " [3 3 4 3]\n",
            " [2 1 4 2]]\n"
          ],
          "name": "stdout"
        },
        {
          "output_type": "execute_result",
          "data": {
            "text/plain": [
              "40"
            ]
          },
          "metadata": {
            "tags": []
          },
          "execution_count": 11
        }
      ]
    },
    {
      "cell_type": "code",
      "metadata": {
        "id": "z4C7rYA9Bjg6"
      },
      "source": [
        "def lcs(v, w):\r\n",
        "  lv = len(v)\r\n",
        "  lw = len(w)\r\n",
        "  s = np.zeros((lv + 1, lw + 1))\r\n",
        "  backtrack = np.zeros(s.shape)\r\n",
        "  for i in range(1, lv + 1):\r\n",
        "    for j in range(1, lw + 1):\r\n",
        "      matches = v[i-1] == w[j-1]\r\n",
        "      s[i, j] = max(s[i-1,j], s[i,j-1], s[i-1,j-1] + matches)\r\n",
        "      if s[i,j] == s[i-1,j]:\r\n",
        "          backtrack[i, j] = 1\r\n",
        "      elif s[i, j] == s[i, j-1]:\r\n",
        "          backtrack[i, j] = 2\r\n",
        "      else:\r\n",
        "          backtrack[i, j] = 0\r\n",
        "      # print(i, j, matches, v[i-1], w[j-1])\r\n",
        "      # print(s, backtrack)\r\n",
        "  return s, backtrack\r\n",
        "\r\n",
        "def lcs_output(backtrack, v, i, j):\r\n",
        "  # print(i, j)\r\n",
        "  if i == 0 or j == 0:\r\n",
        "    return \"\"\r\n",
        "  if backtrack[i, j] == 1:\r\n",
        "      return lcs_output(backtrack, v, i - 1, j)\r\n",
        "  elif backtrack[i, j] == 2:\r\n",
        "      return lcs_output(backtrack, v, i, j - 1)\r\n",
        "  else:\r\n",
        "      return lcs_output(backtrack, v, i - 1, j - 1) + v[i-1]"
      ],
      "execution_count": 12,
      "outputs": []
    },
    {
      "cell_type": "code",
      "metadata": {
        "colab": {
          "base_uri": "https://localhost:8080/",
          "height": 185
        },
        "id": "lVD9_ljkCrsU",
        "outputId": "8bc103d6-166c-4420-c4e0-aa6faa898b6a"
      },
      "source": [
        "s, bt = lcs(\"AACCTTGG\", \"ACACTGTGA\")\r\n",
        "print(bt)\r\n",
        "lcs_output(bt, \"AACCTTGG\", len(\"AACCTTGG\"), len(\"ACACTGTGA\"))"
      ],
      "execution_count": 13,
      "outputs": [
        {
          "output_type": "stream",
          "text": [
            "[[0. 0. 0. 0. 0. 0. 0. 0. 0. 0.]\n",
            " [0. 0. 2. 2. 2. 2. 2. 2. 2. 2.]\n",
            " [0. 1. 1. 0. 2. 2. 2. 2. 2. 2.]\n",
            " [0. 1. 0. 1. 0. 2. 2. 2. 2. 2.]\n",
            " [0. 1. 1. 1. 1. 1. 1. 1. 1. 1.]\n",
            " [0. 1. 1. 1. 1. 0. 2. 2. 2. 2.]\n",
            " [0. 1. 1. 1. 1. 1. 1. 0. 2. 2.]\n",
            " [0. 1. 1. 1. 1. 1. 0. 1. 0. 2.]\n",
            " [0. 1. 1. 1. 1. 1. 1. 1. 1. 1.]]\n"
          ],
          "name": "stdout"
        },
        {
          "output_type": "execute_result",
          "data": {
            "application/vnd.google.colaboratory.intrinsic+json": {
              "type": "string"
            },
            "text/plain": [
              "'AACTTG'"
            ]
          },
          "metadata": {
            "tags": []
          },
          "execution_count": 13
        }
      ]
    },
    {
      "cell_type": "code",
      "metadata": {
        "colab": {
          "base_uri": "https://localhost:8080/",
          "height": 135
        },
        "id": "-8PFsCDgCyD4",
        "outputId": "8340a997-6112-4fac-e4a4-4bc79917e3c9"
      },
      "source": [
        "s, bt = lcs(\"AA\", \"AC\")\r\n",
        "print(s)\r\n",
        "print(bt)\r\n",
        "lcs_output(bt, \"AA\", len(\"AA\"), len(\"AC\"))"
      ],
      "execution_count": 14,
      "outputs": [
        {
          "output_type": "stream",
          "text": [
            "[[0. 0. 0.]\n",
            " [0. 1. 1.]\n",
            " [0. 1. 1.]]\n",
            "[[0. 0. 0.]\n",
            " [0. 0. 2.]\n",
            " [0. 1. 1.]]\n"
          ],
          "name": "stdout"
        },
        {
          "output_type": "execute_result",
          "data": {
            "application/vnd.google.colaboratory.intrinsic+json": {
              "type": "string"
            },
            "text/plain": [
              "'A'"
            ]
          },
          "metadata": {
            "tags": []
          },
          "execution_count": 14
        }
      ]
    },
    {
      "cell_type": "code",
      "metadata": {
        "colab": {
          "base_uri": "https://localhost:8080/",
          "height": 101
        },
        "id": "PDLUe0KcFVBO",
        "outputId": "95449709-b320-4c75-e3cc-67edf9053599"
      },
      "source": [
        "s1,s2 = \"CTTTTACGAGATACTCAGCCACTTCAATCCTGAGGATCGACAGGGTTATTGGCAGACAGGGCAATGCCGTTTTGCCCTGGATCGTACTGGCTTCCCCATTTATACCTCAGACATTTCATGAGTTGTCGACTCTCTCATACTATGTGCAAATTTATCCCCACGATGGGAACGATTACATATACTGGGCAGTGGATTGCGGTAAAATCGGCTGATCTGCAATGATGATTTGAAATTTCGTCTGCCCGGGATCGGTCTCGAAGAGAATTCATAATGCTTAAGCCTATACTTACAGCTATAGTGAGTCAATGAGTTACCTTAGGCTGCCCGTTGGGAGTCTTCTTCATCCTAACAGGCACGTAGCCTTCGAAATCTTTGATCCCTCAACCCTTATGCTAAGCGAAGAATGTTTCAACACGTTTGGTCTTACTCTGCGCTTTGCAGAAGTGGACCTTACGCCTATATCTGACGTACTCCAGTGCAATATTTCCGGGTAGCCCGGCTAAGTATTCACAGACAAAGTAGGCTTATGGATGCATACAAGAGTCCACCGATCGGTCATTGTATGAAGCAAACTTGTGCGTCAAAGTTCATGAATAGTCACATAATGCAAATGCACCAAAGCATCTCGTAGCAATGTCTGATGAGTAGAATAGGGCGAGGGAGGGGCGCACCTACGGTTTCTAGTCAATGCAGTACAGAAGGAGGAATATGAGGACTCCTTGAGAGAGATGGTAAGGGTCTTTAGACTGAAGTATCTTTTGAAACCGCCATCGGCAGGTTATTCGCTACCGGAAGGGCGACGTAGAAACGTAGTTTCATGGGTAGTAACTGCATAAATAATCGTTCTAATAACCTCTGGAGATTACATTTCACTCCATGAATTGGTGCTGATAGGTGTGTAACCCCAGCAGAGGGTG\", \"GACTACGATCAAGTCAGGTCCCAGAGCCTAGCATTGTCCCTTTTAGCAGCTGCGAATAATAGACCGCTTGCCTTTATCTCCCCCCGTACGGGGCCTAGTGCAATGAAAACTAGGCTTAAGGACCCTCAGTAAACACCGGTGTCATATTACACGGGCTCAAGTCGGCTTGTCAGCCAAAAAGTACTGGGACTCGAGGCTGCTCTCAATCTAGCAACGTCGCTTCGCGATATTTACGAAATTCGTCCTAGTCACATGATGGCAAGCCATAAGCGTCGAGTTAAAACTACCACGCTTGTCTAGCGCCATTGCTGTCCATGATACATACAAGGTAGTTCCATTGCATTGACTGAATAGAACAGTCAACGGATTCTTTTGCGACCGGCGGACCTAGAGCATAGGAGGGAGTGTATCCAGAAGCCACCGCGTTCAGGTAGTGGTGAGGTTGCTATTACAAGCATGTTCGGTGGGAGGAGGATTGTTTCCACGAAACCACTCGCCCCTCAAGCCCCGGGAACGATGACTAGGTGGATCTAGACAGTCAGGGTAATCAGAGTACTGAAATACGGAACAAATAGAGGGGGACAATCATGGCGGCGGGAGAGCGTAGCTTACAGGTACCAGTTCACGGTTATTTCCAACATGGTGGCGCTAAAACTCACTCGCCTTGATTCTGTAGCTGCCGTCGCAAAACTGAACCGTTGCGAGATCAGTTATGGCGCATGAAATGTTGCATATGTTTATAAGCCGTCAACTGCAAGTCAAGACCAATTGTTACTTCCCCTCTGCGAGTCGACTCAAACAGAACAGTTCGCAGAGATAACCGTACAAGGCCGGATATTGGCACCCGGTTAAGCCATTGATGGGACTTATAAACGTCCTCTAACGCCACCCCCGCATACTGAATATTTTAAAGGGCGTTGACAACATCGAACGACCTGCTTTAGATAGCATTGATCTGGTGCTTGCATTTTTTTAA\"\r\n",
        "print(len(s1), len(s2))\r\n",
        "s, bt = lcs(s1, s2)\r\n",
        "lcs_output(bt, s1, len(s1), len(s2))"
      ],
      "execution_count": 15,
      "outputs": [
        {
          "output_type": "stream",
          "text": [
            "917 976\n"
          ],
          "name": "stdout"
        },
        {
          "output_type": "execute_result",
          "data": {
            "application/vnd.google.colaboratory.intrinsic+json": {
              "type": "string"
            },
            "text/plain": [
              "'CTACGATATCAGCCCAACCTAGATGCTTTTGCAGCGGAATGCCGTTGCCTATCGTACGGCTTCAATACTAGCTTAAGGACCCTCATACATGTCAATTACCCCAGTGGCGTACAATACTGGGCAGTGATTGCAATCGCTTCGCGATATTTGAAATTCGTCTGCCGATGGCAAGAAATCATAACTAAGCTTCTACGCATGTGTCATGATACTACGGTAGTCTTCTTACTAAAGACAGTCAAATCTTTGACCCACCTAGCTAAGGAGTGTTCAAAGCACCGCGTTCAGAGTGGATTGCTATACGAGTTCGTGAAATTTCCGGTAGCCCGGCTAAGTATTAGACAGTAGGTAATCAGAGTACGATCGGCATGAGACAAATGGCGCAAAGTTCATAAGTCACATAATGCAAATCACCGCATCTGTAGCTGTCGATGAGTAGAATAGGGCAGAGGCATAGTTTTAGTCAATGCAGTCAAGAAATTGACTCCTTGGAGGATAACAGACTGAAGATAACCGCAGGCGGTATTGCACCGGAAGGGGACTAAAACGTTCTAGACGCATAAATATTTTAATAACTCGAGATCTTTATCATGATTGGTGCTGATTTTAA'"
            ]
          },
          "metadata": {
            "tags": []
          },
          "execution_count": 15
        }
      ]
    },
    {
      "cell_type": "code",
      "metadata": {
        "colab": {
          "base_uri": "https://localhost:8080/"
        },
        "id": "8Tcka-POGGAj",
        "outputId": "8d2ee13a-5f55-49ed-b841-3f5800cb00ea"
      },
      "source": [
        "s1,s2 = \"ACCGTCTTAGCGATCAACACATTTAACAACGCGCCGCACCCCCCGTCAAACGAGCTTTTGGGCTCTTGTCCTTTTACAAGCTTCACGACGCATACAGCCTTGATCAACGGTTTGATCTGTCTCCCTTCAGCTGGCTTTAAAGGACATACATATGAAGGCCTTAATAAGGTCCGGGAACTCCACATATTCGGTACTGGGCAAACCCCATGAACCACCTCAACATGAAGAGTCCGAGGACTCTCACGATCCACCAATGCAGATCGGAACTGTGCGATCGCGTAATGAGCCGAGTACTTGGTTTGTGTTTAGGTTATGGGGGCCGGGAGCCGGTTCAATATAAGGAAGTAGTTGCAGATTAGTTGTTGCGAACGGTCATAAATTTGATGGGTAAACGTGAACTTAACAAACCGTGATAGCTAATCCTATGCATCCCTTACGTGGATCGACTCGAGTACCCAGGTGAACCGACTACTTGATAACCGGAAATCGCGGTATAAAAGCGCTCACGGTCAGGAGATATACCTCCAAGCAGTAGTCTTTCTGAGCCTAGAGTAGTAAATTACAGGGACGATGTCTTTTACCGAGGCAACATTTTATTGAGAATCACATGAGGCACAGGTAAAGGCGACATCACGATCGAGATCAACCCCTACTTGTTCAAAACATTGAGAACCAGCTCTGTTTTGGAACCTAGAAAGATAACGCATCCGCTTGATATTCCACGGCTTGTCCCTCTTGTGCGGTCCATCTATCGGAGTTTCCTCCGATACGACCCGCAATGTTTCCAGGCGTACGGTACTTTATGAATACACTCGCGCTGTAACCTGTTATGTGAAACACACACGACAGAGCTTCGCGTGGGCCCAGCGACCCGGTAATACTACATCACCGCACACGACCTCGAGCAGTCTTTGCCGGCGTCCGTAAGTAGTCTAAAGTTGTGTTGATGCTTGGGGTTAAAGCTAAATCGTCCGCAGAATACGACTCTCATCCCAAT\",\"ACCCGCACGCGCTTTGGTCTAGATTCTAGCTCCAACTTGCCTGCTAGATACTCTGTTAAAAGATGGTTTTACAACCCCCTCCTCTGTCCCTGGGGTATTATATAATACGTCGGATAGTCAGGTACAAATACAAGTGGGTGGGAATACTTTTCCTCGGATCCTAGACCACGGATTACTGCGTGGTTGACAAGAGTCGGCCCGGAGGGAAACGTGAAGGTTAGTGCAATTAAAGTCTCTAATGTGAAGCCTCCGCGAAGCGAGGAGTTTCTGAGATCGAGTACTATTTAGAGTTCGAAATCACGGCTTAACCTCACTGCCACGCATAACTTGCCGGCAATCCAGTTTTGCAACGATACTTAATTTGTGCAGCTCATCTTTGCTGTCCAGAAATAGAGCTAGTCGATCTCATCTTGCGGGTAGCCAGAAGTCCTACCGTCTCCTCCATGTAGCTTAAAAATTTCGGTGAGGATCAAAAATGATAAACGTGACAGGTAAGCTCCTACGTCTATCCTATGACCCCCGCGGCAGAATAGGTTGGTAGTGTTAGTGCGTGAGCTGGTAGAATAGAGCACACTTAGGGAAACGGGAACCGTTATGTAGGGCTGCGACACACAAAAAAGTGTTCGTTGGTAAGCTGCCTCTCCACTAAACAGGATTTCTCTGGATGATCCCATCGAAGCAAGTTACGCACCACGCCGAGGCGGACCCTGGTACTAGCTGCCCCCCCCTTTATGGGGCGCTCGTACATCAAGATGATCGCGGACTCAACCTGATTACGAGTTGTCCAAGTAGTCCAGGGTAAGAGAAACTGGAGAGA\"\r\n",
        "s, bt = lcs(s1, s2)\r\n",
        "len(lcs_output(bt, s1, len(s1), len(s2)))"
      ],
      "execution_count": 16,
      "outputs": [
        {
          "output_type": "execute_result",
          "data": {
            "text/plain": [
              "573"
            ]
          },
          "metadata": {
            "tags": []
          },
          "execution_count": 16
        }
      ]
    },
    {
      "cell_type": "code",
      "metadata": {
        "colab": {
          "base_uri": "https://localhost:8080/"
        },
        "id": "dOt9ujkLGxWp",
        "outputId": "8084021c-d416-4046-f0f2-f163ca0b3082"
      },
      "source": [
        "len(\"ACCGCAGCGTCAATTTACAACGCCGCACCGTAAAGATGGTTTTACAACCCCCTCCCTGTCCGGTTTATTTCTCTAGTCAGGACAAATAAAGTGGTGGGAATACTTTCTCGGACCAGACCACTACTGGTGGTTGACAAGAGTCGGCCCGGAGGGAACTGGTTGTGTTAGTTATGGGCCCCGGAAGGAGAGTTGAGATCGAGTCTATTTGAGTCGAATCACGGCTAACCTATGCACCTACTTGCCGATCCAGTGAACGATACTTATACCATCGCGTAAAAAGGCTAGTCGATATCCTCCAGAGTAGTCTTCTGAGCTAAAAATTCGGGAGATCAAAAATATAAACTGACAGGTAAGCCTACGTCATCAACCCCCGCAAAATTGGAGTGTTTTGGCTAGAAAGAGCACCTTGAAACGGGCCTTTGTGGGTCCACACAGTTTCTGTAAGCTGTTCCACTACGGTCTTATGATCATCGGCAAGTTAGCACCACGCGAGGCGGACCCGGTACTACTCCCCCACGCTCGACATCTTGCGGCTCCTGATTAAGTTGTGTGTCGGGTAAAGAAACTGAGAGA\")"
      ],
      "execution_count": 17,
      "outputs": [
        {
          "output_type": "execute_result",
          "data": {
            "text/plain": [
              "573"
            ]
          },
          "metadata": {
            "tags": []
          },
          "execution_count": 17
        }
      ]
    },
    {
      "cell_type": "code",
      "metadata": {
        "colab": {
          "base_uri": "https://localhost:8080/"
        },
        "id": "gXtIg__gG29S",
        "outputId": "e5872f7b-2016-4827-ffe1-39a110f9bd09"
      },
      "source": [
        "s1, s2 = \"GACT\",\"ATG\"\r\n",
        "s, bt = lcs(s1, s2)\r\n",
        "r = lcs_output(bt, s1, len(s1), len(s2))\r\n",
        "print(len(r), r)"
      ],
      "execution_count": 18,
      "outputs": [
        {
          "output_type": "stream",
          "text": [
            "2 AT\n"
          ],
          "name": "stdout"
        }
      ]
    },
    {
      "cell_type": "code",
      "metadata": {
        "colab": {
          "base_uri": "https://localhost:8080/"
        },
        "id": "5F7wtIH5HBSy",
        "outputId": "60683499-243f-427b-fa8d-b6205335c527"
      },
      "source": [
        "s1, s2 = \"ATG\", \"GACT\"\r\n",
        "s, bt = lcs(s1, s2)\r\n",
        "print(s, bt)\r\n",
        "r = lcs_output(bt, s1, len(s1), len(s2))\r\n",
        "print(len(r), r)"
      ],
      "execution_count": 19,
      "outputs": [
        {
          "output_type": "stream",
          "text": [
            "[[0. 0. 0. 0. 0.]\n",
            " [0. 0. 1. 1. 1.]\n",
            " [0. 0. 1. 1. 2.]\n",
            " [0. 1. 1. 1. 2.]] [[0. 0. 0. 0. 0.]\n",
            " [0. 1. 0. 2. 2.]\n",
            " [0. 1. 1. 1. 0.]\n",
            " [0. 0. 1. 1. 1.]]\n",
            "2 AT\n"
          ],
          "name": "stdout"
        }
      ]
    },
    {
      "cell_type": "code",
      "metadata": {
        "colab": {
          "base_uri": "https://localhost:8080/"
        },
        "id": "cl3tOQgdHNx6",
        "outputId": "8e36375b-ac05-41d8-97d1-598a604f3b6c"
      },
      "source": [
        "s1, s2 = \"AGAGTAGACACCTTGCGCTCTGTTTGATATGGAAGCTCGCAGGTCCAGAGTGAAATCATAGAAATTACCATAAGCGATGATATGAAGCACAGATCACTGTTTGTGCTCAGTGGCATCGACTCTATTTAAACATAGTATACCGGTTTATTATAGGTCCTGTGCCTGGCCTCGTGTGCCGTGCCTTGGGATTTGAACGCTGAACTACCCACGCGCACGGAAGGGGTTCCAGTGCGCTAACAATAACACTGTATCCCAGTCGAGTCTGATCGCCCTAGAAAAGCAATTGCACTCAGGGAAACGTGCGGCGGCTCGGTCATCTCGATTGACGTGGGGTCCGCCGCTGAATTTAAAGACAGGCTATGATTGTTCCTTAACCGATCAAGCATGCGATTATTGGTCCCCTATACTCTATTACGTAATGCGGTGATCTGGTACTGGCAGCTGTCGATCTCGTGAATCTCCCGCTGCATTATTCGCCGTACTACCGAATGAGAGTGATCCCCGCCGGGCACTGCACCTGTGCGCCGGAGAATCGAGTTCATCACAACCACTGCTACAGACCTCTATAGACCGTAGACCGACCCCACGGTCCGTTATGAAGGAAGTCCAAAAGAGGCGGATGTCCTACGCTCTCTTCGCAGATCTATTCATACCTCCGGGTAAATTCTATGACAGCCCTACCACGGGATATGTACACTCTCACATGGAGATTTTTAGGTACAGATATTCATTGATGTACAATGGGCGGAGCGCCAGCGGACCGACCGAAATATCGAGTGTCGAGGATCAATCACGTTGCTACGTGCACCCGGCACCCGACAAATTCACGTGCAGCCGTCTCTTGGTAAGCGGGCACCGTCACGGATCGTGCGTGCCTAGCCTAGTGCCCGTGGGGCTATTGCTGGGGTATCCCCTTGGGAGAAGTTACGACGTTGATGATCCC\", \"CAGGAAGTGGTAGATAACCACTAGCTGACCAAGCAACCAGCATTCATACAACTTATTTAGGGAAGAGAAGGAGCAAGGTGTGGAGAAGTCATACCCCGTATGGATACGTTATTTGGGTCCAGAAATTAGTATAGGTGCCAACGAACAATTTCGATTCAATTAGATAGCGGTTCGCACCTCCTTCGGAGTGTGTGCGCAGCAGCTATCTTGCCCGCAGAAAGAACGCGGTGTCCCTGGGCTAACCGGGATGGTAAGCATTTTATAATCTGTGCACACGTCTATCATGAGACCTCTTCATGCCCGGTCGAAGGCGTAGGGATCAGCGGCTGGGATGGCCAAGTGCACGCCTTTTATGAGGGGATCCACTCTACTTGCGATCGCAACGTGCTGGGGTACGGCAACGTCCCCAGTAGGCTCGTTGCTGTACACGACTGCAGGTACTTGTTGAGGCAGGGCGCCCAATATAGTGGTCTGGACTCCGGCCCCATGATATTGATTATCACGTCATCGTGCCAACCTGAAACGGACTTTAGCTAGATGCTGGTCTGGTAGAATCAGAGATCTCCTTGTCCGTCTGTAAATCAGTGCAATCACGGAAATGTTGACACTATGTATGATAATCTGTTTCGAAACCGAACACGGTACACGGCTACGTACACTCGGTGTGTACATCAGCCTCAGCGCCCGAATCTCTGCGAAGATCAATCCTTGACCTCGGTGATACTTCGCTTAAATGTCGCGATACACAGCGTTCATAGAATAAGTAAACATACGCTGTAAGCTGGATAAGAAGAATTTTAGAAACTCAA\"\r\n",
        "s, bt = lcs(s1, s2)\r\n",
        "r = lcs_output(bt, s1, len(s1), len(s2))\r\n",
        "print(len(r), r)"
      ],
      "execution_count": 20,
      "outputs": [
        {
          "output_type": "stream",
          "text": [
            "568 AGAGTAGACACTGCGCCAAGAACCGCATCATAAATATAGAAAAAAGCGTGTAGAAGCACAGATACGTTTTTGGGCAGATTATTTAAACAATTCGATTAATTGTGCGGTCGCCTCCTTGGGTTTGCGCGACTACCCCGCGAGAAGGGGTCCTGGCTAACATAACATTATCCCAGTCATCTGAGCCCTCATGCCCGGGAACGTGGGCGGCTGGATCCAAGTGCCGCCTTTTAGAGGGATCCTTACCGATCAAGCTGCGAAGTCCCCATACTCGTTGCGTACGACTGCAGGTACTTGTTGGCAGCGCCCAATAAGTGTCGGACTCCGGCCCAGAATGATTATCACCACTGCCAACCTCATAGCTAGAGCGGTCGTAGAATCAGAGATTCCTGTCTCTTAATCATCAATCCGGAAATTTGACACTAGTATGTAATCTCAAAGAAGGTACAGATACATTGTGTACATCAGCCCAGCGCCCGAATTCTGCGAGATCAATCCTTGCTCGTGAACCGCAAATTCCGTCAGCGTTCTGTAAGTACATCGCTGTAAGCTGGTAGGATTTAGAAACCAA\n"
          ],
          "name": "stdout"
        }
      ]
    },
    {
      "cell_type": "code",
      "metadata": {
        "colab": {
          "base_uri": "https://localhost:8080/",
          "height": 85
        },
        "id": "ekVjwqSpLCdN",
        "outputId": "ae00924d-09a0-4a20-a96a-6f86d90a5e09"
      },
      "source": [
        "r"
      ],
      "execution_count": 21,
      "outputs": [
        {
          "output_type": "execute_result",
          "data": {
            "application/vnd.google.colaboratory.intrinsic+json": {
              "type": "string"
            },
            "text/plain": [
              "'AGAGTAGACACTGCGCCAAGAACCGCATCATAAATATAGAAAAAAGCGTGTAGAAGCACAGATACGTTTTTGGGCAGATTATTTAAACAATTCGATTAATTGTGCGGTCGCCTCCTTGGGTTTGCGCGACTACCCCGCGAGAAGGGGTCCTGGCTAACATAACATTATCCCAGTCATCTGAGCCCTCATGCCCGGGAACGTGGGCGGCTGGATCCAAGTGCCGCCTTTTAGAGGGATCCTTACCGATCAAGCTGCGAAGTCCCCATACTCGTTGCGTACGACTGCAGGTACTTGTTGGCAGCGCCCAATAAGTGTCGGACTCCGGCCCAGAATGATTATCACCACTGCCAACCTCATAGCTAGAGCGGTCGTAGAATCAGAGATTCCTGTCTCTTAATCATCAATCCGGAAATTTGACACTAGTATGTAATCTCAAAGAAGGTACAGATACATTGTGTACATCAGCCCAGCGCCCGAATTCTGCGAGATCAATCCTTGCTCGTGAACCGCAAATTCCGTCAGCGTTCTGTAAGTACATCGCTGTAAGCTGGTAGGATTTAGAAACCAA'"
            ]
          },
          "metadata": {
            "tags": []
          },
          "execution_count": 21
        }
      ]
    },
    {
      "cell_type": "code",
      "metadata": {
        "id": "SoRmbwIuxt9D"
      },
      "source": [
        "class Path:\r\n",
        "  def __init__(self, path):\r\n",
        "    self.path = path\r\n",
        "\r\n",
        "  def __repr__(self):\r\n",
        "    return \"->\".join(map(str,self.path))"
      ],
      "execution_count": 22,
      "outputs": []
    },
    {
      "cell_type": "code",
      "metadata": {
        "id": "LpT4k9EELGHo"
      },
      "source": [
        "from collections import defaultdict\r\n",
        "\r\n",
        "class Graph:\r\n",
        "\r\n",
        "  def __init__(self):\r\n",
        "    self.adjacency = defaultdict(dict)\r\n",
        "    self.all_nodes = set()\r\n",
        "\r\n",
        "  def connect(self, a, b, w):\r\n",
        "    self.adjacency[a][b] = w\r\n",
        "    self.all_nodes.add(a)\r\n",
        "    self.all_nodes.add(b)\r\n",
        "\r\n",
        "  def __topological_dfs(self, current, stack, visited):\r\n",
        "    if current in visited:\r\n",
        "      return stack\r\n",
        "    visited.add(current)\r\n",
        "    neighboors = self.adjacency[current].keys()\r\n",
        "    for node in neighboors:\r\n",
        "      self.__topological_dfs(node, stack, visited)\r\n",
        "    stack.append(current)\r\n",
        "    return stack\r\n",
        "\r\n",
        "  # unfortunately, there is no need for all N to be on the [0,...,N-1] interval :(  \r\n",
        "  def __max_nodes_required(self):\r\n",
        "    return (max(self.all_nodes) + 1)\r\n",
        "\r\n",
        "\r\n",
        "  def components(self):\r\n",
        "    components = [0] * self.__max_nodes_required()\r\n",
        "    for i in self.all_nodes:\r\n",
        "      components[i] = i\r\n",
        "    # can be implemented faster with references, this is O(n^3)\r\n",
        "    for i in self.all_nodes:\r\n",
        "      for j in self.adjacency[i].keys():\r\n",
        "        for k in self.all_nodes:\r\n",
        "          if components[k] == j:\r\n",
        "            components[k] = components[i]\r\n",
        "    return components\r\n",
        "\r\n",
        "  def component_containing(self, key):\r\n",
        "    components = self.components()\r\n",
        "    component = {i for i in self.all_nodes if components[i] == components[key]}\r\n",
        "    return component\r\n",
        "\r\n",
        "  def __longest_paths(self, starting: int):\r\n",
        "    component = self.component_containing(starting)\r\n",
        "    topological = self.topological()\r\n",
        "    topological_on_path = [i for i in topological if i in component]\r\n",
        "    max_distance = [0] * self.__max_nodes_required()\r\n",
        "    previous = [-1] * self.__max_nodes_required()\r\n",
        "    appeared = False\r\n",
        "    for a in topological:\r\n",
        "      if a == starting:\r\n",
        "        appeared = True\r\n",
        "      if a in component and appeared:\r\n",
        "        for b, w in self.adjacency[a].items():\r\n",
        "          new_distance = max_distance[a] + w\r\n",
        "          if new_distance > max_distance[b]:\r\n",
        "            max_distance[b] = new_distance\r\n",
        "            previous[b] = a\r\n",
        "    return max_distance, previous\r\n",
        "\r\n",
        "  # DFS implementation, nasty...\r\n",
        "  def longest_path_to(self, starting: int, ending: int):\r\n",
        "    max_distance, previous = self.__longest_paths(starting)\r\n",
        "    return self.__recreate_longest_path(starting, max_distance, previous, ending)\r\n",
        "\r\n",
        "  def __recreate_longest_path(self, starting: int, max_distance: List, previous: List, ending: int):\r\n",
        "    path = [ending]\r\n",
        "    current = ending\r\n",
        "    while current != starting:\r\n",
        "      current = previous[current]\r\n",
        "      path.append(current)\r\n",
        "    path = list(reversed(path))\r\n",
        "    return max_distance[ending], Path(path)\r\n",
        "\r\n",
        "\r\n",
        "  # DFS implementation, nasty...\r\n",
        "  def longest_path(self, starting: int):\r\n",
        "    max_distance, previous = self.__longest_paths(starting)\r\n",
        "    ending = np.argmax(max_distance)\r\n",
        "    return self.__recreate_longest_path(starting, max_distance, previous, ending)\r\n",
        "\r\n",
        "\r\n",
        "  def topological(self):\r\n",
        "    stack = []\r\n",
        "    visited = set()\r\n",
        "    for i in self.all_nodes:\r\n",
        "      self.__topological_dfs(i, stack, visited)\r\n",
        "    return list(reversed(stack))\r\n",
        "\r\n",
        "  def __repr__(self):\r\n",
        "    return f\"{self.all_nodes}:::{self.adjacency.__repr__()}\""
      ],
      "execution_count": 23,
      "outputs": []
    },
    {
      "cell_type": "code",
      "metadata": {
        "id": "b3pzlkx0mOXt"
      },
      "source": [
        "def adjancecy_string_to_graph(adj_string: str):\r\n",
        "  graph = Graph()\r\n",
        "  for line in adj_string.split(\"\\n\"):\r\n",
        "    a = int(line.split(\"->\")[0])\r\n",
        "    b = int(line.split(\"->\")[1].split(\":\")[0])\r\n",
        "    w = int(line.split(\":\")[1])\r\n",
        "    graph.connect(a, b, w)\r\n",
        "  return graph"
      ],
      "execution_count": 24,
      "outputs": []
    },
    {
      "cell_type": "code",
      "metadata": {
        "colab": {
          "base_uri": "https://localhost:8080/"
        },
        "id": "I5odGE9dnD36",
        "outputId": "0a2524c7-5cbb-45fc-c28b-2dad93a6da97"
      },
      "source": [
        "g = adjancecy_string_to_graph(\"\"\"0->1:7\r\n",
        "0->2:4\r\n",
        "2->3:2\r\n",
        "1->4:1\r\n",
        "3->4:3\r\n",
        "5->6:10\"\"\")\r\n",
        "g"
      ],
      "execution_count": 25,
      "outputs": [
        {
          "output_type": "execute_result",
          "data": {
            "text/plain": [
              "{0, 1, 2, 3, 4, 5, 6}:::defaultdict(<class 'dict'>, {0: {1: 7, 2: 4}, 2: {3: 2}, 1: {4: 1}, 3: {4: 3}, 5: {6: 10}})"
            ]
          },
          "metadata": {
            "tags": []
          },
          "execution_count": 25
        }
      ]
    },
    {
      "cell_type": "code",
      "metadata": {
        "colab": {
          "base_uri": "https://localhost:8080/"
        },
        "id": "JZ_xdDo0nF3K",
        "outputId": "3c4302bc-f8a4-448f-ef38-8fd24f5b5e3a"
      },
      "source": [
        "g.topological()"
      ],
      "execution_count": 26,
      "outputs": [
        {
          "output_type": "execute_result",
          "data": {
            "text/plain": [
              "[5, 6, 0, 2, 3, 1, 4]"
            ]
          },
          "metadata": {
            "tags": []
          },
          "execution_count": 26
        }
      ]
    },
    {
      "cell_type": "code",
      "metadata": {
        "colab": {
          "base_uri": "https://localhost:8080/"
        },
        "id": "dcKqBNOFoewT",
        "outputId": "080044f7-0c82-4c82-f0e7-7f175efc8354"
      },
      "source": [
        "g.component_containing(0)"
      ],
      "execution_count": 27,
      "outputs": [
        {
          "output_type": "execute_result",
          "data": {
            "text/plain": [
              "{0, 1, 2, 3, 4}"
            ]
          },
          "metadata": {
            "tags": []
          },
          "execution_count": 27
        }
      ]
    },
    {
      "cell_type": "code",
      "metadata": {
        "colab": {
          "base_uri": "https://localhost:8080/"
        },
        "id": "o9TnY64ApFpj",
        "outputId": "d1d7da33-1486-4592-fd19-f1a4166c691c"
      },
      "source": [
        "g.longest_path_to(0, 4)"
      ],
      "execution_count": 28,
      "outputs": [
        {
          "output_type": "execute_result",
          "data": {
            "text/plain": [
              "(9, 0->2->3->4)"
            ]
          },
          "metadata": {
            "tags": []
          },
          "execution_count": 28
        }
      ]
    },
    {
      "cell_type": "code",
      "metadata": {
        "colab": {
          "base_uri": "https://localhost:8080/"
        },
        "id": "S9f8rjJxt_jq",
        "outputId": "9b420a21-e5dc-44a9-ae77-0ece7f332a40"
      },
      "source": [
        "g = adjancecy_string_to_graph(\"\"\"0->6:11\r\n",
        "6->12:11\r\n",
        "12->30:1\r\n",
        "30->49:10\r\n",
        "7->47:3\r\n",
        "15->42:19\r\n",
        "48->49:20\r\n",
        "42->49:9\r\n",
        "23->43:1\r\n",
        "18->42:4\r\n",
        "37->42:2\r\n",
        "38->47:2\r\n",
        "28->41:15\r\n",
        "18->33:10\r\n",
        "0->42:6\r\n",
        "1->49:16\r\n",
        "16->31:18\r\n",
        "32->35:4\r\n",
        "26->44:10\r\n",
        "7->40:11\r\n",
        "25->28:15\r\n",
        "34->41:1\r\n",
        "31->42:5\r\n",
        "25->42:17\r\n",
        "17->34:10\r\n",
        "22->27:13\r\n",
        "17->22:16\r\n",
        "19->35:15\r\n",
        "24->35:18\r\n",
        "36->47:19\r\n",
        "25->49:18\r\n",
        "15->29:15\r\n",
        "17->21:6\r\n",
        "10->33:6\r\n",
        "0->47:14\r\n",
        "5->20:2\r\n",
        "7->43:4\r\n",
        "40->41:13\r\n",
        "12->35:16\r\n",
        "30->42:4\r\n",
        "16->39:2\r\n",
        "24->48:2\r\n",
        "23->31:7\r\n",
        "16->20:4\r\n",
        "20->29:19\r\n",
        "46->49:4\r\n",
        "5->28:12\r\n",
        "25->37:7\r\n",
        "35->41:11\r\n",
        "45->47:1\r\n",
        "14->15:14\r\n",
        "0->35:7\r\n",
        "11->32:12\r\n",
        "36->41:12\r\n",
        "3->27:11\r\n",
        "29->40:17\r\n",
        "22->33:8\r\n",
        "19->23:20\r\n",
        "21->30:11\r\n",
        "33->44:15\r\n",
        "17->47:9\r\n",
        "8->26:13\r\n",
        "18->19:14\r\n",
        "3->40:12\r\n",
        "46->47:19\r\n",
        "41->47:16\r\n",
        "13->31:18\r\n",
        "1->18:8\r\n",
        "32->41:2\r\n",
        "32->38:13\r\n",
        "11->16:18\r\n",
        "27->49:3\r\n",
        "44->49:9\r\n",
        "4->41:16\r\n",
        "13->15:17\r\n",
        "39->41:2\r\n",
        "10->32:9\r\n",
        "37->39:16\r\n",
        "3->16:4\r\n",
        "8->28:2\r\n",
        "4->23:20\r\n",
        "41->48:16\r\n",
        "18->28:15\r\n",
        "14->34:12\r\n",
        "18->44:18\r\n",
        "7->8:12\r\n",
        "31->41:11\r\n",
        "5->49:9\r\n",
        "0->26:16\r\n",
        "38->42:16\r\n",
        "0->1:7\r\n",
        "1->3:18\r\n",
        "3->4:15\r\n",
        "4->5:19\r\n",
        "5->7:10\r\n",
        "7->10:17\r\n",
        "10->11:8\r\n",
        "11->13:8\r\n",
        "13->14:12\r\n",
        "14->17:12\r\n",
        "17->24:16\r\n",
        "24->25:14\r\n",
        "25->36:18\r\n",
        "36->45:16\r\n",
        "45->46:15\"\"\")\r\n",
        "g.longest_path_to(0, 49)"
      ],
      "execution_count": 29,
      "outputs": [
        {
          "output_type": "execute_result",
          "data": {
            "text/plain": [
              "(222, 0->1->3->4->5->7->10->11->13->14->17->24->25->36->41->48->49)"
            ]
          },
          "metadata": {
            "tags": []
          },
          "execution_count": 29
        }
      ]
    },
    {
      "cell_type": "code",
      "metadata": {
        "colab": {
          "base_uri": "https://localhost:8080/",
          "height": 151
        },
        "id": "xvI6j1i4GkGq",
        "outputId": "b900a059-62d9-4d86-dd62-547c1bf90a56"
      },
      "source": [
        "s, bt = lcs(\"GCGATC\", \"CTGACG\")\r\n",
        "print(bt)\r\n",
        "lcs_output(bt, \"GCGATC\", len(\"GCGATC\"), len(\"CTGACG\"))"
      ],
      "execution_count": 30,
      "outputs": [
        {
          "output_type": "stream",
          "text": [
            "[[0. 0. 0. 0. 0. 0. 0.]\n",
            " [0. 1. 1. 0. 2. 2. 2.]\n",
            " [0. 0. 2. 1. 1. 0. 2.]\n",
            " [0. 1. 1. 0. 2. 1. 0.]\n",
            " [0. 1. 1. 1. 0. 2. 1.]\n",
            " [0. 1. 0. 1. 1. 1. 1.]\n",
            " [0. 1. 1. 1. 1. 0. 2.]]\n"
          ],
          "name": "stdout"
        },
        {
          "output_type": "execute_result",
          "data": {
            "application/vnd.google.colaboratory.intrinsic+json": {
              "type": "string"
            },
            "text/plain": [
              "'CGAC'"
            ]
          },
          "metadata": {
            "tags": []
          },
          "execution_count": 30
        }
      ]
    },
    {
      "cell_type": "code",
      "metadata": {
        "colab": {
          "base_uri": "https://localhost:8080/",
          "height": 151
        },
        "id": "VWESglp5vkpW",
        "outputId": "acc7aaf6-a6ac-4442-decc-e01736309979"
      },
      "source": [
        "s, bt = lcs(\"CTCGAT\", \"TACGTC\")\r\n",
        "print(bt)\r\n",
        "lcs_output(bt, \"CTCGAT\", len(\"CTCGAT\"), len(\"TACGTC\")) "
      ],
      "execution_count": 31,
      "outputs": [
        {
          "output_type": "stream",
          "text": [
            "[[0. 0. 0. 0. 0. 0. 0.]\n",
            " [0. 1. 1. 0. 2. 2. 2.]\n",
            " [0. 0. 2. 1. 1. 0. 2.]\n",
            " [0. 1. 1. 0. 2. 1. 0.]\n",
            " [0. 1. 1. 1. 0. 2. 1.]\n",
            " [0. 1. 0. 1. 1. 1. 1.]\n",
            " [0. 1. 1. 1. 1. 0. 2.]]\n"
          ],
          "name": "stdout"
        },
        {
          "output_type": "execute_result",
          "data": {
            "application/vnd.google.colaboratory.intrinsic+json": {
              "type": "string"
            },
            "text/plain": [
              "'TCGT'"
            ]
          },
          "metadata": {
            "tags": []
          },
          "execution_count": 31
        }
      ]
    },
    {
      "cell_type": "code",
      "metadata": {
        "id": "buzsGz1wGqe6"
      },
      "source": [
        "from itertools import combinations_with_replacement\r\n",
        "from itertools import permutations\r\n",
        "def combinations_for_masses(m1, m2, target):\r\n",
        "  possibles = 0\r\n",
        "  for length in range(math.ceil(target / min(m1,m2)) + 1):\r\n",
        "    for comb in combinations_with_replacement([m1, m2], length):\r\n",
        "      if sum(comb) == target:\r\n",
        "        print(comb)\r\n",
        "        # very slow, could be optimized because we only need the number\r\n",
        "        possibles += len(set(permutations(comb)))\r\n",
        "  return possibles"
      ],
      "execution_count": 32,
      "outputs": []
    },
    {
      "cell_type": "code",
      "metadata": {
        "colab": {
          "base_uri": "https://localhost:8080/"
        },
        "id": "D9S8Z5AwHrmb",
        "outputId": "c097a271-42d1-4303-81dd-8a1c25332c20"
      },
      "source": [
        "combinations_for_masses(2,5,10)"
      ],
      "execution_count": 33,
      "outputs": [
        {
          "output_type": "stream",
          "text": [
            "(5, 5)\n",
            "(2, 2, 2, 2, 2)\n"
          ],
          "name": "stdout"
        },
        {
          "output_type": "execute_result",
          "data": {
            "text/plain": [
              "2"
            ]
          },
          "metadata": {
            "tags": []
          },
          "execution_count": 33
        }
      ]
    },
    {
      "cell_type": "code",
      "metadata": {
        "id": "kdgbstKcHwU6"
      },
      "source": [
        "# combinations_for_masses(2,3,25)"
      ],
      "execution_count": 34,
      "outputs": []
    },
    {
      "cell_type": "code",
      "metadata": {
        "id": "kVJ-QxJEadma"
      },
      "source": [
        "# combinations_for_masses(2,3,22)"
      ],
      "execution_count": 35,
      "outputs": []
    },
    {
      "cell_type": "code",
      "metadata": {
        "colab": {
          "base_uri": "https://localhost:8080/"
        },
        "id": "qEtxQE7oIGq6",
        "outputId": "0b0780bf-6f3e-46ec-e984-227f31c2cb46"
      },
      "source": [
        "g = adjancecy_string_to_graph(\"\"\"1->2:0\r\n",
        "1->3:0\r\n",
        "1->4:0\r\n",
        "1->5:0\r\n",
        "1->6:0\r\n",
        "2->3:0\r\n",
        "2->6:0\r\n",
        "3->4:0\r\n",
        "5->4:0\r\n",
        "5->6:0\"\"\")\r\n",
        "g.topological() == [1, 5, 2, 6, 3, 4]"
      ],
      "execution_count": 36,
      "outputs": [
        {
          "output_type": "execute_result",
          "data": {
            "text/plain": [
              "True"
            ]
          },
          "metadata": {
            "tags": []
          },
          "execution_count": 36
        }
      ]
    },
    {
      "cell_type": "code",
      "metadata": {
        "id": "CsaoBprYKAVr",
        "colab": {
          "base_uri": "https://localhost:8080/"
        },
        "outputId": "f53f2409-b869-45aa-e0c4-0a974ab09f00"
      },
      "source": [
        "import re\r\n",
        "\r\n",
        "def read_cost_table(name):\r\n",
        "  uri = f\"https://raw.githubusercontent.com/guilhermesilveira/bioinformatics/main/{name}.txt\"\r\n",
        "  data = read_uri(uri)\r\n",
        "  headers = re.split(\"\\s+\", data[0])\r\n",
        "  costs = defaultdict(dict)\r\n",
        "  for line in data[1:]:\r\n",
        "    line_data = re.split(\"\\s+\", line)\r\n",
        "    line_name = line_data[0]\r\n",
        "    for i, col_value in enumerate(line_data[1:]):\r\n",
        "      col_name = headers[i]\r\n",
        "      costs[line_name][col_name] = int(col_value)\r\n",
        "  return costs\r\n",
        "\r\n",
        "read_cost_table(\"BLOSUM62\")['A']['A'] == 4"
      ],
      "execution_count": 37,
      "outputs": [
        {
          "output_type": "execute_result",
          "data": {
            "text/plain": [
              "True"
            ]
          },
          "metadata": {
            "tags": []
          },
          "execution_count": 37
        }
      ]
    },
    {
      "cell_type": "code",
      "metadata": {
        "id": "ncvnruwYFiWd"
      },
      "source": [
        "class CostPath:\r\n",
        "\r\n",
        "  def __init__(self, first, second, backtrack, x = None, y = None, finalize_on_left=False):\r\n",
        "    self.backtrack = backtrack\r\n",
        "    self.first= first\r\n",
        "    self.second = second\r\n",
        "    self.start_x = x\r\n",
        "    if x == None:\r\n",
        "      self.start_x = len(self.first.code)\r\n",
        "    self.start_y = y\r\n",
        "    if y == None:\r\n",
        "      self.start_y = len(self.second.code)\r\n",
        "    self.finalize_on_left = finalize_on_left\r\n",
        "\r\n",
        "  def __repr__(self):\r\n",
        "    return self.__output(self.backtrack, self.start_x, self.start_y)\r\n",
        "\r\n",
        "  def __output(self,backtrack, i, j):\r\n",
        "    first_stack = \"\"\r\n",
        "    second_stack = \"\"\r\n",
        "    while (i != 0 or j != 0):\r\n",
        "      # print(i, j, backtrack[i,j])\r\n",
        "      if backtrack[i, j] == 1:\r\n",
        "        first_stack += self.first.code[i-1]\r\n",
        "        second_stack += \"-\"\r\n",
        "        i -= 1\r\n",
        "      elif backtrack[i, j] == 2:\r\n",
        "        second_stack += self.second.code[j-1]\r\n",
        "        first_stack += \"-\"\r\n",
        "        j -= 1\r\n",
        "      elif backtrack[i, j] == 0:\r\n",
        "        first_stack += self.first.code[i-1]\r\n",
        "        second_stack += self.second.code[j-1]\r\n",
        "        i -= 1\r\n",
        "        j -= 1\r\n",
        "      else:\r\n",
        "        i = 0\r\n",
        "        j = 0\r\n",
        "      if self.finalize_on_left and j==0:\r\n",
        "        break\r\n",
        "    return \"\".join(reversed(first_stack)) + \"\\n\" + \"\".join(reversed(second_stack))\r\n"
      ],
      "execution_count": 151,
      "outputs": []
    },
    {
      "cell_type": "code",
      "metadata": {
        "id": "i0pgfZuJBsvt"
      },
      "source": [
        "from typing import Dict\r\n",
        "\r\n",
        "class Peptide:\r\n",
        "\r\n",
        "\r\n",
        "  def __init__(self, code):\r\n",
        "    self.code = code\r\n",
        "\r\n",
        "\r\n",
        "  def global_alignment(self, other_peptide, cost_matrix: Dict, indel_penalty=5):\r\n",
        "    # can be optimized to use only 2 lines if no backtrack is required\r\n",
        "    li = len(self.code)\r\n",
        "    lj = len(other_peptide.code)\r\n",
        "    scores = np.zeros((li+1, lj+1))\r\n",
        "    for i in range(1, lj+1):\r\n",
        "      scores[0,i] = scores[0,i-1] - indel_penalty\r\n",
        "    for i in range(1, li+1):\r\n",
        "      scores[i,0] = scores[i-1, 0] -indel_penalty\r\n",
        "    backtrack = np.zeros(scores.shape)\r\n",
        "    backtrack[0,:] = 2\r\n",
        "    backtrack[:,0] = 1\r\n",
        "    for i in range(1, li + 1):\r\n",
        "      for j in range(1, lj + 1):\r\n",
        "        from_top = scores[i-1,j] - indel_penalty\r\n",
        "        from_left = scores[i,j-1] - indel_penalty\r\n",
        "        extra_cost = cost_matrix[self.code[i-1]][other_peptide.code[j-1]]\r\n",
        "        from_diagonal = scores[i-1,j-1] + extra_cost\r\n",
        "        scores[i, j] = max(from_top, from_left, from_diagonal)\r\n",
        "        # print(i, j, scores[i,j], from_top, from_left, from_diagonal, extra_cost, self.code[i-1], other_peptide.code[j-1])\r\n",
        "        if scores[i, j] == from_top:\r\n",
        "            backtrack[i, j] = 1\r\n",
        "        elif scores[i, j] == from_left:\r\n",
        "            backtrack[i, j] = 2\r\n",
        "        else:\r\n",
        "            backtrack[i, j] = 0\r\n",
        "    return scores, CostPath(self, other_peptide, backtrack)\r\n",
        "\r\n",
        "  def local_alignment(self, other_peptide, cost_matrix: Dict, indel_penalty=5):\r\n",
        "    li = len(self.code)\r\n",
        "    lj = len(other_peptide.code)\r\n",
        "    scores = np.zeros((li+1, lj+1))\r\n",
        "    backtrack = np.zeros(scores.shape)\r\n",
        "    backtrack[0,:] = 2\r\n",
        "    backtrack[:,0] = 1\r\n",
        "    for i in range(1, li + 1):\r\n",
        "      for j in range(1, lj + 1):\r\n",
        "        from_beginning = 0\r\n",
        "        from_top = scores[i-1,j] - indel_penalty\r\n",
        "        from_left = scores[i,j-1] - indel_penalty\r\n",
        "        extra_cost = cost_matrix[self.code[i-1]][other_peptide.code[j-1]]\r\n",
        "        from_diagonal = scores[i-1,j-1] + extra_cost\r\n",
        "        scores[i, j] = max(from_top, from_left, from_diagonal, from_beginning)\r\n",
        "        # print(i, j, scores[i,j], from_top, from_left, from_diagonal, from_beginning, extra_cost, self.code[i-1], other_peptide.code[j-1])\r\n",
        "        if scores[i, j] == from_top:\r\n",
        "            backtrack[i, j] = 1\r\n",
        "        elif scores[i, j] == from_left:\r\n",
        "            backtrack[i, j] = 2\r\n",
        "        elif scores[i, j] == from_diagonal:\r\n",
        "            backtrack[i, j] = 0\r\n",
        "        else:\r\n",
        "            backtrack[i, j] = 3\r\n",
        "    x, y = np.unravel_index(scores.argmax(), backtrack.shape)\r\n",
        "    return scores, CostPath(self, other_peptide, backtrack, x, y)\r\n",
        "\r\n",
        "\r\n",
        "  def edit_distance(self, other_peptide):\r\n",
        "    li = len(self.code)\r\n",
        "    lj = len(other_peptide.code)\r\n",
        "    scores = np.zeros((li+1, lj+1))\r\n",
        "    scores[:,0] = range(len(self.code) + 1)\r\n",
        "    scores[0,:] = range(len(other_peptide.code) + 1)\r\n",
        "    for i in range(1, li + 1):\r\n",
        "      for j in range(1, lj + 1):\r\n",
        "        differs = self.code[i-1] != other_peptide.code[j-1]\r\n",
        "        from_diagonal = scores[i-1][j-1] + differs\r\n",
        "        from_top = scores[i-1,j] + 1\r\n",
        "        from_left = scores[i,j-1] + 1\r\n",
        "        scores[i, j] = min(from_top, from_left, from_diagonal)\r\n",
        "        # print(i,j,self.code[i-1] , other_peptide.code[j-1],differs,from_diagonal,from_top,from_left, scores[i,j])\r\n",
        "    return scores\r\n",
        "\r\n",
        "\r\n",
        "  def fitting_alignment(self, other_peptide, indel_penalty = 1, mismatch_penalty = 1, match_bonus = 1):\r\n",
        "    li = len(self.code)\r\n",
        "    lj = len(other_peptide.code)\r\n",
        "    scores = np.zeros((li+1, lj+1))\r\n",
        "    scores[0,:] = np.array(list(range(0, -lj-1, -1))) * indel_penalty\r\n",
        "    backtrack = np.zeros(scores.shape)\r\n",
        "    backtrack[0,:] = 2\r\n",
        "    backtrack[:,0] = 1\r\n",
        "    for i in range(1, li + 1):\r\n",
        "      for j in range(1, lj + 1):\r\n",
        "        from_top = scores[i-1,j] - indel_penalty\r\n",
        "        from_left = scores[i,j-1] - indel_penalty\r\n",
        "        matches = self.code[i-1] == other_peptide.code[j-1]\r\n",
        "        if matches:\r\n",
        "          extra_cost = match_bonus\r\n",
        "        else:\r\n",
        "          extra_cost = -1 * mismatch_penalty\r\n",
        "        from_diagonal = scores[i-1,j-1] + extra_cost\r\n",
        "        scores[i, j] = max(from_top, from_left, from_diagonal)\r\n",
        "        # print(i, j, scores[i,j], from_top, from_left, from_diagonal, from_beginning, extra_cost, self.code[i-1], other_peptide.code[j-1])\r\n",
        "        if scores[i, j] == from_top:\r\n",
        "            backtrack[i, j] = 1\r\n",
        "        elif scores[i, j] == from_left:\r\n",
        "            backtrack[i, j] = 2\r\n",
        "        else:\r\n",
        "            backtrack[i, j] = 0\r\n",
        "    maxv = scores[:,-1].argmax()\r\n",
        "    i, j = maxv, lj\r\n",
        "    return scores, backtrack, (i, j), scores[:,-1], scores[:,-1].max(), CostPath(self, other_peptide, backtrack, i, j, finalize_on_left=True)\r\n",
        "\r\n"
      ],
      "execution_count": 184,
      "outputs": []
    },
    {
      "cell_type": "code",
      "metadata": {
        "colab": {
          "base_uri": "https://localhost:8080/"
        },
        "id": "rqFN2gvX-YZt",
        "outputId": "44bb9780-be8a-48b8-9005-37b446c80219"
      },
      "source": [
        "\r\n",
        "Peptide(\"ACGACAGAG\").fitting_alignment(Peptide(\"CGAGAGGTT\"), mismatch_penalty=3, match_bonus=2)"
      ],
      "execution_count": 185,
      "outputs": [
        {
          "output_type": "execute_result",
          "data": {
            "text/plain": [
              "(array([[ 0., -1., -2., -3., -4., -5., -6., -7., -8., -9.],\n",
              "        [ 0., -1., -2.,  0., -1., -2., -3., -4., -5., -6.],\n",
              "        [ 0.,  2.,  1.,  0., -1., -2., -3., -4., -5., -6.],\n",
              "        [ 0.,  1.,  4.,  3.,  2.,  1.,  0., -1., -2., -3.],\n",
              "        [ 0.,  0.,  3.,  6.,  5.,  4.,  3.,  2.,  1.,  0.],\n",
              "        [ 0.,  2.,  2.,  5.,  4.,  3.,  2.,  1.,  0., -1.],\n",
              "        [ 0.,  1.,  1.,  4.,  3.,  6.,  5.,  4.,  3.,  2.],\n",
              "        [ 0.,  0.,  3.,  3.,  6.,  5.,  8.,  7.,  6.,  5.],\n",
              "        [ 0., -1.,  2.,  5.,  5.,  8.,  7.,  6.,  5.,  4.],\n",
              "        [ 0., -1.,  1.,  4.,  7.,  7., 10.,  9.,  8.,  7.]]),\n",
              " array([[1., 2., 2., 2., 2., 2., 2., 2., 2., 2.],\n",
              "        [1., 2., 2., 0., 2., 2., 2., 2., 2., 2.],\n",
              "        [1., 0., 2., 2., 2., 2., 2., 2., 2., 2.],\n",
              "        [1., 1., 0., 2., 2., 2., 2., 2., 2., 2.],\n",
              "        [1., 1., 1., 0., 2., 2., 2., 2., 2., 2.],\n",
              "        [1., 0., 1., 1., 1., 1., 1., 1., 1., 1.],\n",
              "        [1., 1., 1., 1., 1., 0., 2., 2., 2., 2.],\n",
              "        [1., 1., 0., 1., 0., 1., 0., 2., 2., 2.],\n",
              "        [1., 1., 1., 0., 1., 0., 1., 1., 1., 1.],\n",
              "        [1., 2., 1., 1., 0., 1., 0., 2., 2., 2.]]),\n",
              " (9, 9),\n",
              " array([-9., -6., -6., -3.,  0., -1.,  2.,  5.,  4.,  7.]),\n",
              " 7.0,\n",
              " CGACAGAG---\n",
              " CGA--GAGGTT)"
            ]
          },
          "metadata": {
            "tags": []
          },
          "execution_count": 185
        }
      ]
    },
    {
      "cell_type": "code",
      "metadata": {
        "colab": {
          "base_uri": "https://localhost:8080/"
        },
        "id": "BkO3zJeG_Xic",
        "outputId": "db2c8a1f-198a-488f-c275-bc6f2d0e1cdf"
      },
      "source": [
        "\r\n",
        "Peptide(\"CAAGACTACTATTAG \").fitting_alignment(Peptide(\"GG\"), match_bonus=10)"
      ],
      "execution_count": 186,
      "outputs": [
        {
          "output_type": "execute_result",
          "data": {
            "text/plain": [
              "(array([[ 0., -1., -2.],\n",
              "        [ 0., -1., -2.],\n",
              "        [ 0., -1., -2.],\n",
              "        [ 0., -1., -2.],\n",
              "        [ 0., 10.,  9.],\n",
              "        [ 0.,  9.,  9.],\n",
              "        [ 0.,  8.,  8.],\n",
              "        [ 0.,  7.,  7.],\n",
              "        [ 0.,  6.,  6.],\n",
              "        [ 0.,  5.,  5.],\n",
              "        [ 0.,  4.,  4.],\n",
              "        [ 0.,  3.,  3.],\n",
              "        [ 0.,  2.,  2.],\n",
              "        [ 0.,  1.,  1.],\n",
              "        [ 0.,  0.,  0.],\n",
              "        [ 0., 10., 10.],\n",
              "        [ 0.,  9.,  9.]]), array([[1., 2., 2.],\n",
              "        [1., 2., 2.],\n",
              "        [1., 2., 2.],\n",
              "        [1., 2., 2.],\n",
              "        [1., 0., 2.],\n",
              "        [1., 1., 0.],\n",
              "        [1., 1., 1.],\n",
              "        [1., 1., 1.],\n",
              "        [1., 1., 1.],\n",
              "        [1., 1., 1.],\n",
              "        [1., 1., 1.],\n",
              "        [1., 1., 1.],\n",
              "        [1., 1., 1.],\n",
              "        [1., 1., 1.],\n",
              "        [1., 1., 1.],\n",
              "        [1., 0., 0.],\n",
              "        [1., 1., 1.]]), (15,\n",
              "  2), array([-2., -2., -2., -2.,  9.,  9.,  8.,  7.,  6.,  5.,  4.,  3.,  2.,\n",
              "         1.,  0., 10.,  9.]), 10.0, GACTACTATTAG\n",
              " G----------G)"
            ]
          },
          "metadata": {
            "tags": []
          },
          "execution_count": 186
        }
      ]
    },
    {
      "cell_type": "code",
      "metadata": {
        "colab": {
          "base_uri": "https://localhost:8080/"
        },
        "id": "xIaDxH7P6qEN",
        "outputId": "4939ab2c-f24b-475b-ebd4-3f7d5ead11a1"
      },
      "source": [
        "\r\n",
        "Peptide(\"GAGA\").fitting_alignment(Peptide(\"GAT\"), indel_penalty = 2)\r\n"
      ],
      "execution_count": 187,
      "outputs": [
        {
          "output_type": "execute_result",
          "data": {
            "text/plain": [
              "(array([[ 0., -2., -4., -6.],\n",
              "        [ 0.,  1., -1., -3.],\n",
              "        [ 0., -1.,  2.,  0.],\n",
              "        [ 0.,  1.,  0.,  1.],\n",
              "        [ 0., -1.,  2.,  0.]]), array([[1., 2., 2., 2.],\n",
              "        [1., 0., 2., 2.],\n",
              "        [1., 1., 0., 2.],\n",
              "        [1., 0., 1., 0.],\n",
              "        [1., 1., 0., 2.]]), (3, 3), array([-6., -3.,  0.,  1.,  0.]), 1.0, GAG\n",
              " GAT)"
            ]
          },
          "metadata": {
            "tags": []
          },
          "execution_count": 187
        }
      ]
    },
    {
      "cell_type": "code",
      "metadata": {
        "colab": {
          "base_uri": "https://localhost:8080/"
        },
        "id": "BOx8F31NbPnx",
        "outputId": "5fc72819-de05-4cab-f9b7-4cade65ce5ef"
      },
      "source": [
        "\r\n",
        "Peptide(\"GTAGGCTTAAGGTTA\").fitting_alignment(Peptide(\"TAGATA\"))\r\n"
      ],
      "execution_count": 188,
      "outputs": [
        {
          "output_type": "execute_result",
          "data": {
            "text/plain": [
              "(array([[ 0., -1., -2., -3., -4., -5., -6.],\n",
              "        [ 0., -1., -2., -1., -2., -3., -4.],\n",
              "        [ 0.,  1.,  0., -1., -2., -1., -2.],\n",
              "        [ 0.,  0.,  2.,  1.,  0., -1.,  0.],\n",
              "        [ 0., -1.,  1.,  3.,  2.,  1.,  0.],\n",
              "        [ 0., -1.,  0.,  2.,  2.,  1.,  0.],\n",
              "        [ 0., -1., -1.,  1.,  1.,  1.,  0.],\n",
              "        [ 0.,  1.,  0.,  0.,  0.,  2.,  1.],\n",
              "        [ 0.,  1.,  0., -1., -1.,  1.,  1.],\n",
              "        [ 0.,  0.,  2.,  1.,  0.,  0.,  2.],\n",
              "        [ 0., -1.,  1.,  1.,  2.,  1.,  1.],\n",
              "        [ 0., -1.,  0.,  2.,  1.,  1.,  0.],\n",
              "        [ 0., -1., -1.,  1.,  1.,  0.,  0.],\n",
              "        [ 0.,  1.,  0.,  0.,  0.,  2.,  1.],\n",
              "        [ 0.,  1.,  0., -1., -1.,  1.,  1.],\n",
              "        [ 0.,  0.,  2.,  1.,  0.,  0.,  2.]]),\n",
              " array([[1., 2., 2., 2., 2., 2., 2.],\n",
              "        [1., 2., 2., 0., 2., 2., 2.],\n",
              "        [1., 0., 2., 2., 2., 0., 2.],\n",
              "        [1., 1., 0., 2., 2., 2., 0.],\n",
              "        [1., 1., 1., 0., 2., 2., 2.],\n",
              "        [1., 2., 1., 1., 0., 2., 2.],\n",
              "        [1., 2., 1., 1., 1., 0., 2.],\n",
              "        [1., 0., 2., 1., 1., 0., 2.],\n",
              "        [1., 0., 2., 1., 1., 1., 0.],\n",
              "        [1., 1., 0., 2., 2., 1., 0.],\n",
              "        [1., 1., 1., 0., 0., 2., 1.],\n",
              "        [1., 2., 1., 0., 1., 0., 1.],\n",
              "        [1., 2., 1., 1., 0., 1., 0.],\n",
              "        [1., 0., 2., 1., 1., 0., 2.],\n",
              "        [1., 0., 2., 1., 1., 1., 0.],\n",
              "        [1., 1., 0., 2., 2., 1., 0.]]),\n",
              " (9, 6),\n",
              " array([-6., -4., -2.,  0.,  0.,  0.,  0.,  1.,  1.,  2.,  1.,  0.,  0.,\n",
              "         1.,  1.,  2.]),\n",
              " 2.0,\n",
              " TAGGCTTA\n",
              " TAGA-T-A)"
            ]
          },
          "metadata": {
            "tags": []
          },
          "execution_count": 188
        }
      ]
    },
    {
      "cell_type": "code",
      "metadata": {
        "colab": {
          "base_uri": "https://localhost:8080/"
        },
        "id": "cKliS3mC9EFP",
        "outputId": "92e83c4d-62e7-44c0-a5d1-bbba4d0eaacf"
      },
      "source": [
        "\r\n",
        "Peptide(\"TAGATA\").fitting_alignment(Peptide(\"GTAGGCTTAAGGTTA\"))\r\n"
      ],
      "execution_count": 189,
      "outputs": [
        {
          "output_type": "execute_result",
          "data": {
            "text/plain": [
              "(array([[  0.,  -1.,  -2.,  -3.,  -4.,  -5.,  -6.,  -7.,  -8.,  -9., -10.,\n",
              "         -11., -12., -13., -14., -15.],\n",
              "        [  0.,  -1.,   0.,  -1.,  -2.,  -3.,  -4.,  -5.,  -6.,  -7.,  -8.,\n",
              "          -9., -10., -11., -12., -13.],\n",
              "        [  0.,  -1.,  -1.,   1.,   0.,  -1.,  -2.,  -3.,  -4.,  -5.,  -6.,\n",
              "          -7.,  -8.,  -9., -10., -11.],\n",
              "        [  0.,   1.,   0.,   0.,   2.,   1.,   0.,  -1.,  -2.,  -3.,  -4.,\n",
              "          -5.,  -6.,  -7.,  -8.,  -9.],\n",
              "        [  0.,   0.,   0.,   1.,   1.,   1.,   0.,  -1.,  -2.,  -1.,  -2.,\n",
              "          -3.,  -4.,  -5.,  -6.,  -7.],\n",
              "        [  0.,  -1.,   1.,   0.,   0.,   0.,   0.,   1.,   0.,  -1.,  -2.,\n",
              "          -3.,  -4.,  -3.,  -4.,  -5.],\n",
              "        [  0.,  -1.,   0.,   2.,   1.,   0.,  -1.,   0.,   0.,   1.,   0.,\n",
              "          -1.,  -2.,  -3.,  -4.,  -3.]]),\n",
              " array([[1., 2., 2., 2., 2., 2., 2., 2., 2., 2., 2., 2., 2., 2., 2., 2.],\n",
              "        [1., 2., 0., 2., 2., 2., 2., 2., 2., 2., 2., 2., 2., 2., 2., 2.],\n",
              "        [1., 2., 1., 0., 2., 2., 2., 2., 2., 2., 2., 2., 2., 2., 2., 2.],\n",
              "        [1., 0., 2., 1., 0., 2., 2., 2., 2., 2., 2., 2., 2., 2., 2., 2.],\n",
              "        [1., 1., 0., 0., 1., 0., 2., 2., 2., 0., 2., 2., 2., 2., 2., 2.],\n",
              "        [1., 1., 0., 1., 1., 1., 0., 0., 2., 2., 2., 2., 2., 0., 2., 2.],\n",
              "        [1., 2., 1., 0., 2., 2., 1., 1., 0., 0., 2., 2., 2., 2., 2., 0.]]),\n",
              " (6, 15),\n",
              " array([-15., -13., -11.,  -9.,  -7.,  -5.,  -3.]),\n",
              " -3.0,\n",
              " -TAG----A---T-A\n",
              " GTAGGCTTAAGGTTA)"
            ]
          },
          "metadata": {
            "tags": []
          },
          "execution_count": 189
        }
      ]
    },
    {
      "cell_type": "code",
      "metadata": {
        "colab": {
          "base_uri": "https://localhost:8080/"
        },
        "id": "vmUS7pKf9Wae",
        "outputId": "ed476dbc-1322-40db-b84d-abc567e0ecb2"
      },
      "source": [
        "\r\n",
        "Peptide(\"GTTGCTAAACCTCCTCATATGTTTTTGCCAAGCTGGACATGCTTCAGGGATAGATAACTCGTCACCTCAGCATCACGCTCGCCGGGGGAGAACCGTTCGTCTGACGTTGCGTCTGGCACCCTACTCCTTTAAGCGTGCGGAAACGAGGGTTTCAACCGGATCTCGCTTTAGTGGCGACCTATATTGGCCACATAGCTTTTCGGGTAAAGGTCAAGAGCCCGCACCCTCGAGCGCCGATTAACAGACGTTCTCTTCACCTACCATGTAGAATACTCAATAAGGAAAGCCAGATAGTCCCGGGGTCTACGCGTAGTCATGCCTGAATTTAGCAGTTATCGATACGTCCAGAAACACGTGTGGACGAGTAGGGCTAAAGGTGCCCTGCAGTATCGCTTTCCATTAAAGTCCGTCGCGCCGGGCTTTTCCGTTATGTGTAGCCAACCGATGGAGGGCCATCAAGCTACAACATGGATTGGAAAACGATGACCAAACGCTCGGACCGATACTCCTAGGGTAGAATAAACAAAGCGGAGGGGGTGAAGATCCCGTTACATTTTAGCCCCGATGCGCATTATTCGGGGGATTTCAGCCATAACGTCTGCCCTCCTGCTGACAATGTGATATGAGGACGCGTGAACAAGTCGTTTCCGACGCACCCGGCTCCGCTAGACCGTAGCCAGCTGCGGTCGCAAAGATAGCAACAGCTCCGCCAACCACGGCGATATTTGAGTCCAGCCATACTTCCTACTTATGACAACACAGCGGTTCTTACCACCAACATAAGAGCTTTGAAGCGGTACGGTCGATTACGCACGCAATGGAGCTGTGTCATTGGAGTGTGATGTAGGCGTTGAGCGCTGCGCCTGAGCGCACTATGTCGATCCCGCCCGCTAATGCTTCTAATTGCACTATGTATAAGACGACGAATGTTCTGACATGCTCTCG\").fitting_alignment(Peptide(\"GTCGTTGTACCGTTGTCCAGTTACAGATTCCGTTGCGGAATGCTGGTAGTGGACATAGCTCTAAATCAGGACGATTCAAC\"))\r\n",
        "\r\n"
      ],
      "execution_count": 190,
      "outputs": [
        {
          "output_type": "execute_result",
          "data": {
            "text/plain": [
              "(array([[  0.,  -1.,  -2., ..., -78., -79., -80.],\n",
              "        [  0.,   1.,   0., ..., -76., -77., -78.],\n",
              "        [  0.,   0.,   2., ..., -74., -75., -76.],\n",
              "        ...,\n",
              "        [  0.,  -1.,   0., ...,  10.,  10.,  12.],\n",
              "        [  0.,  -1.,  -1., ...,   9.,   9.,  11.],\n",
              "        [  0.,   1.,   0., ...,   9.,   8.,  10.]]),\n",
              " array([[1., 2., 2., ..., 2., 2., 2.],\n",
              "        [1., 0., 2., ..., 2., 2., 2.],\n",
              "        [1., 1., 0., ..., 2., 2., 2.],\n",
              "        ...,\n",
              "        [1., 2., 0., ..., 0., 1., 1.],\n",
              "        [1., 2., 1., ..., 1., 1., 1.],\n",
              "        [1., 0., 2., ..., 0., 1., 1.]]),\n",
              " (391, 80),\n",
              " array([-80., -78., -76., -74., -72., -70., -68., -66., -64., -62., -60.,\n",
              "        -58., -56., -54., -52., -50., -48., -46., -44., -42., -40., -38.,\n",
              "        -36., -34., -34., -32., -30., -30., -28., -27., -26., -24., -24.,\n",
              "        -23., -21., -21., -20., -18., -16., -14., -12., -12., -10., -10.,\n",
              "        -10.,  -8.,  -6.,  -4.,  -2.,   0.,   2.,   4.,   6.,   6.,   7.,\n",
              "          7.,   7.,   8.,  10.,   9.,   8.,   7.,   6.,   7.,   6.,   8.,\n",
              "          8.,   7.,   8.,   9.,   9.,  11.,  10.,   9.,  10.,  12.,  14.,\n",
              "         13.,  13.,  12.,  11.,  10.,  11.,  11.,  10.,   9.,   8.,   7.,\n",
              "          6.,   5.,   5.,   5.,   5.,   7.,   6.,   5.,   4.,   3.,   4.,\n",
              "          4.,   4.,   6.,   5.,   4.,   3.,   5.,   4.,   3.,   3.,   3.,\n",
              "          5.,   4.,   4.,   6.,   5.,   4.,   3.,   3.,   3.,   5.,   5.,\n",
              "          4.,   3.,   4.,   6.,   5.,   5.,   6.,   5.,   4.,   3.,   4.,\n",
              "          6.,   6.,   7.,   6.,   5.,   4.,   6.,   6.,   6.,   7.,   8.,\n",
              "          9.,  11.,  10.,   9.,   9.,   8.,   7.,   6.,   6.,   6.,   8.,\n",
              "          9.,  11.,  13.,  12.,  11.,  10.,   9.,   8.,   7.,   7.,   9.,\n",
              "          8.,  10.,   9.,   8.,   8.,  10.,  10.,  10.,   9.,   8.,   9.,\n",
              "          8.,   8.,  10.,  12.,  11.,  12.,  12.,  12.,  12.,  11.,  10.,\n",
              "          9.,  11.,  10.,  10.,  12.,  11.,  10.,  10.,  10.,  11.,  10.,\n",
              "          9.,   8.,   7.,   8.,   8.,   8.,   8.,   7.,   8.,  10.,  10.,\n",
              "         10.,   9.,   8.,   9.,  10.,  12.,  12.,  11.,  10.,  11.,  10.,\n",
              "         10.,   9.,  10.,   9.,  11.,  11.,  10.,   9.,  10.,   9.,  10.,\n",
              "         10.,  11.,  10.,   9.,   8.,   7.,   6.,   5.,   5.,   7.,   9.,\n",
              "         11.,  10.,   9.,   8.,  10.,   9.,   8.,   7.,   6.,   5.,   7.,\n",
              "          6.,   5.,   6.,   5.,   6.,   5.,   4.,   3.,   4.,   3.,   2.,\n",
              "          1.,   0.,   0.,   2.,   2.,   3.,   3.,   3.,   2.,   3.,   2.,\n",
              "          2.,   2.,   4.,   4.,   3.,   2.,   2.,   2.,   4.,   6.,   8.,\n",
              "          8.,  10.,  10.,  10.,  10.,  11.,  11.,  10.,   9.,   9.,  10.,\n",
              "         11.,  11.,  10.,   9.,   8.,   7.,   6.,   7.,   7.,   9.,  11.,\n",
              "         10.,   9.,   8.,   7.,   6.,   6.,   6.,   7.,   7.,   7.,   7.,\n",
              "          8.,   7.,   6.,   5.,   6.,   8.,   8.,   8.,   8.,  10.,  10.,\n",
              "         12.,  11.,  10.,   9.,   8.,   8.,   8.,  10.,   9.,   9.,   9.,\n",
              "          9.,  11.,  10.,   9.,   9.,   8.,   8.,   8.,   8.,   8.,   7.,\n",
              "          8.,   7.,   6.,   5.,   5.,   5.,   6.,   6.,   6.,   8.,  10.,\n",
              "          9.,   9.,   9.,   8.,  10.,  10.,  10.,   9.,  10.,   9.,   8.,\n",
              "         10.,  10.,  10.,  10.,  12.,  12.,  14.,  16.,  16.,  15.,  14.,\n",
              "         16.,  17.,  17.,  17.,  17.,  17.,  18.,  17.,  18.,  17.,  16.,\n",
              "         15.,  17.,  18.,  18.,  18.,  17.,  17.,  17.,  16.,  15.,  14.,\n",
              "         15.,  14.,  13.,  12.,  11.,  10.,   9.,   8.,   8.,   8.,   7.,\n",
              "          6.,   6.,   7.,   6.,   5.,   4.,   4.,   6.,   6.,   5.,   4.,\n",
              "          3.,   3.,   3.,   2.,   1.,   0.,  -1.,   1.,   1.,   3.,   3.,\n",
              "          3.,   5.,   7.,   6.,   5.,   6.,   7.,   7.,   7.,   9.,   9.,\n",
              "          9.,   8.,   9.,  11.,  11.,  11.,  13.,  13.,  15.,  15.,  16.,\n",
              "         15.,  14.,  13.,  12.,  11.,  13.,  12.,  11.,  10.,   9.,  11.,\n",
              "         12.,  14.,  14.,  14.,  16.,  17.,  17.,  16.,  17.,  16.,  15.,\n",
              "         14.,  13.,  15.,  17.,  17.,  16.,  17.,  17.,  18.,  17.,  16.,\n",
              "         15.,  14.,  13.,  12.,  11.,  10.,   9.,   8.,   7.,   6.,   7.,\n",
              "          9.,   8.,   9.,   9.,   8.,   8.,   8.,   7.,   6.,   5.,   5.,\n",
              "          5.,   4.,   4.,   4.,   4.,   6.,   6.,   8.,   7.,   6.,   5.,\n",
              "          4.,   5.,   4.,   3.,   3.,   3.,   3.,   3.,   3.,   3.,   4.,\n",
              "          4.,   6.,   8.,   8.,   7.,   6.,   7.,   6.,   6.,   5.,   4.,\n",
              "          3.,   3.,   5.,   4.,   3.,   3.,   2.,   2.,   4.,   4.,   5.,\n",
              "          4.,   4.,   4.,   3.,   4.,   5.,   5.,   7.,   7.,   9.,   8.,\n",
              "          8.,   7.,   7.,   7.,   7.,   8.,   7.,   6.,   6.,   5.,   4.,\n",
              "          4.,   4.,   3.,   2.,   4.,   5.,   5.,   7.,   6.,   5.,   4.,\n",
              "          3.,   5.,   7.,   6.,   6.,   8.,   8.,   8.,  10.,  10.,  10.,\n",
              "          9.,   9.,  10.,   9.,   8.,  10.,   9.,   8.,   8.,  10.,   9.,\n",
              "          9.,   9.,   8.,   7.,   6.,   8.,   8.,   9.,   9.,   8.,   7.,\n",
              "          6.,   5.,   5.,   7.,   6.,   6.,   6.,   6.,   6.,   8.,  10.,\n",
              "         12.,  11.,  10.,   9.,   8.,   9.,   8.,   7.,   9.,   9.,  11.,\n",
              "         13.,  12.,  12.,  14.,  13.,  12.,  11.,  12.,  11.,  10.,   9.,\n",
              "          8.,   9.,   8.,   7.,   7.,   6.,   7.,   6.,   5.,   4.,   4.,\n",
              "          6.,   5.,   4.,   3.,   2.,   1.,   3.,   2.,   2.,   2.,   4.,\n",
              "          3.,   2.,   2.,   1.,   1.,   2.,   4.,   4.,   6.,   7.,   9.,\n",
              "          9.,   8.,   7.,   7.,   7.,   7.,   8.,   7.,   8.,  10.,   9.,\n",
              "          8.,   8.,   7.,   8.,  10.,   9.,  10.,  10.,   9.,  11.,  13.,\n",
              "         12.,  11.,  11.,  10.,   9.,   9.,   8.,   8.,  10.,  12.,  12.,\n",
              "         12.,  11.,  11.,  12.,  12.,  11.,  12.,  11.,  10.,   9.,  10.,\n",
              "          9.,   8.,   7.,   6.,   7.,   6.,   5.,   6.,   6.,   5.,   5.,\n",
              "          7.,   6.,   5.,   4.,   4.,   4.,   4.,   6.,   5.,   6.,   8.,\n",
              "          7.,   8.,   7.,   7.,   8.,   7.,   6.,   5.,   4.,   3.,   3.,\n",
              "          3.,   4.,   6.,   5.,   4.,   5.,   4.,   3.,   2.,   3.,   2.,\n",
              "          1.,   2.,   4.,   4.,   3.,   3.,   4.,   3.,   3.,   3.,   3.,\n",
              "          5.,   6.,   6.,   7.,   6.,   5.,   4.,   3.,   3.,   2.,   1.,\n",
              "          1.,   3.,   3.,   5.,   5.,   4.,   4.,   6.,   5.,   5.,   4.,\n",
              "          6.,   5.,   4.,   3.,   5.,   5.,   4.,   3.,   4.,   4.,   6.,\n",
              "          6.,   6.,   7.,   7.,   7.,   9.,  11.,  11.,  11.,  10.,   9.,\n",
              "          9.,   9.,   8.,   7.,   6.,   5.,   6.,   6.,   6.,   5.,   6.,\n",
              "          6.,   6.,   7.,   7.,   9.,  11.,  11.,  13.,  13.,  15.,  14.,\n",
              "         13.,  12.,  11.,  10.,   9.,  11.,  11.,  10.,   9.,   8.,   8.,\n",
              "         10.,   9.,   9.,   8.,  10.,   9.,   8.,   8.,   8.,   7.,   9.,\n",
              "          9.,  11.,  11.,  12.,  11.,  10.,   9.,   8.,   7.,   6.,   5.,\n",
              "          5.,   4.,   6.,   8.,   8.,   7.,   8.,   7.,   6.,   7.,   6.,\n",
              "          6.,   7.,   7.,   6.,   5.,   6.,   5.,   7.,   6.,   5.,   5.,\n",
              "          5.,   6.,   8.,   8.,   9.,   9.,   9.,   8.,  10.,   9.,   9.,\n",
              "         11.,  11.,  13.,  14.,  14.,  13.,  13.,  13.,  15.,  14.,  14.,\n",
              "         15.,  17.,  16.,  15.,  14.,  15.,  14.,  13.,  12.,  11.,  10.]),\n",
              " 18.0,\n",
              " G-CGTAGTCATGCCTGAATT-TAGCAGTTATC-GATAC-GTC-CAGAAA-CACGT-GTGGACGAGTAGGGCTAAAG--GTGCCC-TGCAGTATC\n",
              " GTCGTTGT-A--CC-G--TTGTC-CAGTTA-CAGATTCCGTTGCGGAATGCTGGTAGTGGAC-A-TAGCTCTAAATCAG-GACGATTCA--A-C)"
            ]
          },
          "metadata": {
            "tags": []
          },
          "execution_count": 190
        }
      ]
    },
    {
      "cell_type": "code",
      "metadata": {
        "colab": {
          "base_uri": "https://localhost:8080/"
        },
        "id": "LcShSwXZ-KIt",
        "outputId": "cc2189a9-2331-4104-c0e4-02ae5442deaa"
      },
      "source": [
        "\r\n",
        "Peptide(\"CCAT\").fitting_alignment(Peptide(\"AT\"), mismatch_penalty=5)"
      ],
      "execution_count": 191,
      "outputs": [
        {
          "output_type": "execute_result",
          "data": {
            "text/plain": [
              "(array([[ 0., -1., -2.],\n",
              "        [ 0., -1., -2.],\n",
              "        [ 0., -1., -2.],\n",
              "        [ 0.,  1.,  0.],\n",
              "        [ 0.,  0.,  2.]]), array([[1., 2., 2.],\n",
              "        [1., 2., 2.],\n",
              "        [1., 2., 2.],\n",
              "        [1., 0., 2.],\n",
              "        [1., 1., 0.]]), (4, 2), array([-2., -2., -2.,  0.,  2.]), 2.0, AT\n",
              " AT)"
            ]
          },
          "metadata": {
            "tags": []
          },
          "execution_count": 191
        }
      ]
    },
    {
      "cell_type": "code",
      "metadata": {
        "colab": {
          "base_uri": "https://localhost:8080/"
        },
        "id": "u3TJh00O-RL0",
        "outputId": "8b0d7a42-8efe-4590-a55d-e1375a513b80"
      },
      "source": [
        "\r\n",
        "Peptide(\"CACGTC\").fitting_alignment(Peptide(\"AT\"))[3]"
      ],
      "execution_count": 172,
      "outputs": [
        {
          "output_type": "execute_result",
          "data": {
            "text/plain": [
              "A-\n",
              "AT"
            ]
          },
          "metadata": {
            "tags": []
          },
          "execution_count": 172
        }
      ]
    },
    {
      "cell_type": "code",
      "metadata": {
        "colab": {
          "base_uri": "https://localhost:8080/"
        },
        "id": "E4NgIOHT-NVy",
        "outputId": "3b37763b-3fc7-4b0d-9b6f-abe9d3aa7b84"
      },
      "source": [
        "\r\n",
        "Peptide(\"ATCC\").fitting_alignment(Peptide(\"AT\"))[3]"
      ],
      "execution_count": 173,
      "outputs": [
        {
          "output_type": "execute_result",
          "data": {
            "text/plain": [
              "AT\n",
              "AT"
            ]
          },
          "metadata": {
            "tags": []
          },
          "execution_count": 173
        }
      ]
    },
    {
      "cell_type": "code",
      "metadata": {
        "colab": {
          "base_uri": "https://localhost:8080/"
        },
        "id": "IyF-d8lw0K2F",
        "outputId": "ad65eaa9-332b-45f9-e9e9-2f324edbf5db"
      },
      "source": [
        "Peptide(\"CGT\").edit_distance(Peptide(\"CAGACGGTGACG\"))\r\n"
      ],
      "execution_count": 118,
      "outputs": [
        {
          "output_type": "execute_result",
          "data": {
            "text/plain": [
              "array([[ 0.,  1.,  2.,  3.,  4.,  5.,  6.,  7.,  8.,  9., 10., 11., 12.],\n",
              "       [ 1.,  0.,  1.,  2.,  3.,  4.,  5.,  6.,  7.,  8.,  9., 10., 11.],\n",
              "       [ 2.,  1.,  1.,  1.,  2.,  3.,  4.,  5.,  6.,  7.,  8.,  9., 10.],\n",
              "       [ 3.,  2.,  2.,  2.,  2.,  3.,  4.,  5.,  5.,  6.,  7.,  8.,  9.]])"
            ]
          },
          "metadata": {
            "tags": []
          },
          "execution_count": 118
        }
      ]
    },
    {
      "cell_type": "code",
      "metadata": {
        "colab": {
          "base_uri": "https://localhost:8080/"
        },
        "id": "FvVmst8W1Xr2",
        "outputId": "9fe1fa15-fb2f-4bec-a756-5e4790842bb7"
      },
      "source": [
        "Peptide(\"CAGACGGTGACG\").edit_distance(Peptide(\"CGT\"))\r\n"
      ],
      "execution_count": 43,
      "outputs": [
        {
          "output_type": "execute_result",
          "data": {
            "text/plain": [
              "array([[ 0.,  1.,  2.,  3.],\n",
              "       [ 1.,  0.,  1.,  2.],\n",
              "       [ 2.,  1.,  1.,  2.],\n",
              "       [ 3.,  2.,  1.,  2.],\n",
              "       [ 4.,  3.,  2.,  2.],\n",
              "       [ 5.,  4.,  3.,  3.],\n",
              "       [ 6.,  5.,  4.,  4.],\n",
              "       [ 7.,  6.,  5.,  5.],\n",
              "       [ 8.,  7.,  6.,  5.],\n",
              "       [ 9.,  8.,  7.,  6.],\n",
              "       [10.,  9.,  8.,  7.],\n",
              "       [11., 10.,  9.,  8.],\n",
              "       [12., 11., 10.,  9.]])"
            ]
          },
          "metadata": {
            "tags": []
          },
          "execution_count": 43
        }
      ]
    },
    {
      "cell_type": "code",
      "metadata": {
        "colab": {
          "base_uri": "https://localhost:8080/"
        },
        "id": "1RaVheSry_XH",
        "outputId": "2461fe9c-8da1-489d-b43c-49d7558845f3"
      },
      "source": [
        "Peptide(\"PL\").edit_distance(Peptide(\"MEANLY\"))\r\n"
      ],
      "execution_count": 44,
      "outputs": [
        {
          "output_type": "execute_result",
          "data": {
            "text/plain": [
              "array([[0., 1., 2., 3., 4., 5., 6.],\n",
              "       [1., 1., 2., 3., 4., 5., 6.],\n",
              "       [2., 2., 2., 3., 4., 4., 5.]])"
            ]
          },
          "metadata": {
            "tags": []
          },
          "execution_count": 44
        }
      ]
    },
    {
      "cell_type": "code",
      "metadata": {
        "colab": {
          "base_uri": "https://localhost:8080/"
        },
        "id": "iwodNoyNz5VE",
        "outputId": "1259afd7-8dfc-4515-a0dd-aab050f2854b"
      },
      "source": [
        "Peptide(\"GAGA\").edit_distance(Peptide(\"GAT\"))\r\n"
      ],
      "execution_count": 45,
      "outputs": [
        {
          "output_type": "execute_result",
          "data": {
            "text/plain": [
              "array([[0., 1., 2., 3.],\n",
              "       [1., 0., 1., 2.],\n",
              "       [2., 1., 0., 1.],\n",
              "       [3., 2., 1., 1.],\n",
              "       [4., 3., 2., 2.]])"
            ]
          },
          "metadata": {
            "tags": []
          },
          "execution_count": 45
        }
      ]
    },
    {
      "cell_type": "code",
      "metadata": {
        "colab": {
          "base_uri": "https://localhost:8080/"
        },
        "id": "qJw81NDvz9cE",
        "outputId": "63f19188-4377-4de4-f6f3-d8665a299579"
      },
      "source": [
        "Peptide(\"AC\").edit_distance(Peptide(\"AC\"))\r\n"
      ],
      "execution_count": 46,
      "outputs": [
        {
          "output_type": "execute_result",
          "data": {
            "text/plain": [
              "array([[0., 1., 2.],\n",
              "       [1., 0., 1.],\n",
              "       [2., 1., 0.]])"
            ]
          },
          "metadata": {
            "tags": []
          },
          "execution_count": 46
        }
      ]
    },
    {
      "cell_type": "code",
      "metadata": {
        "colab": {
          "base_uri": "https://localhost:8080/"
        },
        "id": "4WwXie_F0BC_",
        "outputId": "b3e47ac5-e432-4990-fb4b-3fe5865bceae"
      },
      "source": [
        "Peptide(\"AT\").edit_distance(Peptide(\"G\"))\r\n"
      ],
      "execution_count": 47,
      "outputs": [
        {
          "output_type": "execute_result",
          "data": {
            "text/plain": [
              "array([[0., 1.],\n",
              "       [1., 1.],\n",
              "       [2., 2.]])"
            ]
          },
          "metadata": {
            "tags": []
          },
          "execution_count": 47
        }
      ]
    },
    {
      "cell_type": "code",
      "metadata": {
        "colab": {
          "base_uri": "https://localhost:8080/"
        },
        "id": "X9wh6Uze0F3y",
        "outputId": "7df038f2-b4e7-40c4-9df7-8b0852c6f849"
      },
      "source": [
        "Peptide(\"CAGACCGAGTTAG\").edit_distance(Peptide(\"CGG\"))\r\n",
        "\r\n",
        "\r\n"
      ],
      "execution_count": 48,
      "outputs": [
        {
          "output_type": "execute_result",
          "data": {
            "text/plain": [
              "array([[ 0.,  1.,  2.,  3.],\n",
              "       [ 1.,  0.,  1.,  2.],\n",
              "       [ 2.,  1.,  1.,  2.],\n",
              "       [ 3.,  2.,  1.,  1.],\n",
              "       [ 4.,  3.,  2.,  2.],\n",
              "       [ 5.,  4.,  3.,  3.],\n",
              "       [ 6.,  5.,  4.,  4.],\n",
              "       [ 7.,  6.,  5.,  4.],\n",
              "       [ 8.,  7.,  6.,  5.],\n",
              "       [ 9.,  8.,  7.,  6.],\n",
              "       [10.,  9.,  8.,  7.],\n",
              "       [11., 10.,  9.,  8.],\n",
              "       [12., 11., 10.,  9.],\n",
              "       [13., 12., 11., 10.]])"
            ]
          },
          "metadata": {
            "tags": []
          },
          "execution_count": 48
        }
      ]
    },
    {
      "cell_type": "code",
      "metadata": {
        "colab": {
          "base_uri": "https://localhost:8080/"
        },
        "id": "DDLK5i9kygDu",
        "outputId": "d67de2b6-2c22-4939-9d47-dc9db4d831b2"
      },
      "source": [
        "Peptide(\"PLEASANTLY\").edit_distance(Peptide(\"MEANLY\"))\r\n"
      ],
      "execution_count": 49,
      "outputs": [
        {
          "output_type": "execute_result",
          "data": {
            "text/plain": [
              "array([[ 0.,  1.,  2.,  3.,  4.,  5.,  6.],\n",
              "       [ 1.,  1.,  2.,  3.,  4.,  5.,  6.],\n",
              "       [ 2.,  2.,  2.,  3.,  4.,  4.,  5.],\n",
              "       [ 3.,  3.,  2.,  3.,  4.,  5.,  5.],\n",
              "       [ 4.,  4.,  3.,  2.,  3.,  4.,  5.],\n",
              "       [ 5.,  5.,  4.,  3.,  3.,  4.,  5.],\n",
              "       [ 6.,  6.,  5.,  4.,  4.,  4.,  5.],\n",
              "       [ 7.,  7.,  6.,  5.,  4.,  5.,  5.],\n",
              "       [ 8.,  8.,  7.,  6.,  5.,  5.,  6.],\n",
              "       [ 9.,  9.,  8.,  7.,  6.,  5.,  6.],\n",
              "       [10., 10.,  9.,  8.,  7.,  6.,  5.]])"
            ]
          },
          "metadata": {
            "tags": []
          },
          "execution_count": 49
        }
      ]
    },
    {
      "cell_type": "code",
      "metadata": {
        "colab": {
          "base_uri": "https://localhost:8080/"
        },
        "id": "AgujMOXQzuvq",
        "outputId": "31a60c0c-bc70-4713-b05f-b4fcfd7432ed"
      },
      "source": [
        "Peptide(\"HKREPFDGWAFRKRWDCNPPTKVVALWYRKPPPTCWMAYWIIKMTVNYYNFQMLIAKGSRTECYHISWMIISFQVCTRQGIFRGIVYLSDPKAIEALQMLIGWSWKDALQRVEAWENVAEKNDCKNFLHESMHYYGMCKDEMELTCLYHIWFDYGQKMGWRGWENTHFQSMKHMVIFPNDDWLIEMWSYDSQLETRLIGATSWRNGHWANHMPQDWNMNNWTTCPSKMDWIINQMKTEVLKWKVYSCLFKKIMHISHMYVHTAPYYCHQWMISALRDKILKTCSIMKQMYDQCSKEIQPYDYPMHNQYHPYLYALIMPFEYHNWWDKYAGKINSRGGPQACRVLYMYGPWYRFNLARVTVMTWMLDHAFICWTYDFSSDVAPAKMMISEPPKCFHLTSTGPGPCTGLPTTDACPWHAMFAIAYRCQHESMNFFQCPLAYFCEYRPIRFIQGMCPIHKHRNIARDPCRMLQKCWAWPPPKGYRYPDLQLCSCITPEWGALNQAPVTCSTVFGVCTNMIQKKEIAQHGLLNCKTKFVFSGMDRGSIVQACFQFIVSERIRAVRQLFEINVYWCWTEPYNTYMWIHNHLNNVGWWYVKAVDLAFWPISFDNLPQMHAKWKVVMLRQSKEIHIFVLWKIVDRYADCTGPPEARTETYTGYGEHMVACYDMGDPEHIKELMMKTEVWTLIPGYACFNIQDPNIPDNTCKQPHIIRVQVHFAFHQDDPALEMRVQEKFWICEHYWPGRNPSNWPTMVVKDCGHEIIVIAAKRGYGPRQYVRSPMMQPSTATGPCMTHMPFC\").edit_distance(Peptide(\"HIREMYAQSHRFDTFYPECSWAFRKRMQCNPPTKVVALWYRKPPWMAYWIIFQVLYHISINITCNFMINSIFRLDEALDMLIGWSWKDALQRVCMLAWENVAEKNDQIIPKNFNHEFMPGTKYYGMCKDHCKDRCNKNMEWCQITCLYHIWFDYGQKRQGWRGRENTHFQSMKHMVDWLIESWQYDSQLEDRLIGATNHMPQMWNMNNCPIKMKQHHEMCHTFVLKKIMSVGMYVHTAPYYCHQWMLRDPNKWITFYMILTCSCMKMWNFTCSVEIQPYDYPMHNQYRPNTVWNIYILIMPFEYHNWWDKYKINSRYMYGPWPGARFIKYTLDNFGIDEVTVMTWMLDHAFICWTYDFSSDVAPAKMMISEPGFSSWGAFLKNGLTDARHWWDMKEPWHAMYFYHLPAFSMNFFQCPLAYFCEYRPIRFIQGMCPIHKHRNIARFDPMCMLCCEWCVQRMLPKCWAWPPPKGYRYPDLQLCPCIAPEWGALMQAPWTCVFFVCTMMIQKKEIAQSGLLNCKQCPPGKAFKPHANFMEVFSGGSIVSACFHFIWSERIRRIMQLFEIHVYWCWTEPWNTYMWIKNQLNNVGWWYVKAVDHNFQSLGTVCSARMHAKWKVVMLRQSKEIHIEVLWKIVDRPADCTGPPEARTEQYTGYGEHMVACYDMGDPEHIKELMMKTEVWTLIFSVLISSLNGYACVRLYMVNKKQYCTKQPHIIRVVDHFAFHQDDPAYLDMQEKFWICEHYWPGSNWEHYGKTTSLSLCGHEIIVTQFINFQGTGYGPRSPMMQPSTATGPCMTHMPFC\"))\r\n"
      ],
      "execution_count": 50,
      "outputs": [
        {
          "output_type": "execute_result",
          "data": {
            "text/plain": [
              "array([[  0.,   1.,   2., ..., 801., 802., 803.],\n",
              "       [  1.,   0.,   1., ..., 800., 801., 802.],\n",
              "       [  2.,   1.,   1., ..., 799., 800., 801.],\n",
              "       ...,\n",
              "       [793., 792., 791., ..., 325., 326., 327.],\n",
              "       [794., 793., 792., ..., 326., 325., 326.],\n",
              "       [795., 794., 793., ..., 327., 326., 325.]])"
            ]
          },
          "metadata": {
            "tags": []
          },
          "execution_count": 50
        }
      ]
    },
    {
      "cell_type": "code",
      "metadata": {
        "colab": {
          "base_uri": "https://localhost:8080/"
        },
        "id": "wAQwYRFh2bW6",
        "outputId": "17740fd2-b89e-4285-d870-eaea70e85145"
      },
      "source": [
        "Peptide(\"YAQEFRNIPREWRMMNTCIKWRMHSQCTTYHQQTSISHQLNYYEIFCSRVFSPVMSASGCYAISSEWGPHCYITLIGYCCNSRNFLALYFWAFAEDVNLHPWCPMGDMDYTRDGIHLQWPFTADRLHPEFSVYTACMLFDQFLHHVKRPWRYAMIGIRLSKAQSHWVSWTLGDPVLMQKMQTQQAFICNTWSQMWQDVYMWPKSWPIVENGEDDPPEPAANNGMYWMQTGQIDKACEGHTDKCMHYWEDPNNGNIFQEWHEPAAEKSYHWYGHVLQIHGGQDMMRELIVYWFFNWVTWPIFDVWMFEPEQWKHSVQKNERKWHVYNIDGPCYLSIYGPMYLERSLWIWIMVTWSGNSMYFIYIMFHCRCLCIHHTARPGFYVIHVTCGMAYDFWDNAIMGQETCCRPKHPHSQAFTQELHAFNHPHNKMAGYVGMMWGHFPDWCIVYHFSYMKEVFHVHTWDSTYSHSSNWQLDKGQLETNKESRFNQMKERSCFLGFTERSDHFKSQTAQQFYWWKHPTWVLEGPRFEFTQFTEGIDDRTFPSSRGLASTDKCQVPQYGIRWRDQPQAVRQYQVDRGPVYTQKMPNMWIKDWFSPFSARCWMTLGHMYYMRCFTPRFWVANLAGEFVTGDDMKHRDRYEFALCPCHSWCNLYVLLQPFTKVEVDYCSQEYHKFDSPYFRGVNHHYMHFYHASNWGDKTMNMGTCLYFDHCLNFFLTYRGEKAVILWYVIQRTNAWNGIQTIADFEVNRHTQFLPKYVPIYWNWVGHESSMHHVYPCCVTELNMMSRLADMLEQAIILPSERGLLCGGKY\").edit_distance(Peptide(\"HPSAQEFWHIVVREWRMHLTITKWRMCTSYHQQTCPAYFRVISHQLNYYDIFCDRVFSPVMSASGNQGPHKRWQHYITCNFLALVFWAFAETITNKHPWCPMGDMDYQHTDGIHLQWPFTADRLHPEFSVYTLCMLFDYFRHHVKRPWRYAMNRHGIRLSKAQSHWVSWTLGDPVNMQKDQTQVTMWPKSWEDDSLTMFPPEPAANNNMDKAMSHIHPHYYPDPNNGNIFFEWHEPAAEKTARQVYHWYGAVLQIHGGQCKDQVMRELIVYWFFNWVTFYTQKQIWKHSVQLNERKWHVYNIDGPCYHSIYHEASLLQVPHYVTWSGNSMYTGMWLCIHQTARPGAYTMSNRFAPIVDIHVTTGMYVGTMRAHFWDNAIMGQETCSTAHPHKFNHPHNTCFKWMNKMAGYVGMMNIYHFSYMKEVFHVHTWDSLIYYVYSHRSTMSVQCQWQLDKLQLETKLWKESRFNQMKVRSCTPKHFKSQTAQQFYEDPRFPASFLFGWQFTMISFRHPRTFPMSNLLASTDKCQGIHWQAVRFICYWSGPVYTDKMPNMWAQLIPKFKDWFSPFSARCWMTLGHMYMMRCFTPRHFVTGDDMKVMCAKRDRYEFPLSPCHSWCNLYVYLQWFTEYFRGVYHASDKWDEPQVMNMGTCLYFDHCLNFPFQTLLTKRFEKAKILWDVIQYWFGLIWIQTIASFEVNRWHKDTQFLPKAKNPIVWVNHESSTSHVYPNMMSRLADMLEQAIIKKYEKTPSLRNVLLCGGKY\"))\r\n"
      ],
      "execution_count": 51,
      "outputs": [
        {
          "output_type": "execute_result",
          "data": {
            "text/plain": [
              "array([[  0.,   1.,   2., ..., 761., 762., 763.],\n",
              "       [  1.,   1.,   2., ..., 760., 761., 762.],\n",
              "       [  2.,   2.,   2., ..., 759., 760., 761.],\n",
              "       ...,\n",
              "       [808., 807., 806., ..., 358., 359., 360.],\n",
              "       [809., 808., 807., ..., 359., 358., 359.],\n",
              "       [810., 809., 808., ..., 360., 359., 358.]])"
            ]
          },
          "metadata": {
            "tags": []
          },
          "execution_count": 51
        }
      ]
    },
    {
      "cell_type": "code",
      "metadata": {
        "colab": {
          "base_uri": "https://localhost:8080/"
        },
        "id": "LeB9n3-V2nIY",
        "outputId": "51d08ccf-3a31-4cb4-f2f2-3a4d7596605a"
      },
      "source": [
        "scores, path = Peptide(\"MEANLY\").local_alignment(Peptide(\"PENALTY\"), read_cost_table(\"PAM250\"))\r\n",
        "print(scores)\r\n",
        "print(path.backtrack)\r\n",
        "print(path)"
      ],
      "execution_count": 52,
      "outputs": [
        {
          "output_type": "stream",
          "text": [
            "[[ 0.  0.  0.  0.  0.  0.  0.  0.]\n",
            " [ 0.  0.  0.  0.  0.  4.  0.  0.]\n",
            " [ 0.  0.  4.  1.  0.  0.  4.  0.]\n",
            " [ 0.  1.  0.  4.  3.  0.  1.  1.]\n",
            " [ 0.  0.  2.  2.  4.  0.  0.  0.]\n",
            " [ 0.  0.  0.  0.  0. 10.  5.  0.]\n",
            " [ 0.  0.  0.  0.  0.  5.  7. 15.]]\n",
            "[[1. 2. 2. 2. 2. 2. 2. 2.]\n",
            " [1. 3. 3. 3. 3. 0. 3. 3.]\n",
            " [1. 3. 0. 0. 0. 3. 0. 3.]\n",
            " [1. 0. 0. 0. 0. 3. 0. 0.]\n",
            " [1. 0. 0. 0. 0. 0. 0. 3.]\n",
            " [1. 3. 3. 3. 0. 0. 2. 2.]\n",
            " [1. 3. 3. 3. 3. 1. 0. 0.]]\n",
            "EANL-Y\n",
            "ENALTY\n"
          ],
          "name": "stdout"
        }
      ]
    },
    {
      "cell_type": "code",
      "metadata": {
        "colab": {
          "base_uri": "https://localhost:8080/"
        },
        "id": "duEO0eU412Kq",
        "outputId": "f3903f19-1b98-4a19-8fb6-be782592b2a1"
      },
      "source": [
        "scores, path = Peptide(\"CGA\").local_alignment(Peptide(\"G\"), read_cost_table(\"PAM250\"))\r\n",
        "print(scores)\r\n",
        "print(path.backtrack)\r\n",
        "print(path)"
      ],
      "execution_count": 53,
      "outputs": [
        {
          "output_type": "stream",
          "text": [
            "[[0. 0.]\n",
            " [0. 0.]\n",
            " [0. 5.]\n",
            " [0. 1.]]\n",
            "[[1. 2.]\n",
            " [1. 3.]\n",
            " [1. 0.]\n",
            " [1. 0.]]\n",
            "CG\n",
            "-G\n"
          ],
          "name": "stdout"
        }
      ]
    },
    {
      "cell_type": "code",
      "metadata": {
        "colab": {
          "base_uri": "https://localhost:8080/"
        },
        "id": "qdQcSzr_7gQZ",
        "outputId": "a11d3d8a-bea6-49f1-bc9b-d49a25c3ae64"
      },
      "source": [
        "scores, path = Peptide(\"THFEREYATHNCPPKIPLGYGNHVRNKGMIVHYANIGSFMLVRWVIGMWKCGENPCGASVTRVSVVHHEQDDPLCYDSKFSQKKLETYHCDHGHSIYVKYQLMWIKWDFWERQSRACEESCVCRPSSIILCAKQSDSQLDNATYSRPKIITCNRCNIVGHPKPYCSIMQIWAQRFFCYDIVAKYMVHAEEKYYTESPSAFINYHDSIRTPHQRTSMMCLGQNWYMNNWTDTGIEAAWQFGLELMKCLWDSHSNAFEQQNAKGRQGYDYRFDVNEPARHASKDKSGNRHVYCLQKIMRKWWDTAKCYIQPHWTKPTASVLPAIITLFYWNDKRKTMHTFLNFGGNLTMWYRGAICSWCFTTHIRAYLYYAAGAYAAGNGCSHTSEWAVHRVSRLSNEDMLYEGMRLAVKYYQICDLDTSRNCMCPVQGQPWMSRKIGGVAMDRWPDGCKQCPDVAPHVDALRQTECLEFRELHLAGMKIWKWDRCYNYSWADPMIVNYADSYLQMHIHPVNVDGHCQKVTILWYLSAVEIQWQINDHPRCKVMAALIILWMENLIFRPIHVYVHVMCHMHDGRQETAMTSHIENFCKNDSCRETRTDFMGRVRMGAKQGYPYWIHEHQAWNFKSSWFRCLIKGIMVMGDKQKDNCVCELMGQEHNVLGVVKYMDMMCVIQSAILNASPRHYAENFNIMNEYSAMQTTMLSPKLVFASRNKTTSEAAGNQSNHKIVQSRCHVRMSDLPIGISRYPCSWIKQITNMLVHQIFSQSINLRGMQWVTAEVNVAFVPQIQALIWEKESAQPWFPTMHWGIPWTFTAVNCMWVYLRYNKLRDHQVHAATSVLEEVYHVYQWEAEHEVMGRYGHWNKLFANNHRMRDCVQLPDRPGVVYPHEMINRQDSMICLEPMHP\").local_alignment(Peptide(\"QGIAEWKTRIVMRHIMLARHPIEETPMSFYYYIMLAVSCNPNDANWYIDFNCDVSFQDDSDASRPGCRGMAFAENLYSGGWIWITMHGCVRGWEDWRQEEMRQWYQQTVFKTWLSLGADSYCWTKYFGWVKEATPNEVVPTMYFWFRKPIEGTPDWFWIMKVNVPRSIACAWLYSMGHEPFSDRDDSVDCWSQLRVYCKGVPYCYDAFDQEAVTVRAIPRCPMWYTPMDQYPEVMSWRFMKHDDICEKNMYCCMYHLRTEVTLWDSPSNTGNQVFWHVFEQTNAKGSQGYDYRFDVDEQIAAVDVFHNHVYCWWDTAKYYIQPHWTASVLPAIITLFYWNATRKWLMHTFLNFGGNLTMWYRGAICSWCQTTHIRAYLYAAAIEAYAGNGCSHTSEWAVHRVSRHRDNRSNEDMMKLDPFYEGMRLAVKYYGCQICRLDTSRNCKCPVEWKIGGVAMDRWVDGCKQCPDALVQTAQYFHYWKWDRCGGNMDCPNQMHIQWKVNWWQYGHCKKVTIEWYLQWQINDHPRDIPAEYKVMAALIILWMENLEGRKQHLNYAYNRKTDICWYINTHYVHVHMHRGRQYICHITTVDTAMTSHVHNFCKNDVCRSQDLCLTLCTRPVASRGLQGIYKNGEKSEGNFGWSWLCIEFIFEMSPFECQWGMPNASKPDFWARQGPWMFYHMEEWNQDIFCRHHAHPGVTPNFHEWYPRPRKSTQEIQVTIVETEMQGNKTHIHYSTRFMFIVGYNDKLANFNEYQQNDMIWFNCSARVTLKPNHHAQHGFCSGLWWWPFLPCKGVNTNCAMFSACAPFGYPPVSPVTIHNCENRPHSTRVYEHFYTPYVLQSTHKIALERSTSCIYHRLQQSTGVIWHRFNSIVDQSLAWQCFLCASWPHQCAVDLKWWWDITFMCTVTKTPDSQGGC\"), read_cost_table(\"PAM250\"))\r\n",
        "print(scores)\r\n",
        "print(path.backtrack)\r\n",
        "print(path)\r\n",
        "print(scores.max())"
      ],
      "execution_count": 54,
      "outputs": [
        {
          "output_type": "stream",
          "text": [
            "[[   0.    0.    0. ...    0.    0.    0.]\n",
            " [   0.    0.    0. ...    0.    0.    0.]\n",
            " [   0.    3.    0. ...    0.    0.    0.]\n",
            " ...\n",
            " [   0.    0.    0. ... 1054. 1049. 1053.]\n",
            " [   0.    3.    0. ... 1061. 1056. 1051.]\n",
            " [   0.    0.    3. ... 1066. 1061. 1056.]]\n",
            "[[1. 2. 2. ... 2. 2. 2.]\n",
            " [1. 3. 0. ... 0. 0. 3.]\n",
            " [1. 0. 3. ... 3. 3. 3.]\n",
            " ...\n",
            " [1. 3. 3. ... 2. 1. 1.]\n",
            " [1. 0. 3. ... 2. 2. 2.]\n",
            " [1. 0. 0. ... 0. 2. 2.]]\n",
            "YATHNCPPKIPLGYGNHVRN--KGMIVHYANIGSFMLVRWVIGMWKCGENPCGASVTRVSVVHHEQDDPLCYDSKFSQKKLETYHCDHGHSIYVKYQLMWIKWDF-WERQSRACEESCVCRPSSIILCAKQSDSQLD---NATYSRPKIITCNR-CNIVGHPKPYCSIMQ-I--WAQ-RFFCYDIVAKYMVHAEEKYYTES-PS-A--F--IN-YHDSIRTPHQRTSMMCLGQNWY--MNNWTDTGIEAAWQFGLEL-MKCLWDSHSNAFEQQNAKGRQGYDYRFDVNEPARHASKDKSGNRHVYCLQKIMRKWWDTAKCYIQPHWTKPTASVLPAIITLFYWNDKRK-TMHTFLNFGGNLTMWYRGAICSWCFTTHIRAYLYYAA-GAYAAGNGCSHTSEWAVHRVSRL----SNEDM--L---YEGMRLAVKYY--QICDLDTSRNCMCPVQGQPWMSRKIGGVAMDRWPDGCKQCPDVAPHVDALRQTECLEFRELHLAGMKIWKWDRCYNYSWADPMIVNYADSYLQMHIH-PVNV-D-GHCQKVTILWYLSAVEIQWQINDHPR-----CKVMAALIILWMENL------I-F---RPIHV--YV--H-VMCHMHDGRQ--------ETAMTSHIENFCKNDSCRETRTDF-MGR-VR-MGAK--QGYPYWIHEH-QAWNFKSSWFRCLIKGIMVMGDKQKDNCVCELMGQEHNVLGVVKYMDMMCVIQSAILNASPRHYAENFNIMNEYSAMQTTMLSPKLVFASRNKTTSEAAGNQSNHKIVQSRCHVRMSDLPIGISRYPCSWIKQITNMLVHQIFSQSINLRGMQWVTAEVNVAFVPQIQALIWEKESAQPWFPTMH-WGIPWTFTAV-N-CM-WVYLRYNKLRDH--QVHA-ATSVLEEVYHVYQWEAEHEV-MGRYGHWNKLFANNHRMRDCVQLP-DR-PGVVYPHEMINRQDSMIC\n",
            "YIDFNCDVSFQDD-SDASRPGCRGM-A-FAE-NLYS-GGW-I--WI-TMHGC---V-RGWEDWR-QEE-MR-QW-YQQTVFKTWLS-LGADSY--C---WTKY-FGWVKEATP-NEV-V--PTMYFWFRKPIEGTPDWFWIMKVNVPRSIACAWLYSM-GH-EPFSDRDDSVDCWSQLRVYCKGVPYCYDAFDQEAVTVRAIPRCPMWYTPMDQYPEVMSWRFMKHDDIC-EKNMYCCMYHLR-TEV-TLWDSPSNTGNQVFW--H--VFEQTNAKGSQGYDYRFDVDEQI--AAVDVF-HNHVYC-------WWDTAKYYIQPHWT---ASVLPAIITLFYWNATRKWLMHTFLNFGGNLTMWYRGAICSWCQTTHIRAYLYAAAIEAYA-GNGCSHTSEWAVHRVSRHRDNRSNEDMMKLDPFYEGMRLAVKYYGCQICRLDTSRNCKCPVE---W---KIGGVAMDRWVDGCKQCPD-A--L--V-QTA--QY--FHY-----WKWDRC---G-GN-M--DCPN---QMHIQWKVNWWQYGHCKKVTIEWYL-----QWQINDHPRDIPAEYKVMAALIILWMENLEGRKQHLNYAYNRKTDICWYINTHYVHVHMHRGRQYICHITTVDTAMTSHVHNFCKNDVCR-SQ-DLCLTLCTRPVASRGLQGI-YKNGEKSEG-NFGWSWL-C-IEFIFEMS--PFE-C--QW-GM-PNA-SKPDFWARQ-G-PWMFYHMEEWN-QDIF-CRHH--A-HPGV-TPN--FHEWYPRPRKST-QEIQVTIVETEMQGNKTHIHYS-TRFM--FIVGYNDKLAN--FNE-YQQNDMIWFNCSARVTLKPNHHAQH-GFCSGLWWWPFLPCKGVN-TNCAMFSACAPFGYPPVSPVTIHNCENRPHSTRVYEHFYTPYVLQSTHKIALER-ST-SCIY---HRLQQSTGVIWHRFNSIV-DQSL-AWQ-CFLC\n",
            "1097.0\n"
          ],
          "name": "stdout"
        }
      ]
    },
    {
      "cell_type": "code",
      "metadata": {
        "colab": {
          "base_uri": "https://localhost:8080/"
        },
        "id": "EV7E0XR7teRz",
        "outputId": "dc9bc741-4ff6-4f93-d245-69a94dde8119"
      },
      "source": [
        "scores, path = Peptide(\"CGA\").global_alignment(Peptide(\"G\"), read_cost_table(\"BLOSUM62\"))\r\n",
        "print(scores)\r\n",
        "print(path.backtrack)\r\n",
        "print(path)"
      ],
      "execution_count": 55,
      "outputs": [
        {
          "output_type": "stream",
          "text": [
            "[[  0.  -5.]\n",
            " [ -5.  -3.]\n",
            " [-10.   1.]\n",
            " [-15.  -4.]]\n",
            "[[1. 2.]\n",
            " [1. 0.]\n",
            " [1. 0.]\n",
            " [1. 1.]]\n",
            "CGA\n",
            "-G-\n"
          ],
          "name": "stdout"
        }
      ]
    },
    {
      "cell_type": "code",
      "metadata": {
        "colab": {
          "base_uri": "https://localhost:8080/"
        },
        "id": "0TDu8byut4Ex",
        "outputId": "c5afa4a1-bc6a-430a-8371-d3c12476ea4f"
      },
      "source": [
        "scores, path = Peptide(\"G\").global_alignment(Peptide(\"CGA\"), read_cost_table(\"BLOSUM62\"))\r\n",
        "print(scores)\r\n",
        "print(path.backtrack)\r\n",
        "print(path)"
      ],
      "execution_count": 56,
      "outputs": [
        {
          "output_type": "stream",
          "text": [
            "[[  0.  -5. -10. -15.]\n",
            " [ -5.  -3.   1.  -4.]]\n",
            "[[1. 2. 2. 2.]\n",
            " [1. 0. 0. 2.]]\n",
            "-G-\n",
            "CGA\n"
          ],
          "name": "stdout"
        }
      ]
    },
    {
      "cell_type": "code",
      "metadata": {
        "colab": {
          "base_uri": "https://localhost:8080/"
        },
        "id": "Qeqib2m8pSl0",
        "outputId": "4614e404-dab4-4b9b-d53b-966499e0efaa"
      },
      "source": [
        "scores, path = Peptide(\"G\").global_alignment(Peptide(\"ACATACGATG\"), read_cost_table(\"BLOSUM62\"))\r\n",
        "print(scores)\r\n",
        "print(path.backtrack)\r\n",
        "print(path)\r\n",
        "print(scores[-1][-1])"
      ],
      "execution_count": 57,
      "outputs": [
        {
          "output_type": "stream",
          "text": [
            "[[  0.  -5. -10. -15. -20. -25. -30. -35. -40. -45. -50.]\n",
            " [ -5.   0.  -5. -10. -15. -20. -25. -24. -29. -34. -39.]]\n",
            "[[1. 2. 2. 2. 2. 2. 2. 2. 2. 2. 2.]\n",
            " [1. 0. 2. 2. 2. 2. 2. 0. 2. 2. 2.]]\n",
            "------G---\n",
            "ACATACGATG\n",
            "-39.0\n"
          ],
          "name": "stdout"
        }
      ]
    },
    {
      "cell_type": "code",
      "metadata": {
        "colab": {
          "base_uri": "https://localhost:8080/"
        },
        "id": "Y5n6psHkroit",
        "outputId": "46a9c03f-9f60-427d-84d3-6ed6d8bc8051"
      },
      "source": [
        "scores, path = Peptide(\"ACT\").global_alignment(Peptide(\"ACG\"), read_cost_table(\"BLOSUM62\"))\r\n",
        "print(scores)\r\n",
        "print(path.backtrack)\r\n",
        "print(path)\r\n",
        "print(scores[-1][-1])"
      ],
      "execution_count": 58,
      "outputs": [
        {
          "output_type": "stream",
          "text": [
            "[[  0.  -5. -10. -15.]\n",
            " [ -5.   4.  -1.  -6.]\n",
            " [-10.  -1.  13.   8.]\n",
            " [-15.  -6.   8.  11.]]\n",
            "[[1. 2. 2. 2.]\n",
            " [1. 0. 2. 2.]\n",
            " [1. 1. 0. 2.]\n",
            " [1. 1. 1. 0.]]\n",
            "ACT\n",
            "ACG\n",
            "11.0\n"
          ],
          "name": "stdout"
        }
      ]
    },
    {
      "cell_type": "code",
      "metadata": {
        "colab": {
          "base_uri": "https://localhost:8080/"
        },
        "id": "zsBoGWG-sySY",
        "outputId": "f388ccc9-c6ba-40eb-a931-82bbdc25b5d2"
      },
      "source": [
        "scores, path = Peptide(\"AG\").global_alignment(Peptide(\"AT\"), read_cost_table(\"BLOSUM62\"))\r\n",
        "print(scores)\r\n",
        "print(path.backtrack)\r\n",
        "print(path)\r\n",
        "print(scores[-1][-1])"
      ],
      "execution_count": 59,
      "outputs": [
        {
          "output_type": "stream",
          "text": [
            "[[  0.  -5. -10.]\n",
            " [ -5.   4.  -1.]\n",
            " [-10.  -1.   2.]]\n",
            "[[1. 2. 2.]\n",
            " [1. 0. 2.]\n",
            " [1. 1. 0.]]\n",
            "AG\n",
            "AT\n",
            "2.0\n"
          ],
          "name": "stdout"
        }
      ]
    },
    {
      "cell_type": "code",
      "metadata": {
        "colab": {
          "base_uri": "https://localhost:8080/"
        },
        "id": "E9Cjutyts2ht",
        "outputId": "079e1898-e53f-4bef-cfce-9abf4e3e0e6d"
      },
      "source": [
        "scores, path = Peptide(\"CA\").global_alignment(Peptide(\"TCA\"), read_cost_table(\"BLOSUM62\"))\r\n",
        "print(scores)\r\n",
        "print(path.backtrack)\r\n",
        "print(path)\r\n",
        "print(scores[-1][-1])"
      ],
      "execution_count": 60,
      "outputs": [
        {
          "output_type": "stream",
          "text": [
            "[[  0.  -5. -10. -15.]\n",
            " [ -5.  -1.   4.  -1.]\n",
            " [-10.  -5.  -1.   8.]]\n",
            "[[1. 2. 2. 2.]\n",
            " [1. 0. 0. 2.]\n",
            " [1. 0. 1. 0.]]\n",
            "-CA\n",
            "TCA\n",
            "8.0\n"
          ],
          "name": "stdout"
        }
      ]
    },
    {
      "cell_type": "code",
      "metadata": {
        "colab": {
          "base_uri": "https://localhost:8080/"
        },
        "id": "1fgVvdFztNUR",
        "outputId": "7df57bac-c2a8-434b-cde1-96eb86d2a55c"
      },
      "source": [
        "scores, path = Peptide(\"CC\").global_alignment(Peptide(\"TTTTCCTT\"), read_cost_table(\"BLOSUM62\"))\r\n",
        "print(scores)\r\n",
        "print(path.backtrack)\r\n",
        "print(path)\r\n",
        "print(scores[-1][-1])"
      ],
      "execution_count": 61,
      "outputs": [
        {
          "output_type": "stream",
          "text": [
            "[[  0.  -5. -10. -15. -20. -25. -30. -35. -40.]\n",
            " [ -5.  -1.  -6. -11. -16. -11. -16. -21. -26.]\n",
            " [-10.  -6.  -2.  -7. -12.  -7.  -2.  -7. -12.]]\n",
            "[[1. 2. 2. 2. 2. 2. 2. 2. 2.]\n",
            " [1. 0. 2. 2. 2. 0. 2. 2. 2.]\n",
            " [1. 1. 0. 2. 2. 0. 0. 2. 2.]]\n",
            "----CC--\n",
            "TTTTCCTT\n",
            "-12.0\n"
          ],
          "name": "stdout"
        }
      ]
    },
    {
      "cell_type": "code",
      "metadata": {
        "colab": {
          "base_uri": "https://localhost:8080/"
        },
        "id": "0TnX64batSa3",
        "outputId": "aa710ac6-1a7c-475d-fa73-1f3bb67975e0"
      },
      "source": [
        "scores, path = Peptide(\"T\").global_alignment(Peptide(\"ACAGATTAG\"), read_cost_table(\"BLOSUM62\"))\r\n",
        "print(scores)\r\n",
        "print(path.backtrack)\r\n",
        "print(path)\r\n",
        "print(scores[-1][-1])"
      ],
      "execution_count": 62,
      "outputs": [
        {
          "output_type": "stream",
          "text": [
            "[[  0.  -5. -10. -15. -20. -25. -30. -35. -40. -45.]\n",
            " [ -5.   0.  -5. -10. -15. -20. -20. -25. -30. -35.]]\n",
            "[[1. 2. 2. 2. 2. 2. 2. 2. 2. 2.]\n",
            " [1. 0. 2. 2. 2. 2. 0. 2. 2. 2.]]\n",
            "-----T---\n",
            "ACAGATTAG\n",
            "-35.0\n"
          ],
          "name": "stdout"
        }
      ]
    },
    {
      "cell_type": "code",
      "metadata": {
        "colab": {
          "base_uri": "https://localhost:8080/"
        },
        "id": "_32o8acYtyoc",
        "outputId": "ec631df1-95d1-4761-8990-3c43d02aed17"
      },
      "source": [
        "scores, path = Peptide(\"ACAGATTAG\").global_alignment(Peptide(\"T\"), read_cost_table(\"BLOSUM62\"))\r\n",
        "print(scores)\r\n",
        "print(path.backtrack)\r\n",
        "print(path)\r\n",
        "print(scores[-1][-1])"
      ],
      "execution_count": 63,
      "outputs": [
        {
          "output_type": "stream",
          "text": [
            "[[  0.  -5.]\n",
            " [ -5.   0.]\n",
            " [-10.  -5.]\n",
            " [-15. -10.]\n",
            " [-20. -15.]\n",
            " [-25. -20.]\n",
            " [-30. -20.]\n",
            " [-35. -25.]\n",
            " [-40. -30.]\n",
            " [-45. -35.]]\n",
            "[[1. 2.]\n",
            " [1. 0.]\n",
            " [1. 1.]\n",
            " [1. 1.]\n",
            " [1. 1.]\n",
            " [1. 1.]\n",
            " [1. 0.]\n",
            " [1. 1.]\n",
            " [1. 1.]\n",
            " [1. 1.]]\n",
            "ACAGATTAG\n",
            "-----T---\n",
            "-35.0\n"
          ],
          "name": "stdout"
        }
      ]
    },
    {
      "cell_type": "code",
      "metadata": {
        "colab": {
          "base_uri": "https://localhost:8080/"
        },
        "id": "BJK3Y6yCtWZa",
        "outputId": "aa1764a6-bd1f-4349-8980-ebbd610aeea3"
      },
      "source": [
        "scores, path = Peptide(\"T\").global_alignment(Peptide(\"ACAGATTAG\"), read_cost_table(\"BLOSUM62\"))\r\n",
        "print(scores)\r\n",
        "print(path.backtrack)\r\n",
        "print(path)\r\n",
        "print(scores[-1][-1])"
      ],
      "execution_count": 64,
      "outputs": [
        {
          "output_type": "stream",
          "text": [
            "[[  0.  -5. -10. -15. -20. -25. -30. -35. -40. -45.]\n",
            " [ -5.   0.  -5. -10. -15. -20. -20. -25. -30. -35.]]\n",
            "[[1. 2. 2. 2. 2. 2. 2. 2. 2. 2.]\n",
            " [1. 0. 2. 2. 2. 2. 0. 2. 2. 2.]]\n",
            "-----T---\n",
            "ACAGATTAG\n",
            "-35.0\n"
          ],
          "name": "stdout"
        }
      ]
    },
    {
      "cell_type": "code",
      "metadata": {
        "colab": {
          "base_uri": "https://localhost:8080/"
        },
        "id": "YzFtMu9eC8PB",
        "outputId": "d84e650b-13b5-4caf-b95a-9c22f34ed04d"
      },
      "source": [
        "scores, path = Peptide(\"MEANLY\").global_alignment(Peptide(\"PLEASANTLY\"), read_cost_table(\"BLOSUM62\"))\r\n",
        "print(scores)\r\n",
        "print(path.backtrack)\r\n",
        "print(path)"
      ],
      "execution_count": 65,
      "outputs": [
        {
          "output_type": "stream",
          "text": [
            "[[  0.  -5. -10. -15. -20. -25. -30. -35. -40. -45. -50.]\n",
            " [ -5.  -2.  -3.  -8. -13. -18. -23. -28. -33. -38. -43.]\n",
            " [-10.  -6.  -5.   2.  -3.  -8. -13. -18. -23. -28. -33.]\n",
            " [-15. -11.  -7.  -3.   6.   1.  -4.  -9. -14. -19. -24.]\n",
            " [-20. -16. -12.  -7.   1.   7.   2.   2.  -3.  -8. -13.]\n",
            " [-25. -21. -12. -12.  -4.   2.   6.   1.   1.   1.  -4.]\n",
            " [-30. -26. -17. -14.  -9.  -3.   1.   4.  -1.   0.   8.]]\n",
            "[[1. 2. 2. 2. 2. 2. 2. 2. 2. 2. 2.]\n",
            " [1. 0. 0. 2. 2. 2. 2. 2. 2. 2. 2.]\n",
            " [1. 0. 0. 0. 2. 2. 2. 2. 2. 2. 2.]\n",
            " [1. 1. 0. 1. 0. 2. 2. 2. 2. 2. 2.]\n",
            " [1. 1. 1. 0. 1. 0. 2. 0. 2. 2. 2.]\n",
            " [1. 1. 0. 1. 1. 1. 0. 2. 0. 0. 2.]\n",
            " [1. 1. 1. 0. 1. 1. 1. 0. 2. 0. 0.]]\n",
            "-MEA--N-LY\n",
            "PLEASANTLY\n"
          ],
          "name": "stdout"
        }
      ]
    },
    {
      "cell_type": "code",
      "metadata": {
        "colab": {
          "base_uri": "https://localhost:8080/"
        },
        "id": "ZeVyvPxPDFVO",
        "outputId": "879c88dd-27c6-4058-91de-986bf054ae3a"
      },
      "source": [
        "scores, path = Peptide(\"ASGEEDN\").global_alignment(Peptide(\"GPPPWLSEEQN\"), read_cost_table(\"BLOSUM62\"))\r\n",
        "print(scores)\r\n",
        "print(path.backtrack)\r\n",
        "print(path)"
      ],
      "execution_count": 66,
      "outputs": [
        {
          "output_type": "stream",
          "text": [
            "[[  0.  -5. -10. -15. -20. -25. -30. -35. -40. -45. -50. -55.]\n",
            " [ -5.   0.  -5. -10. -15. -20. -25. -29. -34. -39. -44. -49.]\n",
            " [-10.  -5.  -1.  -6. -11. -16. -21. -21. -26. -31. -36. -41.]\n",
            " [-15.  -4.  -6.  -3.  -8. -13. -18. -21. -23. -28. -33. -36.]\n",
            " [-20.  -9.  -5.  -7.  -4.  -9. -14. -18. -16. -18. -23. -28.]\n",
            " [-25. -14. -10.  -6.  -8.  -7. -12. -14. -13. -11. -16. -21.]\n",
            " [-30. -19. -15. -11.  -7. -12. -11. -12. -12. -11. -11. -15.]\n",
            " [-35. -24. -20. -16. -12. -11. -15. -10. -12. -12. -11.  -5.]]\n",
            "[[1. 2. 2. 2. 2. 2. 2. 2. 2. 2. 2. 2.]\n",
            " [1. 0. 2. 2. 2. 2. 2. 0. 2. 2. 2. 2.]\n",
            " [1. 1. 0. 2. 2. 2. 2. 0. 2. 2. 2. 2.]\n",
            " [1. 0. 1. 0. 2. 2. 2. 0. 0. 2. 2. 0.]\n",
            " [1. 1. 0. 0. 0. 2. 2. 0. 0. 0. 2. 2.]\n",
            " [1. 1. 1. 0. 0. 0. 2. 0. 0. 0. 2. 2.]\n",
            " [1. 1. 1. 1. 0. 1. 0. 0. 0. 0. 0. 0.]\n",
            " [1. 1. 1. 1. 1. 0. 0. 0. 0. 0. 0. 0.]]\n",
            "AS----GEEDN\n",
            "GPPPWLSEEQN\n"
          ],
          "name": "stdout"
        }
      ]
    },
    {
      "cell_type": "code",
      "metadata": {
        "colab": {
          "base_uri": "https://localhost:8080/"
        },
        "id": "f4ZyDwD-KIh8",
        "outputId": "4bbc37af-aa99-4ad9-cb5f-607a4e1e01cf"
      },
      "source": [
        "scores, path = Peptide(\"GAGA\").global_alignment(Peptide(\"GAT\"), read_cost_table(\"BLOSUM62\"), 1)\r\n",
        "print(scores)\r\n",
        "print(path.backtrack)\r\n",
        "print(path)\r\n"
      ],
      "execution_count": 67,
      "outputs": [
        {
          "output_type": "stream",
          "text": [
            "[[ 0. -1. -2. -3.]\n",
            " [-1.  6.  5.  4.]\n",
            " [-2.  5. 10.  9.]\n",
            " [-3.  4.  9.  8.]\n",
            " [-4.  3.  8.  9.]]\n",
            "[[1. 2. 2. 2.]\n",
            " [1. 0. 2. 2.]\n",
            " [1. 1. 0. 2.]\n",
            " [1. 1. 1. 1.]\n",
            " [1. 1. 1. 0.]]\n",
            "GAGA\n",
            "GA-T\n"
          ],
          "name": "stdout"
        }
      ]
    },
    {
      "cell_type": "code",
      "metadata": {
        "id": "uZR154LtLA-B",
        "colab": {
          "base_uri": "https://localhost:8080/"
        },
        "outputId": "a9f8d77a-4025-4b1d-cd16-957657959172"
      },
      "source": [
        "scores, path = Peptide(\"GAT\").global_alignment(Peptide(\"GAGA\"), read_cost_table(\"BLOSUM62\"), 1)\r\n",
        "print(scores)\r\n",
        "print(path.backtrack)\r\n",
        "print(path)\r\n"
      ],
      "execution_count": 68,
      "outputs": [
        {
          "output_type": "stream",
          "text": [
            "[[ 0. -1. -2. -3. -4.]\n",
            " [-1.  6.  5.  4.  3.]\n",
            " [-2.  5. 10.  9.  8.]\n",
            " [-3.  4.  9.  8.  9.]]\n",
            "[[1. 2. 2. 2. 2.]\n",
            " [1. 0. 2. 2. 2.]\n",
            " [1. 1. 0. 2. 2.]\n",
            " [1. 1. 1. 1. 0.]]\n",
            "GA-T\n",
            "GAGA\n"
          ],
          "name": "stdout"
        }
      ]
    },
    {
      "cell_type": "code",
      "metadata": {
        "colab": {
          "base_uri": "https://localhost:8080/"
        },
        "id": "mpdmkmVCqzFJ",
        "outputId": "41dd4b1c-35fb-485c-e650-1657cad7fdd4"
      },
      "source": [
        "scores, path = Peptide(\"ILIPRQQMGCFPFPWHFDFCFWSAHHSLVVPLNPQMQTVFQNRGLDRVTVKTDCHDHRWKWIYNLGLPTMTAGDWHFIKKHVVRANNPHQWFQGRLTTAWLHSTFLYKKTEYCLVRHSNCCHCDWDQIIHTCAFIAFLDLYQRHWPMCDKLYCHFHHSWFCRNQEMSMDWNQWFPWDSVPRANCLEEGALIALYAGIWANSMKRDMKTDHACTVRLIYVCELHAWLKYCYTSINMLCGNVCLRCKSWIFVKLFYMYAPVVNTIEANSPHYYKRCCILGQGICPVERKSHCEIYAKDLLSFESCCSQKQNCYTDNWGLEYRLFFQHIQMECTDPHANRGWTSCQTAKYWHFNLDDRPPKEFYMWLQATPTDLCMYQHCLMFKIVKQNFRKQHGHANPAASTSGNWDSVYTPEKMAYKDWYVSHPPVDMRRNGSKMVPVWYPPGIWHWKQSYKLTYECFFTVPGRFHVEGTFGCNRWDHQPGTRRDRQANHQFQCPYSDTMAIWEHAYTYVDQWRSIKEGQMPMSGYPNHGQWNVHDDHTNEQERSPICNQPVLAKFVRSKNVSNHEICKKSQTVFHWACEAQTNVCERMLNNQHVAVKRNVTFWWQMVPNCLWSCHNKMTWPTRPEQHRLFFVKMRLKCMHEYLDVAPSDFCRNMQAYMHSMRAILEYQADFDLKRRLRAIAPMDLCAQYDQEIILWSGGYIYDQSLQVVSCEGCSYYADCYVKCINVKEKCMFA\").global_alignment(Peptide(\"ILYPRQSMICMSFCFWDMWKKDVPVVLMMFLERRQMQSVFSWLVTVKTDCGKGIYNHRKYLGLPTMTAGDWHWIKKQNDPHEWFQGRLETAWLHSTFLYWKYFECDAVKVCMDTFGLFGHCDWDQQIHTCTHENEPAIAFLDLYCRHSPMCDKLYPVWDMACQTCHFHHSWFCRNQEMWMKGDVDDWQWGYHYHTINSAQCNQWFKEICKDMGWDSVFPPRHNCQRHKKCMPALYAGIWMATDHACTFMVRLIYTENIAEWHQVYCYRSMNMFTCGNVCLRCKSWIFVKNYMMAPVVNDPMIEAFYKRCCILGKAWYDMWGICPVERKSHWEIYAKDLLSFESCCSQKKQNCYTDNWGLEYRLFFQSIQMNTDPHYCQTHVCWISAMFPIYSPFYTSGPKEFYMWLQARIDQNMHGHANHYVTSGNWDSVYTPEKRAGVFPVVVPVWYPPQMCNDYIKLTYECERFHVEGTFGCNRWDLGCRRYIIFQCPYCDTMKICYVDQWRSIKEGQFRMSGYPNHGYWFVHDDHTNEWCNQPVLAKFVRSKIVAICKKSQTVFHYAYTPGYNATWPQTNVCERMYGPHDNLLNNQQNVTFWWKMVPNCGMQILISCHNKMKWPTSHYVFMRLKCMHVLMQMEYLDHFTGPGEGDFCRNMQPYMHQDLHWEGSMRAILEYQAEHHRRAFRAELCAQYDQEIILWSGGWGVQDCGFHANYDGSLQVVSGEPCSMWCTTVMQYYADCWEKCMFA\"), read_cost_table(\"BLOSUM62\"))\r\n",
        "print(scores)\r\n",
        "print(path.backtrack)\r\n",
        "print(path)\r\n",
        "print(scores[-1][-1])"
      ],
      "execution_count": 69,
      "outputs": [
        {
          "output_type": "stream",
          "text": [
            "[[ 0.000e+00 -5.000e+00 -1.000e+01 ... -3.715e+03 -3.720e+03 -3.725e+03]\n",
            " [-5.000e+00  4.000e+00 -1.000e+00 ... -3.706e+03 -3.711e+03 -3.716e+03]\n",
            " [-1.000e+01 -1.000e+00  8.000e+00 ... -3.697e+03 -3.702e+03 -3.707e+03]\n",
            " ...\n",
            " [-3.660e+03 -3.651e+03 -3.642e+03 ...  1.545e+03  1.540e+03  1.535e+03]\n",
            " [-3.665e+03 -3.656e+03 -3.647e+03 ...  1.540e+03  1.551e+03  1.546e+03]\n",
            " [-3.670e+03 -3.661e+03 -3.652e+03 ...  1.535e+03  1.546e+03  1.555e+03]]\n",
            "[[1. 2. 2. ... 2. 2. 2.]\n",
            " [1. 0. 2. ... 2. 2. 2.]\n",
            " [1. 1. 0. ... 2. 2. 2.]\n",
            " ...\n",
            " [1. 1. 1. ... 0. 2. 2.]\n",
            " [1. 1. 1. ... 1. 0. 2.]\n",
            " [1. 1. 1. ... 1. 1. 0.]]\n",
            "ILIPRQQMGCFPFPWHFDFCFWSAHHSLVVP--LNP-QMQTVFQNRGLDRVTVKTDC----HDHRWKWIYNLGLPTMTAGDWHFIKKHVVRANNPHQWFQGRLTTAWLHSTFLY-KKTEYC-LVR---HS-NCC-HCDWDQIIHTCAF-----IAFLDLYQRHWPMCDKLY------C---HFHHSWFCRNQEMSM--D---W---------N--Q---WFP-------WDSV-P-RANCLE-EGALIALYAGIWANSMKRDMKTDHACT--VRLIYVCELHAWLK-YCYTSINML-CGNVCLRCKSWIFVKLFYMYAPVVNTIEANSPHYYKRCCILGQ------GICPVERKSHCEIYAKDLLSFESCCSQK-QNCYTDNWGLEYRLFFQHIQMECTDPHANRGWTSCQTAKYWHFNLDDRPP-KEFYMWLQATPTDLCMYQHCLMFKIVKQNFRKQHGHANPAASTSGNWDSVYTPEKMAYKDWYVSHPPVDMRRNGSKMVPVWYPPGIWHWKQSY-KLTYECFFTVPGRFHVEGTFGCNRWDHQPGTRRDRQANHQFQCPYSDTMAIWEHAYTYVDQWRSIKEGQMPMSGYPNHGQWNVHDDHTNEQERSPICNQPVLAKFVRSKNVSNHEICKKSQTVFHWA-C---EA---QTNVCERMLN-NQHVAV-KRNVTFWWQMVPNC----LWSCHNKMTWPTRPEQHRLFFVKMRLKCMH-----EYLD--VAPS--DFCRNMQAYMH-------SMRAILEYQADFDLKRRLRAIAPMDLCAQYDQEIILWSGGY-I--------YDQSLQVVSCEGCSYYADCYVKCI-NVKEKCMFA\n",
            "ILYPRQSMICMSFCF-WDM--WKKDVPVVLMMFLERRQMQSVF-S-WL--VTVKTDCGKGIYNHR-K--Y-LGLPTMTAGDWHWIKK---Q-NDPHEWFQGRLETAWLHSTFLYWKYFE-CDAVKVCMDTFGLFGHCDWDQQIHTCTHENEPAIAFLDLYCRHSPMCDKLYPVWDMACQTCHFHHSWFCRNQEMWMKGDVDDWQWGYHYHTINSAQCNQWFKEICKDMGWDSVFPPRHNCQRHKKCMPALYAGIW---MA----TDHACTFMVRLIYTENIAEWHQVYCYRSMNMFTCGNVCLRCKSWIFVKN-YMMAPVVNDPMIEA--FYKRCCILGKAWYDMWGICPVERKSHWEIYAKDLLSFESCCSQKKQNCYTDNWGLEYRLFFQSIQMN-TDPH----Y--CQTHVCW-ISAMF-PIYSPFYT--SG-PKEFYMW---LQARI-DQNM---HGHANHYV-TSGNWDSVYTPEKRA--G--V-FP-V-V-------VPVWYPPQMCN--D-YIKLTYEC--E---RFHVEGTFGCNRWD-L-GCRR--YII--FQCPYCDTMKI---CY--VDQWRSIKEGQFRMSGYPNHGYWFVHDDHTNEW-----CNQPVLAKFVRSKIVA---ICKKSQTVFHYAYTPGYNATWPQTNVCERMYGPHDNLLNNQQNVTFWWKMVPNCGMQILISCHNKMKWPT--S-HYVF---MRLKCMHVLMQMEYLDHFTGPGEGDFCRNMQPYMHQDLHWEGSMRAILEYQAEHH-RRAFRA----ELCAQYDQEIILWSGGWGVQDCGFHANYDGSLQVVSGEPCSMWCTTVMQYYADCWEKCMFA\n",
            "1555.0\n"
          ],
          "name": "stdout"
        }
      ]
    },
    {
      "cell_type": "code",
      "metadata": {
        "colab": {
          "base_uri": "https://localhost:8080/"
        },
        "id": "qakocCE4rNAQ",
        "outputId": "1d023c38-0d07-46d3-a79d-429af8b28db2"
      },
      "source": [
        "scores, path = Peptide(\"RAYRFVVANGFRNATIWCKPFYTRFKHSHMGYHATYNVKCWGDTPFGMAHSILGCCNMYYSFRCKWHWCIDTMAPSKVQLARILSHTTSYWHLCSGNDRWYDCCIRKWEIDQVHGHTLMMFFYMRLQCSDRHDLCIMWWSNDNNNWGVVIYNIKHRILLKAVPRQWDYMCVVYRSCHWLLPKRYDPAYLIFCWDNVQQCFEHPATEQECDICADDVYSRDVICKDPYMGTDKGHQWHMQYSPDLVYMMWHKNNHEPNFRKGKYFYDEMNAWLDCSDMTMPRGYVAIVQVSYAKKGIETPYVQGDFGSSRSFKIQKSNAYFKQPQSISNANIQYTSAIKQCHRQIWDYFWPNCCLGEHDVCQWNESLGWREPYIFRATAVSFNMQFAILISGKGPNLDPWDKGFLLPRSYCKFEYFCHKSITCKKYAYVPLMYELNFIKNNTRMVRCSNKDKKLHLRGFKDPENMPTLWALENQPSYELCYDFMYKWFTRMQNEPNNQIRLLQGQTVWKIIHQFLRRFKHFAHINMCFMRREIEYQTPWCLISCTANRAEHCMLLEFSTFSAAFPGFCWICEYEGLMRRGFVSPYTHKGLYGPVQAATGNEIYSKNDHCVFWWDTPEHYQHINVDQESNAGWKSCTAVGHYNWYEKWCWSTDGQYILRCWRNQCIEVSSQCKCWKRCCIQLRNLWGTHPYDRPRAGGPGEQIWGCYICRQWEMAAFKWQEDMTWSWWGMYFPKWCQLDLKNWLWTCMFEANINFIRKRHIYAMVDSDYKHRYRNTHQMSLSDYFCYVHEVNCVNTYFKK\").global_alignment(Peptide(\"YCLHMVKIIWCKDLYTRFKHSHMGYHATYLLTAICIFVFKCWGDTPFGCCNMYFKTSCDWDNFRCKWHWCRKVQIARILSTSYWHLVPGDQVGCCIRKWRIDKVHGHWLMMFFYGYTHCHQIRLQSDLWEWHDSCIMWWSNDNNNWGVVTHVWSQPIYNTIDICWWNRRILLKAVPVQWDYMCIVIDIFPVSCWLLPKRYDPAYLIFKMMETHDVCSFLGYEHPDVIMWTDKGHQWHMQVWQANLEHYSPDLVYMMYINFSKENNHETAPRNCGPWHARMGKYFYDEMNAWLDCSAGIETPYVQGDCIQSSNAYFKQPQYTSAIKQCHRQIWDYFWPNCCPGEHDECQWNESLFGREPYIFRATAVSDNMQFAILISGKGPNSDPWDKRCDYRWCEPFLLHRSYGHFACIFEYFNYAYVYEINMIKNNTRMVKDPENMPNLMANQPSYEMQNEPHPYTCGCTVWKITHCFLRRLKHFAHINEYSCTAEFSNFSAAFPGFCWICEYEGPIWKGLYGPVQAATGNEIYSKNDHCVFWWDHINVDQESNAGWQFTTDSCTAVGHMNWYEINYQTDGQGILRVWRNQCLEVELECIQETNLWGTHPYDRPRVSNNSHGGPGNQIWGCYIKRQWEMAAFKWQEDMTWYWWGMYFPKWCQLDLKNWYKHTLGLVTCMHDFWMRINFIRKPHIRAMVDSDQMSLSDYKCYVHEGTCVCTYWKF\"), read_cost_table(\"BLOSUM62\"))\r\n",
        "print(scores)\r\n",
        "print(path.backtrack)\r\n",
        "print(path)\r\n",
        "print(scores[-1][-1])"
      ],
      "execution_count": 70,
      "outputs": [
        {
          "output_type": "stream",
          "text": [
            "[[ 0.000e+00 -5.000e+00 -1.000e+01 ... -3.570e+03 -3.575e+03 -3.580e+03]\n",
            " [-5.000e+00 -2.000e+00 -7.000e+00 ... -3.560e+03 -3.565e+03 -3.570e+03]\n",
            " [-1.000e+01 -7.000e+00 -2.000e+00 ... -3.551e+03 -3.556e+03 -3.561e+03]\n",
            " ...\n",
            " [-3.980e+03 -3.968e+03 -3.954e+03 ...  1.747e+03  1.742e+03  1.742e+03]\n",
            " [-3.985e+03 -3.973e+03 -3.959e+03 ...  1.742e+03  1.752e+03  1.747e+03]\n",
            " [-3.990e+03 -3.978e+03 -3.964e+03 ...  1.737e+03  1.747e+03  1.749e+03]]\n",
            "[[1. 2. 2. ... 2. 2. 2.]\n",
            " [1. 0. 2. ... 2. 2. 2.]\n",
            " [1. 1. 0. ... 2. 2. 2.]\n",
            " ...\n",
            " [1. 1. 1. ... 0. 2. 0.]\n",
            " [1. 1. 1. ... 1. 0. 2.]\n",
            " [1. 1. 1. ... 1. 1. 0.]]\n",
            "RAYRFVVANGFRNATIWCKPFYTRFKHSHMGYHATY--N-----V-KCWGDTPFGMAHSILGC-CNMYYSFRCKWHWCIDTMAPSKVQLARILSHTTSYWHLCSGNDRWYDCCIRKWEIDQVHGHTLMMFFY-------MRLQCSD--R-HDLCIMWWSNDNNNWGVV-------IYN-IK----HR-ILLKAVPRQWDYMCVV---YR-SCHWLLPKRYDPAYLIFCWDNVQQCFEHPATEQECDICADDVYSRDVICKDPYMGTDKGHQWHMQ--------YSPDLVYMMW-H--K-NNHE--P-N---F--RKGKYFYDEMNAWLDCSDMTMPRGYVAIVQVSYAKKGIETPYVQGDFGSSRSFKIQKSNAYFKQPQSISNANIQYTSAIKQCHRQIWDYFWPNCCLGEHDVCQWNESL-GWREPYIFRATAVSFNMQFAILISGKGPNLDPWDKGFLLPRSYCKFEYFCHKSITCKKYAYVPLMYELNFIKNNTRMVRCSNKDKKLHLRGFKDPENMPTLWALENQPSYELCYDFMYKWFTRMQNEPNNQIRLLQGQTVWKIIHQFLRRFKHFAHINMCFMRREIEYQTPWCLISCTANRAEHCMLLEFSTFSAAFPGFCWICEYEGLMRRGFVSPYTHKGLYGPVQAATGNEIYSKNDHCVFWWDTPEHYQHINVDQESNAGWK----SCTAVGHYNWYEKWCWSTDGQYILRCWRNQCIEVSSQCKCWKRCCIQLRNLWGTHPYDRPR-A----GGPGEQIWGCYICRQWEMAAFKWQEDMTWSWWGMYFPKWCQLDLKNW----LW--TCM--FEANINFIRKRHIYAMVDSDYKHRYRNTHQMSLSDYFCYVHEVNCVNTYFKK\n",
            "--Y--CL-HMVK-I-IWCKDLYTRFKHSHMGYHATYLLTAICIFVFKCWGDTPFGCCNMYFKTSCD-WDNFRCKWHWC--R----KVQIARILS-T-SYWHLVPG-DQ-VGCCIRKWRIDKVHGHWLMMFFYGYTHCHQIRLQ-SDLWEWHDSCIMWWSNDNNNWGVVTHVWSQPIYNTIDICWWNRRILLKAVPVQWDYMCIVIDIFPVSC-WLLPKRYDPAYLIF---KMMET--H---DV-CSFLGYE-HP-DVI-----MWTDKGHQWHMQVWQANLEHYSPDLVYMMYINFSKENNHETAPRNCGPWHARMGKYFYDEMNAWLDCS---------A---------GIETPYVQGD--C-----IQSSNAYFKQPQ--------YTSAIKQCHRQIWDYFWPNCCPGEHDECQWNESLFG-REPYIFRATAVSDNMQFAILISGKGPNSDPWDK-----R--CDYRW-CEPFLLHRSYGHFACIFEY-F--NYAYVYEI-NMIKN-NTRMVKDPENMPNLMA--NQPSYE-----M-------QNEPH-PYTC--GCTVWKITHCFLRRLKHFAHIN------E--Y-------SCTA---E------FSNFSAAFPGFCWICEYEG--------PIW-KGLYGPVQAATGNEIYSKNDHCVFWWD---H---INVDQESNAGWQFTTDSCTAVGHMNWYEI-NYQTDGQGILRVWRNQCLEV--ELEC-----IQETNLWGTHPYDRPRVSNNSHGGPGNQIWGCYIKRQWEMAAFKWQEDMTWYWWGMYFPKWCQLDLKNWYKHTLGLVTCMHDFWMRINFIRKPHIRAMVDSD---------QMSLSDYKCYVHEGTCVCTYWKF\n",
            "1749.0\n"
          ],
          "name": "stdout"
        }
      ]
    },
    {
      "cell_type": "code",
      "metadata": {
        "id": "Qe5FTNNTreAt"
      },
      "source": [
        ""
      ],
      "execution_count": 70,
      "outputs": []
    }
  ]
}