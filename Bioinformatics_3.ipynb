{
  "nbformat": 4,
  "nbformat_minor": 0,
  "metadata": {
    "colab": {
      "name": "Bioinformatics 3",
      "provenance": [],
      "collapsed_sections": []
    },
    "kernelspec": {
      "name": "python3",
      "display_name": "Python 3"
    }
  },
  "cells": [
    {
      "cell_type": "code",
      "metadata": {
        "id": "AX5Z9YDXKYR6"
      },
      "source": [
        "import math\r\n",
        "\r\n",
        "def dp_change(money, coins):\r\n",
        "  # [0  1  2  3  4  5  6  7  8  9 10]\r\n",
        "  # [1 0 0 0 0 0 0 0 0 0 0]\r\n",
        "  # [0 1 0 1 0 0 0 0 0 0 0]\r\n",
        "  # [0 0 2 0 2 0 2 0 0 0 0]\r\n",
        "  # [0 0 0 3] i don't care about this situation\r\n",
        "  # [0 0 0 0 4]\r\n",
        "  possibles = [math.inf] * (money+1)\r\n",
        "  possibles[0] = 1\r\n",
        "  # assuming its always possible as if there is always a 1 coin denomination\r\n",
        "  for j in range(len(possibles)):\r\n",
        "    if possibles[j]:\r\n",
        "      for coin in coins:\r\n",
        "        if j + coin <= money:\r\n",
        "          possibles[j + coin] = min(possibles[j] + 1, possibles[j + coin])\r\n",
        "  return possibles[money] - 1"
      ],
      "execution_count": 19,
      "outputs": []
    },
    {
      "cell_type": "code",
      "metadata": {
        "colab": {
          "base_uri": "https://localhost:8080/"
        },
        "id": "GmYkufVXV3ty",
        "outputId": "c0ff78b2-c5a4-4373-f1b4-18ea2516d7b3"
      },
      "source": [
        "print(dp_change(40,[50,25,20,10,5,1]))"
      ],
      "execution_count": 20,
      "outputs": [
        {
          "output_type": "stream",
          "text": [
            "2\n"
          ],
          "name": "stdout"
        }
      ]
    },
    {
      "cell_type": "code",
      "metadata": {
        "colab": {
          "base_uri": "https://localhost:8080/"
        },
        "id": "e2mHwRCjV5my",
        "outputId": "61b5793e-d5bb-4dc5-bce3-a55060b144d1"
      },
      "source": [
        "dp_change(17028, [14,5,3,1]) # 1218"
      ],
      "execution_count": 21,
      "outputs": [
        {
          "output_type": "execute_result",
          "data": {
            "text/plain": [
              "1218"
            ]
          },
          "metadata": {
            "tags": []
          },
          "execution_count": 21
        }
      ]
    },
    {
      "cell_type": "code",
      "metadata": {
        "id": "09ypeRMkXetZ"
      },
      "source": [
        ""
      ],
      "execution_count": null,
      "outputs": []
    }
  ]
}