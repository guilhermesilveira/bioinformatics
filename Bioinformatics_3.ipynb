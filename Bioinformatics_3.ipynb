{
  "nbformat": 4,
  "nbformat_minor": 0,
  "metadata": {
    "colab": {
      "name": "Bioinformatics 3",
      "provenance": [],
      "collapsed_sections": []
    },
    "kernelspec": {
      "name": "python3",
      "display_name": "Python 3"
    }
  },
  "cells": [
    {
      "cell_type": "code",
      "metadata": {
        "id": "hRc2uXzh8AoS"
      },
      "source": [
        "import math\r\n",
        "import numpy as np"
      ],
      "execution_count": 53,
      "outputs": []
    },
    {
      "cell_type": "code",
      "metadata": {
        "id": "h69ZtdPk8E_R"
      },
      "source": [
        "import requests\r\n",
        "\r\n",
        "# reads an uri and returns its content split by line, deals with \\n and \\r\r\n",
        "def read_uri(uri):\r\n",
        "  response = requests.get(uri)\r\n",
        "  content = response.text.strip().replace(\"\\r\", \"\").split(\"\\n\")\r\n",
        "  return content"
      ],
      "execution_count": 5,
      "outputs": []
    },
    {
      "cell_type": "code",
      "metadata": {
        "id": "AX5Z9YDXKYR6"
      },
      "source": [
        "def dp_change(money, coins):\r\n",
        "  # [0  1  2  3  4  5  6  7  8  9 10]\r\n",
        "  # [1 0 0 0 0 0 0 0 0 0 0]\r\n",
        "  # [0 1 0 1 0 0 0 0 0 0 0]\r\n",
        "  # [0 0 2 0 2 0 2 0 0 0 0]\r\n",
        "  # [0 0 0 3] i don't care about this situation\r\n",
        "  # [0 0 0 0 4]\r\n",
        "  possibles = [math.inf] * (money+1)\r\n",
        "  possibles[0] = 1\r\n",
        "  # assuming its always possible as if there is always a 1 coin denomination\r\n",
        "  for j in range(len(possibles)):\r\n",
        "    if possibles[j]:\r\n",
        "      for coin in coins:\r\n",
        "        if j + coin <= money:\r\n",
        "          possibles[j + coin] = min(possibles[j] + 1, possibles[j + coin])\r\n",
        "  return possibles[money] - 1"
      ],
      "execution_count": 1,
      "outputs": []
    },
    {
      "cell_type": "code",
      "metadata": {
        "colab": {
          "base_uri": "https://localhost:8080/"
        },
        "id": "GmYkufVXV3ty",
        "outputId": "08529d19-f59c-4549-deb0-c5e91e9a6923"
      },
      "source": [
        "print(dp_change(40,[50,25,20,10,5,1]))"
      ],
      "execution_count": 2,
      "outputs": [
        {
          "output_type": "stream",
          "text": [
            "2\n"
          ],
          "name": "stdout"
        }
      ]
    },
    {
      "cell_type": "code",
      "metadata": {
        "colab": {
          "base_uri": "https://localhost:8080/"
        },
        "id": "e2mHwRCjV5my",
        "outputId": "d65b4955-b3ab-4530-91fc-a580ba7d571f"
      },
      "source": [
        "dp_change(17028, [14,5,3,1]) # 1218"
      ],
      "execution_count": 3,
      "outputs": [
        {
          "output_type": "execute_result",
          "data": {
            "text/plain": [
              "1218"
            ]
          },
          "metadata": {
            "tags": []
          },
          "execution_count": 3
        }
      ]
    },
    {
      "cell_type": "code",
      "metadata": {
        "id": "09ypeRMkXetZ"
      },
      "source": [
        "def list_string_to_ints(s):\r\n",
        "  return list(map(int, s.split()))\r\n",
        "\r\n",
        "def read_manhattan(uri):\r\n",
        "  content = read_uri(uri)\r\n",
        "  n, m = list(map(int, content[0].split()))\r\n",
        "  down = np.array(list(map(list_string_to_ints, content[1:n+1])))\r\n",
        "  right = np.array(list(map(list_string_to_ints, content[n+2:2*n+3])))\r\n",
        "  print(down, right)\r\n",
        "  return n, m, down, right"
      ],
      "execution_count": 72,
      "outputs": []
    },
    {
      "cell_type": "code",
      "metadata": {
        "colab": {
          "base_uri": "https://localhost:8080/"
        },
        "id": "XxxxP5za8QZu",
        "outputId": "c815e65a-820e-4a13-ed98-4937d5f12040"
      },
      "source": [
        "read_manhattan(\"https://raw.githubusercontent.com/guilhermesilveira/bioinformatics/main/datasets/manhattan.txt\")"
      ],
      "execution_count": 73,
      "outputs": [
        {
          "output_type": "stream",
          "text": [
            "[[1 0 2 4 3]\n",
            " [4 6 5 2 1]\n",
            " [4 4 5 2 1]\n",
            " [5 6 8 5 3]] [[3 2 4 0]\n",
            " [3 2 4 2]\n",
            " [0 7 3 3]\n",
            " [3 3 0 2]\n",
            " [1 3 2 2]]\n"
          ],
          "name": "stdout"
        },
        {
          "output_type": "execute_result",
          "data": {
            "text/plain": [
              "(4, 4, array([[1, 0, 2, 4, 3],\n",
              "        [4, 6, 5, 2, 1],\n",
              "        [4, 4, 5, 2, 1],\n",
              "        [5, 6, 8, 5, 3]]), array([[3, 2, 4, 0],\n",
              "        [3, 2, 4, 2],\n",
              "        [0, 7, 3, 3],\n",
              "        [3, 3, 0, 2],\n",
              "        [1, 3, 2, 2]]))"
            ]
          },
          "metadata": {
            "tags": []
          },
          "execution_count": 73
        }
      ]
    },
    {
      "cell_type": "code",
      "metadata": {
        "id": "K5HBCNUg9RNN"
      },
      "source": [
        "def longest_path(n, m, down, right):\r\n",
        "\r\n",
        "  print(n, m, len(down), len(right))\r\n",
        "\r\n",
        "  maximal = [0] * (m+1)\r\n",
        "  for j in range(1, m + 1):\r\n",
        "    maximal[j] = maximal[j - 1] + right[0][j - 1]\r\n",
        "\r\n",
        "  print(maximal)\r\n",
        "\r\n",
        "  for i in range(1, n+1):\r\n",
        "    new_maximal = [0] * (m + 1)\r\n",
        "    new_maximal[0] = maximal[0] + down[i - 1][0]\r\n",
        "    for j in range(1, m+1):\r\n",
        "      up = maximal[j] + down[i - 1][j]\r\n",
        "      left = new_maximal[j-1] + right[i][j - 1]\r\n",
        "      new_maximal[j] = max(up, left)\r\n",
        "    maximal = new_maximal\r\n",
        "  return maximal[m]"
      ],
      "execution_count": 74,
      "outputs": []
    },
    {
      "cell_type": "code",
      "metadata": {
        "colab": {
          "base_uri": "https://localhost:8080/"
        },
        "id": "UtiVzvx3-hTr",
        "outputId": "9779505c-4d94-4bdf-f692-497f4e573a73"
      },
      "source": [
        "longest_path(*read_manhattan(\"https://raw.githubusercontent.com/guilhermesilveira/bioinformatics/main/datasets/manhattan.txt\"))"
      ],
      "execution_count": 75,
      "outputs": [
        {
          "output_type": "stream",
          "text": [
            "[[1 0 2 4 3]\n",
            " [4 6 5 2 1]\n",
            " [4 4 5 2 1]\n",
            " [5 6 8 5 3]] [[3 2 4 0]\n",
            " [3 2 4 2]\n",
            " [0 7 3 3]\n",
            " [3 3 0 2]\n",
            " [1 3 2 2]]\n",
            "4 4 4 5\n",
            "[0, 3, 5, 9, 9]\n"
          ],
          "name": "stdout"
        },
        {
          "output_type": "execute_result",
          "data": {
            "text/plain": [
              "34"
            ]
          },
          "metadata": {
            "tags": []
          },
          "execution_count": 75
        }
      ]
    },
    {
      "cell_type": "code",
      "metadata": {
        "colab": {
          "base_uri": "https://localhost:8080/"
        },
        "id": "FSxxM-dc-kPt",
        "outputId": "e3cd5d9a-3c0f-4727-d9d7-82e40bfcc2f7"
      },
      "source": [
        "longest_path(*read_manhattan(\"https://raw.githubusercontent.com/guilhermesilveira/bioinformatics/main/datasets/dataset_261_10.txt\"))"
      ],
      "execution_count": 76,
      "outputs": [
        {
          "output_type": "stream",
          "text": [
            "[[4 3 3 1 3]\n",
            " [0 2 3 0 4]\n",
            " [3 1 2 2 4]\n",
            " [4 4 2 0 0]\n",
            " [1 2 1 4 0]\n",
            " [1 1 0 4 1]\n",
            " [1 0 1 2 0]\n",
            " [4 1 1 3 0]\n",
            " [4 2 0 1 3]\n",
            " [1 0 2 0 1]] [[3 4 0 0]\n",
            " [3 1 4 3]\n",
            " [4 1 1 1]\n",
            " [0 3 3 2]\n",
            " [4 4 1 0]\n",
            " [0 0 1 4]\n",
            " [3 0 2 3]\n",
            " [0 2 4 1]\n",
            " [3 1 4 3]\n",
            " [3 3 4 3]\n",
            " [2 1 4 2]]\n",
            "10 4 10 11\n",
            "[0, 3, 7, 7, 7]\n"
          ],
          "name": "stdout"
        },
        {
          "output_type": "execute_result",
          "data": {
            "text/plain": [
              "40"
            ]
          },
          "metadata": {
            "tags": []
          },
          "execution_count": 76
        }
      ]
    },
    {
      "cell_type": "code",
      "metadata": {
        "id": "z4C7rYA9Bjg6"
      },
      "source": [
        ""
      ],
      "execution_count": null,
      "outputs": []
    }
  ]
}